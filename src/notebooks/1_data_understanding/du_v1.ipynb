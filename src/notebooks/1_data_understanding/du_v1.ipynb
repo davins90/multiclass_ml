{
 "cells": [
  {
   "cell_type": "code",
   "execution_count": 1,
   "id": "abfb166f-804d-478b-bb11-8a4b14a66f13",
   "metadata": {},
   "outputs": [],
   "source": [
    "import pandas as pd\n",
    "\n",
    "pd.set_option('display.max_rows',None)\n",
    "pd.set_option('display.max_columns',None)"
   ]
  },
  {
   "cell_type": "markdown",
   "id": "b05a7d85-6d9c-427e-b6c4-db98bbfb5202",
   "metadata": {},
   "source": [
    "Info:"
   ]
  },
  {
   "cell_type": "markdown",
   "id": "78f89abf-8595-4fda-84c0-78822dc39f95",
   "metadata": {},
   "source": [
    "Abstract: The dataset consists of measurements of fetal heart rate (FHR) and uterine contraction (UC) features on cardiotocograms classified by expert obstetricians.\n",
    "\n"
   ]
  },
  {
   "cell_type": "markdown",
   "id": "24fbeab3-c717-46d6-8ecb-4337c858efa4",
   "metadata": {},
   "source": [
    "2126 fetal cardiotocograms (CTGs) were automatically processed and the respective diagnostic features measured. The CTGs were also classified by three expert obstetricians and a consensus classification label assigned to each of them. Classification was both with respect to a morphologic pattern (A, B, C. ...) and to a fetal state (N, S, P). Therefore the dataset can be used either for 10-class or 3-class experiments.\n",
    "\n"
   ]
  },
  {
   "cell_type": "markdown",
   "id": "47fc970c-d406-481b-96e9-da1d7b4cad61",
   "metadata": {},
   "source": [
    "Attribute Information:\n",
    " - LB - FHR baseline (beats per minute)\n",
    " - AC - # of accelerations per second\n",
    " - FM - # of fetal movements per second\n",
    " - UC - # of uterine contractions per second\n",
    " - DL - # of light decelerations per second\n",
    " - DS - # of severe decelerations per second\n",
    " - DP - # of prolongued decelerations per second\n",
    " - ASTV - percentage of time with abnormal short term variability\n",
    " - MSTV - mean value of short term variability\n",
    " - ALTV - percentage of time with abnormal long term variability\n",
    " - MLTV - mean value of long term variability\n",
    " - Width - width of FHR histogram\n",
    " - Min - minimum of FHR histogram\n",
    " - Max - Maximum of FHR histogram\n",
    " - Nmax - # of histogram peaks\n",
    " - Nzeros - # of histogram zeros\n",
    " - Mode - histogram mode\n",
    " - Mean - histogram mean\n",
    " - Median - histogram median\n",
    " - Variance - histogram variance\n",
    " - Tendency - histogram tendency\n",
    " - CLASS - FHR pattern class code (1 to 10)\n",
    " - NSP - fetal state class code (N=normal; S=suspect; P=pathologic)"
   ]
  },
  {
   "cell_type": "markdown",
   "id": "824e44e1-f81c-4422-9c56-3e6cc7993763",
   "metadata": {},
   "source": [
    "Here is the website: [link](https://archive.ics.uci.edu/ml/datasets/Cardiotocography#)"
   ]
  },
  {
   "cell_type": "markdown",
   "id": "c1e11ce2-bc7e-44d8-b997-a558bc4f73a1",
   "metadata": {},
   "source": [
    "# 1.0 Data retrieval"
   ]
  },
  {
   "cell_type": "code",
   "execution_count": 2,
   "id": "8f18cf77-c621-4ff1-9d09-a74c3adcd027",
   "metadata": {},
   "outputs": [],
   "source": [
    "df = pd.read_excel('../../data_lake/input/CTG.xls',sheet_name='Raw Data',skiprows=[1])"
   ]
  },
  {
   "cell_type": "code",
   "execution_count": 3,
   "id": "ad06fb95-c46a-44d9-8db2-e00c5f0326f7",
   "metadata": {},
   "outputs": [],
   "source": [
    "# test = pd.read_excel('https://archive.ics.uci.edu/ml/machine-learning-databases/00193/CTG.xls',sheet_name='Raw Data',skiprows=[1])"
   ]
  },
  {
   "cell_type": "markdown",
   "id": "d19959d0-41e1-402f-bf40-0f05ca820658",
   "metadata": {},
   "source": [
    "Drop last 3 rows (Error in original DB)"
   ]
  },
  {
   "cell_type": "code",
   "execution_count": 4,
   "id": "c8a558b8-007c-4ddd-b85c-74e66774a7a4",
   "metadata": {},
   "outputs": [],
   "source": [
    "df = df[:-3]"
   ]
  },
  {
   "cell_type": "code",
   "execution_count": 5,
   "id": "dd0f1126-bc2e-4f18-b4a4-d5ea8928da08",
   "metadata": {},
   "outputs": [
    {
     "data": {
      "text/html": [
       "<div>\n",
       "<style scoped>\n",
       "    .dataframe tbody tr th:only-of-type {\n",
       "        vertical-align: middle;\n",
       "    }\n",
       "\n",
       "    .dataframe tbody tr th {\n",
       "        vertical-align: top;\n",
       "    }\n",
       "\n",
       "    .dataframe thead th {\n",
       "        text-align: right;\n",
       "    }\n",
       "</style>\n",
       "<table border=\"1\" class=\"dataframe\">\n",
       "  <thead>\n",
       "    <tr style=\"text-align: right;\">\n",
       "      <th></th>\n",
       "      <th>FileName</th>\n",
       "      <th>Date</th>\n",
       "      <th>SegFile</th>\n",
       "      <th>b</th>\n",
       "      <th>e</th>\n",
       "      <th>LBE</th>\n",
       "      <th>LB</th>\n",
       "      <th>AC</th>\n",
       "      <th>FM</th>\n",
       "      <th>UC</th>\n",
       "      <th>ASTV</th>\n",
       "      <th>MSTV</th>\n",
       "      <th>ALTV</th>\n",
       "      <th>MLTV</th>\n",
       "      <th>DL</th>\n",
       "      <th>DS</th>\n",
       "      <th>DP</th>\n",
       "      <th>DR</th>\n",
       "      <th>Width</th>\n",
       "      <th>Min</th>\n",
       "      <th>Max</th>\n",
       "      <th>Nmax</th>\n",
       "      <th>Nzeros</th>\n",
       "      <th>Mode</th>\n",
       "      <th>Mean</th>\n",
       "      <th>Median</th>\n",
       "      <th>Variance</th>\n",
       "      <th>Tendency</th>\n",
       "      <th>A</th>\n",
       "      <th>B</th>\n",
       "      <th>C</th>\n",
       "      <th>D</th>\n",
       "      <th>E</th>\n",
       "      <th>AD</th>\n",
       "      <th>DE</th>\n",
       "      <th>LD</th>\n",
       "      <th>FS</th>\n",
       "      <th>SUSP</th>\n",
       "      <th>CLASS</th>\n",
       "      <th>NSP</th>\n",
       "    </tr>\n",
       "  </thead>\n",
       "  <tbody>\n",
       "    <tr>\n",
       "      <th>0</th>\n",
       "      <td>Variab10.txt</td>\n",
       "      <td>1996-12-01</td>\n",
       "      <td>CTG0001.txt</td>\n",
       "      <td>240.0</td>\n",
       "      <td>357.0</td>\n",
       "      <td>120.0</td>\n",
       "      <td>120.0</td>\n",
       "      <td>0.0</td>\n",
       "      <td>0.0</td>\n",
       "      <td>0.0</td>\n",
       "      <td>73.0</td>\n",
       "      <td>0.5</td>\n",
       "      <td>43.0</td>\n",
       "      <td>2.4</td>\n",
       "      <td>0.0</td>\n",
       "      <td>0.0</td>\n",
       "      <td>0.0</td>\n",
       "      <td>0.0</td>\n",
       "      <td>64.0</td>\n",
       "      <td>62.0</td>\n",
       "      <td>126.0</td>\n",
       "      <td>2.0</td>\n",
       "      <td>0.0</td>\n",
       "      <td>120.0</td>\n",
       "      <td>137.0</td>\n",
       "      <td>121.0</td>\n",
       "      <td>73.0</td>\n",
       "      <td>1.0</td>\n",
       "      <td>0.0</td>\n",
       "      <td>0.0</td>\n",
       "      <td>0.0</td>\n",
       "      <td>0.0</td>\n",
       "      <td>0.0</td>\n",
       "      <td>0.0</td>\n",
       "      <td>0.0</td>\n",
       "      <td>0.0</td>\n",
       "      <td>1.0</td>\n",
       "      <td>0.0</td>\n",
       "      <td>9.0</td>\n",
       "      <td>2.0</td>\n",
       "    </tr>\n",
       "  </tbody>\n",
       "</table>\n",
       "</div>"
      ],
      "text/plain": [
       "       FileName       Date      SegFile      b      e    LBE     LB   AC   FM  \\\n",
       "0  Variab10.txt 1996-12-01  CTG0001.txt  240.0  357.0  120.0  120.0  0.0  0.0   \n",
       "\n",
       "    UC  ASTV  MSTV  ALTV  MLTV   DL   DS   DP   DR  Width   Min    Max  Nmax  \\\n",
       "0  0.0  73.0   0.5  43.0   2.4  0.0  0.0  0.0  0.0   64.0  62.0  126.0   2.0   \n",
       "\n",
       "   Nzeros   Mode   Mean  Median  Variance  Tendency    A    B    C    D    E  \\\n",
       "0     0.0  120.0  137.0   121.0      73.0       1.0  0.0  0.0  0.0  0.0  0.0   \n",
       "\n",
       "    AD   DE   LD   FS  SUSP  CLASS  NSP  \n",
       "0  0.0  0.0  0.0  1.0   0.0    9.0  2.0  "
      ]
     },
     "execution_count": 5,
     "metadata": {},
     "output_type": "execute_result"
    }
   ],
   "source": [
    "df.head(1)"
   ]
  },
  {
   "cell_type": "markdown",
   "id": "05b336a5-cd20-4156-bb9b-ca7bf315b543",
   "metadata": {},
   "source": [
    "# 2.0 EDA"
   ]
  },
  {
   "cell_type": "markdown",
   "id": "6a8ae09b-9007-4128-adc7-54dc0a190329",
   "metadata": {},
   "source": [
    "Quick overview look at the dataframe"
   ]
  },
  {
   "cell_type": "code",
   "execution_count": 6,
   "id": "4700cb94-6e9e-46af-bae5-f99dd3913202",
   "metadata": {},
   "outputs": [
    {
     "name": "stdout",
     "output_type": "stream",
     "text": [
      "<class 'pandas.core.frame.DataFrame'>\n",
      "RangeIndex: 2126 entries, 0 to 2125\n",
      "Data columns (total 40 columns):\n",
      " #   Column    Non-Null Count  Dtype         \n",
      "---  ------    --------------  -----         \n",
      " 0   FileName  2126 non-null   object        \n",
      " 1   Date      2126 non-null   datetime64[ns]\n",
      " 2   SegFile   2126 non-null   object        \n",
      " 3   b         2126 non-null   float64       \n",
      " 4   e         2126 non-null   float64       \n",
      " 5   LBE       2126 non-null   float64       \n",
      " 6   LB        2126 non-null   float64       \n",
      " 7   AC        2126 non-null   float64       \n",
      " 8   FM        2126 non-null   float64       \n",
      " 9   UC        2126 non-null   float64       \n",
      " 10  ASTV      2126 non-null   float64       \n",
      " 11  MSTV      2126 non-null   float64       \n",
      " 12  ALTV      2126 non-null   float64       \n",
      " 13  MLTV      2126 non-null   float64       \n",
      " 14  DL        2126 non-null   float64       \n",
      " 15  DS        2126 non-null   float64       \n",
      " 16  DP        2126 non-null   float64       \n",
      " 17  DR        2126 non-null   float64       \n",
      " 18  Width     2126 non-null   float64       \n",
      " 19  Min       2126 non-null   float64       \n",
      " 20  Max       2126 non-null   float64       \n",
      " 21  Nmax      2126 non-null   float64       \n",
      " 22  Nzeros    2126 non-null   float64       \n",
      " 23  Mode      2126 non-null   float64       \n",
      " 24  Mean      2126 non-null   float64       \n",
      " 25  Median    2126 non-null   float64       \n",
      " 26  Variance  2126 non-null   float64       \n",
      " 27  Tendency  2126 non-null   float64       \n",
      " 28  A         2126 non-null   float64       \n",
      " 29  B         2126 non-null   float64       \n",
      " 30  C         2126 non-null   float64       \n",
      " 31  D         2126 non-null   float64       \n",
      " 32  E         2126 non-null   float64       \n",
      " 33  AD        2126 non-null   float64       \n",
      " 34  DE        2126 non-null   float64       \n",
      " 35  LD        2126 non-null   float64       \n",
      " 36  FS        2126 non-null   float64       \n",
      " 37  SUSP      2126 non-null   float64       \n",
      " 38  CLASS     2126 non-null   float64       \n",
      " 39  NSP       2126 non-null   float64       \n",
      "dtypes: datetime64[ns](1), float64(37), object(2)\n",
      "memory usage: 664.5+ KB\n"
     ]
    }
   ],
   "source": [
    "df.info()"
   ]
  },
  {
   "cell_type": "markdown",
   "id": "541f5906-9d2d-42b7-ba58-98d4d4921929",
   "metadata": {},
   "source": [
    "How many unique values for every columns?"
   ]
  },
  {
   "cell_type": "code",
   "execution_count": 7,
   "id": "8a07676e-d532-4272-bf6c-0c79ab0347bf",
   "metadata": {},
   "outputs": [
    {
     "data": {
      "text/plain": [
       "FileName     352\n",
       "Date          48\n",
       "SegFile     2126\n",
       "b            979\n",
       "e           1064\n",
       "LBE           48\n",
       "LB            48\n",
       "AC            22\n",
       "FM            96\n",
       "UC            19\n",
       "ASTV          75\n",
       "MSTV          57\n",
       "ALTV          87\n",
       "MLTV         249\n",
       "DL            15\n",
       "DS             2\n",
       "DP             5\n",
       "DR             1\n",
       "Width        154\n",
       "Min          109\n",
       "Max           86\n",
       "Nmax          18\n",
       "Nzeros         9\n",
       "Mode          88\n",
       "Mean         103\n",
       "Median        95\n",
       "Variance     133\n",
       "Tendency       3\n",
       "A              2\n",
       "B              2\n",
       "C              2\n",
       "D              2\n",
       "E              2\n",
       "AD             2\n",
       "DE             2\n",
       "LD             2\n",
       "FS             2\n",
       "SUSP           2\n",
       "CLASS         10\n",
       "NSP            3\n",
       "dtype: int64"
      ]
     },
     "execution_count": 7,
     "metadata": {},
     "output_type": "execute_result"
    }
   ],
   "source": [
    "df.nunique()"
   ]
  },
  {
   "cell_type": "code",
   "execution_count": 8,
   "id": "108f1193-9eb3-42cb-b182-6e223fc81d78",
   "metadata": {},
   "outputs": [
    {
     "data": {
      "text/html": [
       "<div>\n",
       "<style scoped>\n",
       "    .dataframe tbody tr th:only-of-type {\n",
       "        vertical-align: middle;\n",
       "    }\n",
       "\n",
       "    .dataframe tbody tr th {\n",
       "        vertical-align: top;\n",
       "    }\n",
       "\n",
       "    .dataframe thead th {\n",
       "        text-align: right;\n",
       "    }\n",
       "</style>\n",
       "<table border=\"1\" class=\"dataframe\">\n",
       "  <thead>\n",
       "    <tr style=\"text-align: right;\">\n",
       "      <th></th>\n",
       "      <th>FileName</th>\n",
       "      <th>Date</th>\n",
       "      <th>SegFile</th>\n",
       "      <th>b</th>\n",
       "      <th>e</th>\n",
       "      <th>LBE</th>\n",
       "      <th>LB</th>\n",
       "      <th>AC</th>\n",
       "      <th>FM</th>\n",
       "      <th>UC</th>\n",
       "      <th>ASTV</th>\n",
       "      <th>MSTV</th>\n",
       "      <th>ALTV</th>\n",
       "      <th>MLTV</th>\n",
       "      <th>DL</th>\n",
       "      <th>DS</th>\n",
       "      <th>DP</th>\n",
       "      <th>DR</th>\n",
       "      <th>Width</th>\n",
       "      <th>Min</th>\n",
       "      <th>Max</th>\n",
       "      <th>Nmax</th>\n",
       "      <th>Nzeros</th>\n",
       "      <th>Mode</th>\n",
       "      <th>Mean</th>\n",
       "      <th>Median</th>\n",
       "      <th>Variance</th>\n",
       "      <th>Tendency</th>\n",
       "      <th>A</th>\n",
       "      <th>B</th>\n",
       "      <th>C</th>\n",
       "      <th>D</th>\n",
       "      <th>E</th>\n",
       "      <th>AD</th>\n",
       "      <th>DE</th>\n",
       "      <th>LD</th>\n",
       "      <th>FS</th>\n",
       "      <th>SUSP</th>\n",
       "      <th>CLASS</th>\n",
       "      <th>NSP</th>\n",
       "    </tr>\n",
       "  </thead>\n",
       "  <tbody>\n",
       "    <tr>\n",
       "      <th>0</th>\n",
       "      <td>Variab10.txt</td>\n",
       "      <td>1996-12-01</td>\n",
       "      <td>CTG0001.txt</td>\n",
       "      <td>240.0</td>\n",
       "      <td>357.0</td>\n",
       "      <td>120.0</td>\n",
       "      <td>120.0</td>\n",
       "      <td>0.0</td>\n",
       "      <td>0.0</td>\n",
       "      <td>0.0</td>\n",
       "      <td>73.0</td>\n",
       "      <td>0.5</td>\n",
       "      <td>43.0</td>\n",
       "      <td>2.4</td>\n",
       "      <td>0.0</td>\n",
       "      <td>0.0</td>\n",
       "      <td>0.0</td>\n",
       "      <td>0.0</td>\n",
       "      <td>64.0</td>\n",
       "      <td>62.0</td>\n",
       "      <td>126.0</td>\n",
       "      <td>2.0</td>\n",
       "      <td>0.0</td>\n",
       "      <td>120.0</td>\n",
       "      <td>137.0</td>\n",
       "      <td>121.0</td>\n",
       "      <td>73.0</td>\n",
       "      <td>1.0</td>\n",
       "      <td>0.0</td>\n",
       "      <td>0.0</td>\n",
       "      <td>0.0</td>\n",
       "      <td>0.0</td>\n",
       "      <td>0.0</td>\n",
       "      <td>0.0</td>\n",
       "      <td>0.0</td>\n",
       "      <td>0.0</td>\n",
       "      <td>1.0</td>\n",
       "      <td>0.0</td>\n",
       "      <td>9.0</td>\n",
       "      <td>2.0</td>\n",
       "    </tr>\n",
       "  </tbody>\n",
       "</table>\n",
       "</div>"
      ],
      "text/plain": [
       "       FileName       Date      SegFile      b      e    LBE     LB   AC   FM  \\\n",
       "0  Variab10.txt 1996-12-01  CTG0001.txt  240.0  357.0  120.0  120.0  0.0  0.0   \n",
       "\n",
       "    UC  ASTV  MSTV  ALTV  MLTV   DL   DS   DP   DR  Width   Min    Max  Nmax  \\\n",
       "0  0.0  73.0   0.5  43.0   2.4  0.0  0.0  0.0  0.0   64.0  62.0  126.0   2.0   \n",
       "\n",
       "   Nzeros   Mode   Mean  Median  Variance  Tendency    A    B    C    D    E  \\\n",
       "0     0.0  120.0  137.0   121.0      73.0       1.0  0.0  0.0  0.0  0.0  0.0   \n",
       "\n",
       "    AD   DE   LD   FS  SUSP  CLASS  NSP  \n",
       "0  0.0  0.0  0.0  1.0   0.0    9.0  2.0  "
      ]
     },
     "execution_count": 8,
     "metadata": {},
     "output_type": "execute_result"
    }
   ],
   "source": [
    "df.head(1)"
   ]
  },
  {
   "cell_type": "markdown",
   "id": "4fd6db90-21b4-49e9-9934-75b949644f6d",
   "metadata": {},
   "source": [
    "It's not clear what is the real subject of this dataset: filename can be related with more segfile. The website states that the rows are more than 2000, so let's work with this info"
   ]
  },
  {
   "cell_type": "markdown",
   "id": "1d3c63d0-ea8a-400c-8987-3cab5dfc082e",
   "metadata": {},
   "source": [
    "Drop unuseful columns aka use only columns labeled as features in the webiste"
   ]
  },
  {
   "cell_type": "code",
   "execution_count": 9,
   "id": "382d4b6f-10b5-4b3c-a2a5-ec8a1ee14331",
   "metadata": {},
   "outputs": [],
   "source": [
    "df = df.drop(columns=['FileName','Date','A', 'B', 'C', 'D', 'E', 'AD', 'DE', 'LD', 'FS', 'SUSP','b','e','CLASS'])"
   ]
  },
  {
   "cell_type": "code",
   "execution_count": 10,
   "id": "31133577-1abf-443d-92d4-e28dd1ec823b",
   "metadata": {},
   "outputs": [],
   "source": [
    "# df = df.drop(columns=['FileName','Date','CLASS','b','e',])"
   ]
  },
  {
   "cell_type": "code",
   "execution_count": 11,
   "id": "05d24186-e8ba-4976-80d5-602030d70a50",
   "metadata": {},
   "outputs": [
    {
     "data": {
      "text/plain": [
       "(2126, 25)"
      ]
     },
     "execution_count": 11,
     "metadata": {},
     "output_type": "execute_result"
    }
   ],
   "source": [
    "df.shape"
   ]
  },
  {
   "cell_type": "code",
   "execution_count": 12,
   "id": "7a48a238-2ab8-4c91-b5f2-0f04509c27d0",
   "metadata": {},
   "outputs": [],
   "source": [
    "df = df.set_index('SegFile')"
   ]
  },
  {
   "cell_type": "code",
   "execution_count": 13,
   "id": "a088ec33-1cfc-44a9-9e04-a55feb2d10ad",
   "metadata": {},
   "outputs": [
    {
     "data": {
      "text/plain": [
       "(2126, 24)"
      ]
     },
     "execution_count": 13,
     "metadata": {},
     "output_type": "execute_result"
    }
   ],
   "source": [
    "df.shape"
   ]
  },
  {
   "cell_type": "code",
   "execution_count": 14,
   "id": "d4704ecd-8b0e-4722-bb8f-73746a17b249",
   "metadata": {},
   "outputs": [
    {
     "data": {
      "text/html": [
       "<div>\n",
       "<style scoped>\n",
       "    .dataframe tbody tr th:only-of-type {\n",
       "        vertical-align: middle;\n",
       "    }\n",
       "\n",
       "    .dataframe tbody tr th {\n",
       "        vertical-align: top;\n",
       "    }\n",
       "\n",
       "    .dataframe thead th {\n",
       "        text-align: right;\n",
       "    }\n",
       "</style>\n",
       "<table border=\"1\" class=\"dataframe\">\n",
       "  <thead>\n",
       "    <tr style=\"text-align: right;\">\n",
       "      <th></th>\n",
       "      <th>LBE</th>\n",
       "      <th>LB</th>\n",
       "      <th>AC</th>\n",
       "      <th>FM</th>\n",
       "      <th>UC</th>\n",
       "      <th>ASTV</th>\n",
       "      <th>MSTV</th>\n",
       "      <th>ALTV</th>\n",
       "      <th>MLTV</th>\n",
       "      <th>DL</th>\n",
       "      <th>DS</th>\n",
       "      <th>DP</th>\n",
       "      <th>DR</th>\n",
       "      <th>Width</th>\n",
       "      <th>Min</th>\n",
       "      <th>Max</th>\n",
       "      <th>Nmax</th>\n",
       "      <th>Nzeros</th>\n",
       "      <th>Mode</th>\n",
       "      <th>Mean</th>\n",
       "      <th>Median</th>\n",
       "      <th>Variance</th>\n",
       "      <th>Tendency</th>\n",
       "      <th>NSP</th>\n",
       "    </tr>\n",
       "    <tr>\n",
       "      <th>SegFile</th>\n",
       "      <th></th>\n",
       "      <th></th>\n",
       "      <th></th>\n",
       "      <th></th>\n",
       "      <th></th>\n",
       "      <th></th>\n",
       "      <th></th>\n",
       "      <th></th>\n",
       "      <th></th>\n",
       "      <th></th>\n",
       "      <th></th>\n",
       "      <th></th>\n",
       "      <th></th>\n",
       "      <th></th>\n",
       "      <th></th>\n",
       "      <th></th>\n",
       "      <th></th>\n",
       "      <th></th>\n",
       "      <th></th>\n",
       "      <th></th>\n",
       "      <th></th>\n",
       "      <th></th>\n",
       "      <th></th>\n",
       "      <th></th>\n",
       "    </tr>\n",
       "  </thead>\n",
       "  <tbody>\n",
       "    <tr>\n",
       "      <th>CTG0830.txt</th>\n",
       "      <td>152.0</td>\n",
       "      <td>152.0</td>\n",
       "      <td>0.0</td>\n",
       "      <td>0.0</td>\n",
       "      <td>4.0</td>\n",
       "      <td>58.0</td>\n",
       "      <td>0.5</td>\n",
       "      <td>59.0</td>\n",
       "      <td>7.5</td>\n",
       "      <td>1.0</td>\n",
       "      <td>0.0</td>\n",
       "      <td>0.0</td>\n",
       "      <td>0.0</td>\n",
       "      <td>54.0</td>\n",
       "      <td>110.0</td>\n",
       "      <td>164.0</td>\n",
       "      <td>3.0</td>\n",
       "      <td>2.0</td>\n",
       "      <td>159.0</td>\n",
       "      <td>155.0</td>\n",
       "      <td>158.0</td>\n",
       "      <td>4.0</td>\n",
       "      <td>1.0</td>\n",
       "      <td>1.0</td>\n",
       "    </tr>\n",
       "    <tr>\n",
       "      <th>CTG2106.txt</th>\n",
       "      <td>133.0</td>\n",
       "      <td>133.0</td>\n",
       "      <td>0.0</td>\n",
       "      <td>1.0</td>\n",
       "      <td>6.0</td>\n",
       "      <td>70.0</td>\n",
       "      <td>2.0</td>\n",
       "      <td>6.0</td>\n",
       "      <td>2.5</td>\n",
       "      <td>0.0</td>\n",
       "      <td>0.0</td>\n",
       "      <td>0.0</td>\n",
       "      <td>0.0</td>\n",
       "      <td>68.0</td>\n",
       "      <td>91.0</td>\n",
       "      <td>159.0</td>\n",
       "      <td>7.0</td>\n",
       "      <td>1.0</td>\n",
       "      <td>133.0</td>\n",
       "      <td>132.0</td>\n",
       "      <td>135.0</td>\n",
       "      <td>3.0</td>\n",
       "      <td>0.0</td>\n",
       "      <td>1.0</td>\n",
       "    </tr>\n",
       "    <tr>\n",
       "      <th>CTG1103.txt</th>\n",
       "      <td>122.0</td>\n",
       "      <td>122.0</td>\n",
       "      <td>1.0</td>\n",
       "      <td>0.0</td>\n",
       "      <td>0.0</td>\n",
       "      <td>23.0</td>\n",
       "      <td>1.6</td>\n",
       "      <td>0.0</td>\n",
       "      <td>16.2</td>\n",
       "      <td>0.0</td>\n",
       "      <td>0.0</td>\n",
       "      <td>0.0</td>\n",
       "      <td>0.0</td>\n",
       "      <td>33.0</td>\n",
       "      <td>109.0</td>\n",
       "      <td>142.0</td>\n",
       "      <td>2.0</td>\n",
       "      <td>1.0</td>\n",
       "      <td>126.0</td>\n",
       "      <td>127.0</td>\n",
       "      <td>128.0</td>\n",
       "      <td>3.0</td>\n",
       "      <td>0.0</td>\n",
       "      <td>1.0</td>\n",
       "    </tr>\n",
       "  </tbody>\n",
       "</table>\n",
       "</div>"
      ],
      "text/plain": [
       "               LBE     LB   AC   FM   UC  ASTV  MSTV  ALTV  MLTV   DL   DS  \\\n",
       "SegFile                                                                      \n",
       "CTG0830.txt  152.0  152.0  0.0  0.0  4.0  58.0   0.5  59.0   7.5  1.0  0.0   \n",
       "CTG2106.txt  133.0  133.0  0.0  1.0  6.0  70.0   2.0   6.0   2.5  0.0  0.0   \n",
       "CTG1103.txt  122.0  122.0  1.0  0.0  0.0  23.0   1.6   0.0  16.2  0.0  0.0   \n",
       "\n",
       "              DP   DR  Width    Min    Max  Nmax  Nzeros   Mode   Mean  \\\n",
       "SegFile                                                                  \n",
       "CTG0830.txt  0.0  0.0   54.0  110.0  164.0   3.0     2.0  159.0  155.0   \n",
       "CTG2106.txt  0.0  0.0   68.0   91.0  159.0   7.0     1.0  133.0  132.0   \n",
       "CTG1103.txt  0.0  0.0   33.0  109.0  142.0   2.0     1.0  126.0  127.0   \n",
       "\n",
       "             Median  Variance  Tendency  NSP  \n",
       "SegFile                                       \n",
       "CTG0830.txt   158.0       4.0       1.0  1.0  \n",
       "CTG2106.txt   135.0       3.0       0.0  1.0  \n",
       "CTG1103.txt   128.0       3.0       0.0  1.0  "
      ]
     },
     "execution_count": 14,
     "metadata": {},
     "output_type": "execute_result"
    }
   ],
   "source": [
    "df.sample(3)"
   ]
  },
  {
   "cell_type": "markdown",
   "id": "753ff17d-52a5-4c02-8c3d-e9890d1a8080",
   "metadata": {},
   "source": [
    "# 3.0 Ouput"
   ]
  },
  {
   "cell_type": "code",
   "execution_count": 15,
   "id": "75aaf5cd-5f8b-4620-83f7-f31bf2bda01a",
   "metadata": {},
   "outputs": [],
   "source": [
    "df.to_pickle('../../data_lake/output/1_du.pkl')"
   ]
  },
  {
   "cell_type": "code",
   "execution_count": null,
   "id": "abc6d7ee-b033-43cc-afd0-34ca9e1818a5",
   "metadata": {},
   "outputs": [],
   "source": []
  }
 ],
 "metadata": {
  "kernelspec": {
   "display_name": "Python 3",
   "language": "python",
   "name": "python3"
  },
  "language_info": {
   "codemirror_mode": {
    "name": "ipython",
    "version": 3
   },
   "file_extension": ".py",
   "mimetype": "text/x-python",
   "name": "python",
   "nbconvert_exporter": "python",
   "pygments_lexer": "ipython3",
   "version": "3.9.2"
  }
 },
 "nbformat": 4,
 "nbformat_minor": 5
}
