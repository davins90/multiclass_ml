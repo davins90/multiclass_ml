{
 "cells": [
  {
   "cell_type": "code",
   "execution_count": 1,
   "id": "abfb166f-804d-478b-bb11-8a4b14a66f13",
   "metadata": {},
   "outputs": [],
   "source": [
    "import pandas as pd\n",
    "\n",
    "pd.set_option('display.max_rows',None)\n",
    "pd.set_option('display.max_columns',None)"
   ]
  },
  {
   "cell_type": "markdown",
   "id": "c1e11ce2-bc7e-44d8-b997-a558bc4f73a1",
   "metadata": {},
   "source": [
    "# 1.0 Data retrieval"
   ]
  },
  {
   "cell_type": "code",
   "execution_count": 2,
   "id": "8f18cf77-c621-4ff1-9d09-a74c3adcd027",
   "metadata": {},
   "outputs": [],
   "source": [
    "df = pd.read_excel('../../data_lake/input/CTG.xls',sheet_name='Raw Data',skiprows=[1])"
   ]
  },
  {
   "cell_type": "code",
   "execution_count": 3,
   "id": "dd0f1126-bc2e-4f18-b4a4-d5ea8928da08",
   "metadata": {},
   "outputs": [
    {
     "data": {
      "text/html": [
       "<div>\n",
       "<style scoped>\n",
       "    .dataframe tbody tr th:only-of-type {\n",
       "        vertical-align: middle;\n",
       "    }\n",
       "\n",
       "    .dataframe tbody tr th {\n",
       "        vertical-align: top;\n",
       "    }\n",
       "\n",
       "    .dataframe thead th {\n",
       "        text-align: right;\n",
       "    }\n",
       "</style>\n",
       "<table border=\"1\" class=\"dataframe\">\n",
       "  <thead>\n",
       "    <tr style=\"text-align: right;\">\n",
       "      <th></th>\n",
       "      <th>FileName</th>\n",
       "      <th>Date</th>\n",
       "      <th>SegFile</th>\n",
       "      <th>b</th>\n",
       "      <th>e</th>\n",
       "      <th>LBE</th>\n",
       "      <th>LB</th>\n",
       "      <th>AC</th>\n",
       "      <th>FM</th>\n",
       "      <th>UC</th>\n",
       "      <th>ASTV</th>\n",
       "      <th>MSTV</th>\n",
       "      <th>ALTV</th>\n",
       "      <th>MLTV</th>\n",
       "      <th>DL</th>\n",
       "      <th>DS</th>\n",
       "      <th>DP</th>\n",
       "      <th>DR</th>\n",
       "      <th>Width</th>\n",
       "      <th>Min</th>\n",
       "      <th>Max</th>\n",
       "      <th>Nmax</th>\n",
       "      <th>Nzeros</th>\n",
       "      <th>Mode</th>\n",
       "      <th>Mean</th>\n",
       "      <th>Median</th>\n",
       "      <th>Variance</th>\n",
       "      <th>Tendency</th>\n",
       "      <th>A</th>\n",
       "      <th>B</th>\n",
       "      <th>C</th>\n",
       "      <th>D</th>\n",
       "      <th>E</th>\n",
       "      <th>AD</th>\n",
       "      <th>DE</th>\n",
       "      <th>LD</th>\n",
       "      <th>FS</th>\n",
       "      <th>SUSP</th>\n",
       "      <th>CLASS</th>\n",
       "      <th>NSP</th>\n",
       "    </tr>\n",
       "  </thead>\n",
       "  <tbody>\n",
       "    <tr>\n",
       "      <th>0</th>\n",
       "      <td>Variab10.txt</td>\n",
       "      <td>1996-12-01</td>\n",
       "      <td>CTG0001.txt</td>\n",
       "      <td>240.0</td>\n",
       "      <td>357.0</td>\n",
       "      <td>120.0</td>\n",
       "      <td>120.0</td>\n",
       "      <td>0.0</td>\n",
       "      <td>0.0</td>\n",
       "      <td>0.0</td>\n",
       "      <td>73.0</td>\n",
       "      <td>0.5</td>\n",
       "      <td>43.0</td>\n",
       "      <td>2.4</td>\n",
       "      <td>0.0</td>\n",
       "      <td>0.0</td>\n",
       "      <td>0.0</td>\n",
       "      <td>0.0</td>\n",
       "      <td>64.0</td>\n",
       "      <td>62.0</td>\n",
       "      <td>126.0</td>\n",
       "      <td>2.0</td>\n",
       "      <td>0.0</td>\n",
       "      <td>120.0</td>\n",
       "      <td>137.0</td>\n",
       "      <td>121.0</td>\n",
       "      <td>73.0</td>\n",
       "      <td>1.0</td>\n",
       "      <td>0.0</td>\n",
       "      <td>0.0</td>\n",
       "      <td>0.0</td>\n",
       "      <td>0.0</td>\n",
       "      <td>0.0</td>\n",
       "      <td>0.0</td>\n",
       "      <td>0.0</td>\n",
       "      <td>0.0</td>\n",
       "      <td>1.0</td>\n",
       "      <td>0.0</td>\n",
       "      <td>9.0</td>\n",
       "      <td>2.0</td>\n",
       "    </tr>\n",
       "  </tbody>\n",
       "</table>\n",
       "</div>"
      ],
      "text/plain": [
       "       FileName       Date      SegFile      b      e    LBE     LB   AC   FM  \\\n",
       "0  Variab10.txt 1996-12-01  CTG0001.txt  240.0  357.0  120.0  120.0  0.0  0.0   \n",
       "\n",
       "    UC  ASTV  MSTV  ALTV  MLTV   DL   DS   DP   DR  Width   Min    Max  Nmax  \\\n",
       "0  0.0  73.0   0.5  43.0   2.4  0.0  0.0  0.0  0.0   64.0  62.0  126.0   2.0   \n",
       "\n",
       "   Nzeros   Mode   Mean  Median  Variance  Tendency    A    B    C    D    E  \\\n",
       "0     0.0  120.0  137.0   121.0      73.0       1.0  0.0  0.0  0.0  0.0  0.0   \n",
       "\n",
       "    AD   DE   LD   FS  SUSP  CLASS  NSP  \n",
       "0  0.0  0.0  0.0  1.0   0.0    9.0  2.0  "
      ]
     },
     "execution_count": 3,
     "metadata": {},
     "output_type": "execute_result"
    }
   ],
   "source": [
    "df.head(1)"
   ]
  },
  {
   "cell_type": "code",
   "execution_count": 4,
   "id": "4700cb94-6e9e-46af-bae5-f99dd3913202",
   "metadata": {},
   "outputs": [
    {
     "data": {
      "text/plain": [
       "(2129, 40)"
      ]
     },
     "execution_count": 4,
     "metadata": {},
     "output_type": "execute_result"
    }
   ],
   "source": [
    "df.shape"
   ]
  },
  {
   "cell_type": "markdown",
   "id": "e3105071-4cac-4138-a78b-d4fe04263746",
   "metadata": {},
   "source": [
    "Test in lettura dal pc di sky"
   ]
  },
  {
   "cell_type": "markdown",
   "id": "b05a7d85-6d9c-427e-b6c4-db98bbfb5202",
   "metadata": {},
   "source": [
    "Info:"
   ]
  },
  {
   "cell_type": "markdown",
   "id": "24fbeab3-c717-46d6-8ecb-4337c858efa4",
   "metadata": {},
   "source": [
    "2126 fetal cardiotocograms (CTGs) were automatically processed and the respective diagnostic features measured. The CTGs were also classified by three expert obstetricians and a consensus classification label assigned to each of them. Classification was both with respect to a morphologic pattern (A, B, C. ...) and to a fetal state (N, S, P). Therefore the dataset can be used either for 10-class or 3-class experiments.\n",
    "\n"
   ]
  },
  {
   "cell_type": "markdown",
   "id": "78f89abf-8595-4fda-84c0-78822dc39f95",
   "metadata": {},
   "source": [
    "Abstract: The dataset consists of measurements of fetal heart rate (FHR) and uterine contraction (UC) features on cardiotocograms classified by expert obstetricians.\n",
    "\n"
   ]
  },
  {
   "cell_type": "markdown",
   "id": "47fc970c-d406-481b-96e9-da1d7b4cad61",
   "metadata": {},
   "source": [
    "Attribute Information:\n",
    " - LB - FHR baseline (beats per minute)\n",
    " - AC - # of accelerations per second\n",
    " - FM - # of fetal movements per second\n",
    " - UC - # of uterine contractions per second\n",
    " - DL - # of light decelerations per second\n",
    " - DS - # of severe decelerations per second\n",
    " - DP - # of prolongued decelerations per second\n",
    " - ASTV - percentage of time with abnormal short term variability\n",
    " - MSTV - mean value of short term variability\n",
    " - ALTV - percentage of time with abnormal long term variability\n",
    " - MLTV - mean value of long term variability\n",
    " - Width - width of FHR histogram\n",
    " - Min - minimum of FHR histogram\n",
    " - Max - Maximum of FHR histogram\n",
    " - Nmax - # of histogram peaks\n",
    " - Nzeros - # of histogram zeros\n",
    " - Mode - histogram mode\n",
    " - Mean - histogram mean\n",
    " - Median - histogram median\n",
    " - Variance - histogram variance\n",
    " - Tendency - histogram tendency\n",
    " - CLASS - FHR pattern class code (1 to 10)\n",
    " - NSP - fetal state class code (N=normal; S=suspect; P=pathologic)"
   ]
  },
  {
   "cell_type": "markdown",
   "id": "824e44e1-f81c-4422-9c56-3e6cc7993763",
   "metadata": {},
   "source": [
    "Here is the website: [link](https://archive.ics.uci.edu/ml/datasets/Cardiotocography#)"
   ]
  },
  {
   "cell_type": "code",
   "execution_count": null,
   "id": "8a07676e-d532-4272-bf6c-0c79ab0347bf",
   "metadata": {},
   "outputs": [],
   "source": []
  }
 ],
 "metadata": {
  "kernelspec": {
   "display_name": "Python 3",
   "language": "python",
   "name": "python3"
  },
  "language_info": {
   "codemirror_mode": {
    "name": "ipython",
    "version": 3
   },
   "file_extension": ".py",
   "mimetype": "text/x-python",
   "name": "python",
   "nbconvert_exporter": "python",
   "pygments_lexer": "ipython3",
   "version": "3.9.2"
  }
 },
 "nbformat": 4,
 "nbformat_minor": 5
}
