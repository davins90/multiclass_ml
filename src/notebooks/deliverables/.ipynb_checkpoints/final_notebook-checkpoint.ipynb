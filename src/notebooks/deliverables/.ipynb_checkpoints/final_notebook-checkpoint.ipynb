{
 "cells": [
  {
   "cell_type": "code",
   "execution_count": 1,
   "id": "d4b583a3-dad6-440f-9319-0e7efaf8f746",
   "metadata": {},
   "outputs": [],
   "source": [
    "import pandas as pd\n",
    "import numpy as np\n",
    "import modules\n",
    "import random\n",
    "\n",
    "from scipy.stats import beta\n",
    "from modules import ml_functions\n",
    "import matplotlib.pyplot as plt\n",
    "\n",
    "pd.set_option('display.max_rows',None)\n",
    "pd.set_option('display.max_columns',None)"
   ]
  },
  {
   "cell_type": "markdown",
   "id": "899aafe9-e486-4f13-9a45-de7ff4c0cef5",
   "metadata": {},
   "source": [
    "# 1.0 Data retrieval"
   ]
  },
  {
   "cell_type": "code",
   "execution_count": 2,
   "id": "813cfb5b-1304-4cd5-882d-bbadfe5e06cf",
   "metadata": {},
   "outputs": [],
   "source": [
    "df = pd.read_excel('../../data_lake/input/CTG.xls',sheet_name='Raw Data',skiprows=[1])"
   ]
  },
  {
   "cell_type": "code",
   "execution_count": 3,
   "id": "9382e065-48d5-4656-8a61-b039159b1bbb",
   "metadata": {},
   "outputs": [],
   "source": [
    "df = df[:-3]"
   ]
  },
  {
   "cell_type": "markdown",
   "id": "9ea18726-5935-4706-b411-8a2ba0d0d69e",
   "metadata": {},
   "source": [
    "# 2.0 Data preparation"
   ]
  },
  {
   "cell_type": "code",
   "execution_count": 4,
   "id": "328d3811-9a44-44e1-811f-d50cd8df3520",
   "metadata": {},
   "outputs": [],
   "source": [
    "df = df.drop(columns=['FileName','Date','A', 'B', 'C', 'D', 'E', 'AD', 'DE', 'LD', 'FS', 'SUSP','b','e','CLASS'])"
   ]
  },
  {
   "cell_type": "code",
   "execution_count": 5,
   "id": "df097537-ad3c-4fb0-97c4-c6e4003a4dc7",
   "metadata": {},
   "outputs": [],
   "source": [
    "df = df.set_index('SegFile')"
   ]
  },
  {
   "cell_type": "code",
   "execution_count": 6,
   "id": "ee1ae054-b7c2-44a3-bb42-8d8601bce836",
   "metadata": {},
   "outputs": [],
   "source": [
    "for i in df:\n",
    "    if df[i].nunique() == 1:\n",
    "        df = df.drop(columns=i)"
   ]
  },
  {
   "cell_type": "code",
   "execution_count": 7,
   "id": "ad71564e-d4cc-4c76-8afd-c0c71cb9b644",
   "metadata": {},
   "outputs": [],
   "source": [
    "df['Tendency'] = df['Tendency'].astype(str)\n",
    "df['NSP'] = df['NSP'].astype(str)"
   ]
  },
  {
   "cell_type": "markdown",
   "id": "4aa39f69-44f0-42b2-8776-c1881119a56f",
   "metadata": {},
   "source": [
    "# 3.0 Modeling"
   ]
  },
  {
   "cell_type": "code",
   "execution_count": 8,
   "id": "73de8a48-f164-4dd5-8b6c-76031a458fb4",
   "metadata": {},
   "outputs": [],
   "source": [
    "df_ml = df.copy()"
   ]
  },
  {
   "cell_type": "markdown",
   "id": "43c41ffb-7a1e-485b-ae17-26c132a40826",
   "metadata": {},
   "source": [
    "## 3.1 Classe 1 - Normale"
   ]
  },
  {
   "cell_type": "code",
   "execution_count": 9,
   "id": "6fb1b39c-e969-4056-8ec8-96969a2b9361",
   "metadata": {},
   "outputs": [],
   "source": [
    "class_nsp = 1.0"
   ]
  },
  {
   "cell_type": "code",
   "execution_count": null,
   "id": "f8e426b5-114b-49c1-8fcf-5d577746f4f3",
   "metadata": {},
   "outputs": [],
   "source": [
    "df_model, df_ml = ml_functions.model_preparation(df_ml,class_nsp)\n",
    "X_train, X_test, y_train, y_test, numerical_cols, categorical_cols, parameters = ml_functions.data_splitting(df_model)\n",
    "model = ml_functions.model_training(X_train, y_train, numerical_cols, categorical_cols, parameters)\n",
    "model = ml_functions.model_evaluation(model,X_test,y_test)\n",
    "df = ml_functions.model_serving(df,model,class_nsp,X_test)\n",
    "df['proba_classe_1.0'].hist()"
   ]
  },
  {
   "cell_type": "markdown",
   "id": "b352db8b-8ff7-4922-ae4a-c2e1fc8f90cc",
   "metadata": {},
   "source": [
    "## 3.2 Classe 2 - Sospetti"
   ]
  },
  {
   "cell_type": "code",
   "execution_count": 11,
   "id": "de4770cb-84a4-486a-9d82-111fb38faf8d",
   "metadata": {},
   "outputs": [],
   "source": [
    "class_nsp = 2.0"
   ]
  },
  {
   "cell_type": "code",
   "execution_count": null,
   "id": "d9d67bd7-fc86-476e-8bc9-83a938a96938",
   "metadata": {},
   "outputs": [],
   "source": [
    "df_model, df_ml = ml_functions.model_preparation(df_ml,class_nsp)\n",
    "X_train, X_test, y_train, y_test, numerical_cols, categorical_cols, parameters = ml_functions.data_splitting(df_model)\n",
    "model = ml_functions.model_training(X_train, y_train, numerical_cols, categorical_cols, parameters)\n",
    "model = ml_functions.model_evaluation(model,X_test,y_test)\n",
    "df = ml_functions.model_serving(df,model,class_nsp,X_test)\n",
    "df['proba_classe_2.0'].hist()"
   ]
  },
  {
   "cell_type": "markdown",
   "id": "f0073edf-caed-4fae-be2c-d9427ba8be73",
   "metadata": {},
   "source": [
    "## 3.3 Classe 3 - Anormale"
   ]
  },
  {
   "cell_type": "code",
   "execution_count": null,
   "id": "3267e470-1427-49ff-a63a-0b4de10a2fb8",
   "metadata": {},
   "outputs": [],
   "source": [
    "class_nsp = 3.0"
   ]
  },
  {
   "cell_type": "code",
   "execution_count": null,
   "id": "ec0d76ad-ce9f-485d-8d54-4176ebacc053",
   "metadata": {},
   "outputs": [],
   "source": [
    "df_model, df_ml = ml_functions.model_preparation(df_ml,class_nsp)\n",
    "X_train, X_test, y_train, y_test, numerical_cols, categorical_cols, parameters = ml_functions.data_splitting(df_model)\n",
    "model = ml_functions.model_training(X_train, y_train, numerical_cols, categorical_cols, parameters)\n",
    "model = ml_functions.model_evaluation(model,X_test,y_test)\n",
    "df = ml_functions.model_serving(df,model,class_nsp,X_test)\n",
    "df['proba_classe_3.0'].hist()"
   ]
  },
  {
   "cell_type": "markdown",
   "id": "a1f2ecdb-7cb8-47d6-b048-2ce723059159",
   "metadata": {},
   "source": [
    "# 4.0 Normalizing results"
   ]
  },
  {
   "cell_type": "code",
   "execution_count": null,
   "id": "e4beaa8f-4965-496d-b4e6-d2b5f9b4ae24",
   "metadata": {},
   "outputs": [],
   "source": [
    "cols = ['proba_classe_1.0','proba_classe_2.0', 'proba_classe_3.0']"
   ]
  },
  {
   "cell_type": "code",
   "execution_count": null,
   "id": "cceb22c6-ca22-44c4-9e75-b7870d1e719b",
   "metadata": {},
   "outputs": [],
   "source": [
    "df[cols] = df[cols].apply(lambda x: x / x.sum(),axis=1)"
   ]
  },
  {
   "cell_type": "markdown",
   "id": "ee447b74-6442-4366-b2b3-4ba5bff78d31",
   "metadata": {},
   "source": [
    "# 5.0 Beta Inference"
   ]
  },
  {
   "cell_type": "code",
   "execution_count": null,
   "id": "e4801c67-60f4-4a55-bd68-ab1261975226",
   "metadata": {},
   "outputs": [],
   "source": [
    "xax = np.linspace(0,1.0,100)"
   ]
  },
  {
   "cell_type": "code",
   "execution_count": null,
   "id": "51297ce6-af45-4f1a-b082-f15e25fff093",
   "metadata": {},
   "outputs": [],
   "source": [
    "num_classe = dict()\n",
    "tot = 0\n",
    "for i in df['NSP'].unique():\n",
    "    num = df[df['NSP']==i].shape[0]\n",
    "    tot = tot + num\n",
    "    num_classe[i] = dict()\n",
    "    num_classe[i]['num'] = num"
   ]
  },
  {
   "cell_type": "code",
   "execution_count": null,
   "id": "9cfb5e27-7f93-4cdc-b57e-77321e21bf54",
   "metadata": {},
   "outputs": [],
   "source": [
    "for i in num_classe:\n",
    "    num_classe[i]['wei'] = num_classe[i]['num'] / tot\n",
    "    num_classe[i]['k'] = num_classe[i]['num'] * num_classe[i]['wei']"
   ]
  },
  {
   "cell_type": "code",
   "execution_count": null,
   "id": "0c2ca3e2-6035-4404-a2a7-a9a34919bd78",
   "metadata": {},
   "outputs": [],
   "source": [
    "df['proba_classe_1.0_beta'] = df['proba_classe_1.0'].apply(lambda x: beta.pdf(xax,(x * (num_classe['1.0']['k']-2)+1),((1-x) * (num_classe['1.0']['k']-2)+1)))\n",
    "df['proba_classe_2.0_beta'] = df['proba_classe_2.0'].apply(lambda x: beta.pdf(xax,(x * (num_classe['2.0']['k']-2)+1),((1-x) * (num_classe['2.0']['k']-2)+1)))\n",
    "df['proba_classe_3.0_beta'] = df['proba_classe_3.0'].apply(lambda x: beta.pdf(xax,(x * (num_classe['3.0']['k']-2)+1),((1-x) * (num_classe['3.0']['k']-2)+1)))"
   ]
  },
  {
   "cell_type": "markdown",
   "id": "98f818e9-b6b2-4403-852f-07defdc2d453",
   "metadata": {},
   "source": [
    "Visual check"
   ]
  },
  {
   "cell_type": "code",
   "execution_count": null,
   "id": "a310cd23-47d4-4566-9001-752713ec6194",
   "metadata": {},
   "outputs": [],
   "source": [
    "index = random.randint(0,2126)"
   ]
  },
  {
   "cell_type": "code",
   "execution_count": null,
   "id": "e8981cea-a329-4f8c-8cb8-a61c635ff1b2",
   "metadata": {},
   "outputs": [],
   "source": [
    "plt.plot(df['proba_classe_1.0_beta'][index],label='1.0')\n",
    "plt.plot(df['proba_classe_2.0_beta'][index],label='2.0')\n",
    "plt.plot(df['proba_classe_3.0_beta'][index],label='3.0')\n",
    "plt.legend()"
   ]
  },
  {
   "cell_type": "markdown",
   "id": "d30ecd0d-3071-47f9-a7d4-69df363e06e7",
   "metadata": {},
   "source": [
    "# 6.0 Output"
   ]
  },
  {
   "cell_type": "code",
   "execution_count": null,
   "id": "820030f7-5726-4943-9af1-f6b0527d798e",
   "metadata": {},
   "outputs": [],
   "source": [
    "df.sample(2)"
   ]
  }
 ],
 "metadata": {
  "kernelspec": {
   "display_name": "Python 3",
   "language": "python",
   "name": "python3"
  },
  "language_info": {
   "codemirror_mode": {
    "name": "ipython",
    "version": 3
   },
   "file_extension": ".py",
   "mimetype": "text/x-python",
   "name": "python",
   "nbconvert_exporter": "python",
   "pygments_lexer": "ipython3",
   "version": "3.9.2"
  }
 },
 "nbformat": 4,
 "nbformat_minor": 5
}
