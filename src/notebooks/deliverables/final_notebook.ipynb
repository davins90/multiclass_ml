{
 "cells": [
  {
   "cell_type": "code",
   "execution_count": 1,
   "id": "d4b583a3-dad6-440f-9319-0e7efaf8f746",
   "metadata": {},
   "outputs": [],
   "source": [
    "import pandas as pd\n",
    "import numpy as np\n",
    "import modules\n",
    "import random\n",
    "\n",
    "from scipy.stats import beta\n",
    "from modules import ml_functions\n",
    "import matplotlib.pyplot as plt\n",
    "\n",
    "pd.set_option('display.max_rows',None)\n",
    "pd.set_option('display.max_columns',None)"
   ]
  },
  {
   "cell_type": "markdown",
   "id": "899aafe9-e486-4f13-9a45-de7ff4c0cef5",
   "metadata": {},
   "source": [
    "# 1.0 Data retrieval"
   ]
  },
  {
   "cell_type": "code",
   "execution_count": 2,
   "id": "813cfb5b-1304-4cd5-882d-bbadfe5e06cf",
   "metadata": {},
   "outputs": [],
   "source": [
    "df = pd.read_excel('../../data_lake/input/CTG.xls',sheet_name='Raw Data',skiprows=[1])"
   ]
  },
  {
   "cell_type": "code",
   "execution_count": 3,
   "id": "9382e065-48d5-4656-8a61-b039159b1bbb",
   "metadata": {},
   "outputs": [],
   "source": [
    "df = df[:-3]"
   ]
  },
  {
   "cell_type": "markdown",
   "id": "9ea18726-5935-4706-b411-8a2ba0d0d69e",
   "metadata": {},
   "source": [
    "# 2.0 Data preparation"
   ]
  },
  {
   "cell_type": "code",
   "execution_count": 4,
   "id": "328d3811-9a44-44e1-811f-d50cd8df3520",
   "metadata": {},
   "outputs": [],
   "source": [
    "df = df.drop(columns=['FileName','Date','A', 'B', 'C', 'D', 'E', 'AD', 'DE', 'LD', 'FS', 'SUSP','b','e','CLASS'])"
   ]
  },
  {
   "cell_type": "code",
   "execution_count": 5,
   "id": "df097537-ad3c-4fb0-97c4-c6e4003a4dc7",
   "metadata": {},
   "outputs": [],
   "source": [
    "df = df.set_index('SegFile')"
   ]
  },
  {
   "cell_type": "code",
   "execution_count": 6,
   "id": "ee1ae054-b7c2-44a3-bb42-8d8601bce836",
   "metadata": {},
   "outputs": [],
   "source": [
    "for i in df:\n",
    "    if df[i].nunique() == 1:\n",
    "        df = df.drop(columns=i)"
   ]
  },
  {
   "cell_type": "code",
   "execution_count": 7,
   "id": "ad71564e-d4cc-4c76-8afd-c0c71cb9b644",
   "metadata": {},
   "outputs": [],
   "source": [
    "df['Tendency'] = df['Tendency'].astype(str)\n",
    "df['NSP'] = df['NSP'].astype(str)"
   ]
  },
  {
   "cell_type": "markdown",
   "id": "4aa39f69-44f0-42b2-8776-c1881119a56f",
   "metadata": {},
   "source": [
    "# 3.0 Modeling"
   ]
  },
  {
   "cell_type": "code",
   "execution_count": 8,
   "id": "73de8a48-f164-4dd5-8b6c-76031a458fb4",
   "metadata": {},
   "outputs": [],
   "source": [
    "df_ml = df.copy()"
   ]
  },
  {
   "cell_type": "markdown",
   "id": "43c41ffb-7a1e-485b-ae17-26c132a40826",
   "metadata": {},
   "source": [
    "## 3.1 Classe 1 - Normale"
   ]
  },
  {
   "cell_type": "code",
   "execution_count": 9,
   "id": "6fb1b39c-e969-4056-8ec8-96969a2b9361",
   "metadata": {},
   "outputs": [],
   "source": [
    "class_nsp = 1.0"
   ]
  },
  {
   "cell_type": "code",
   "execution_count": 10,
   "id": "f8e426b5-114b-49c1-8fcf-5d577746f4f3",
   "metadata": {},
   "outputs": [
    {
     "name": "stdout",
     "output_type": "stream",
     "text": [
      "(942, 22)\n",
      "AUC Score:  0.5594313175810973\n",
      "Adversarial validation check: NO CONCEPT DRIFT: Train and Test set are statistical similar\n",
      "GridSearchCV results...\n",
      "Mean Train Scores: \n",
      "[0.97244563 0.97543512 0.98472808 0.9863881 ]\n",
      "\n",
      "Mean CV Scores: \n",
      "[0.93231788 0.93363355 0.93763355 0.93099338]\n",
      "\n",
      "Best Parameters: \n",
      "{'model__depth': 4, 'model__iterations': 500}\n",
      "\n",
      "Test results...\n",
      "Model Test Accuracy: 0.9312169312169312\n",
      "--------------------------------------------------\n",
      "Model Test Confusion Matrix\n",
      "First ten features by importances:\n",
      "['AC', 'ASTV', 'MSTV', 'ALTV', 'Mean', 'DP', 'Mode', 'UC', 'Variance', 'Median']\n"
     ]
    },
    {
     "data": {
      "text/plain": [
       "<AxesSubplot:xlabel='Predicted label', ylabel='True label'>"
      ]
     },
     "execution_count": 10,
     "metadata": {},
     "output_type": "execute_result"
    },
    {
     "data": {
      "image/png": "[encoded data removed]",
      "text/plain": [
       "<Figure size 432x288 with 2 Axes>"
      ]
     },
     "metadata": {
      "needs_background": "light"
     },
     "output_type": "display_data"
    }
   ],
   "source": [
    "df_model, df_ml = ml_functions.model_preparation(df_ml,class_nsp)\n",
    "X_train, X_test, y_train, y_test, numerical_cols, categorical_cols, parameters = ml_functions.data_splitting(df_model)\n",
    "model = ml_functions.model_training(X_train, y_train, numerical_cols, categorical_cols, parameters)\n",
    "model = ml_functions.model_evaluation(model,X_test,y_test)\n",
    "df = ml_functions.model_serving(df,model,class_nsp,X_test)\n",
    "df['proba_classe_1.0'].hist()"
   ]
  },
  {
   "cell_type": "markdown",
   "id": "b352db8b-8ff7-4922-ae4a-c2e1fc8f90cc",
   "metadata": {},
   "source": [
    "## 3.2 Classe 2 - Sospetti"
   ]
  },
  {
   "cell_type": "code",
   "execution_count": 11,
   "id": "de4770cb-84a4-486a-9d82-111fb38faf8d",
   "metadata": {},
   "outputs": [],
   "source": [
    "class_nsp = 2.0"
   ]
  },
  {
   "cell_type": "code",
   "execution_count": 12,
   "id": "d9d67bd7-fc86-476e-8bc9-83a938a96938",
   "metadata": {},
   "outputs": [
    {
     "name": "stdout",
     "output_type": "stream",
     "text": [
      "(590, 22)\n",
      "AUC Score:  0.5818718112244898\n",
      "Adversarial validation check: NO CONCEPT DRIFT: Train and Test set are statistical similar\n",
      "GridSearchCV results...\n",
      "Mean Train Scores: \n",
      "[0.92130733 0.92251762 0.94491257 0.94733132]\n",
      "\n",
      "Mean CV Scores: \n",
      "[0.89115486 0.9008228  0.89838378 0.90076403]\n",
      "\n",
      "Best Parameters: \n",
      "{'model__depth': 2, 'model__iterations': 200}\n",
      "\n",
      "Test results...\n",
      "Model Test Accuracy: 0.903954802259887\n",
      "--------------------------------------------------\n",
      "Model Test Confusion Matrix\n",
      "First ten features by importances:\n",
      "['AC', 'ALTV', 'MSTV', 'ASTV', 'Mean', 'Median', 'Mode', 'LB', 'MLTV', 'Nmax']\n"
     ]
    },
    {
     "data": {
      "text/plain": [
       "<AxesSubplot:xlabel='Predicted label', ylabel='True label'>"
      ]
     },
     "execution_count": 12,
     "metadata": {},
     "output_type": "execute_result"
    },
    {
     "data": {
      "image/png": "[encoded data removed]",
      "text/plain": [
       "<Figure size 432x288 with 2 Axes>"
      ]
     },
     "metadata": {
      "needs_background": "light"
     },
     "output_type": "display_data"
    }
   ],
   "source": [
    "df_model, df_ml = ml_functions.model_preparation(df_ml,class_nsp)\n",
    "X_train, X_test, y_train, y_test, numerical_cols, categorical_cols, parameters = ml_functions.data_splitting(df_model)\n",
    "model = ml_functions.model_training(X_train, y_train, numerical_cols, categorical_cols, parameters)\n",
    "model = ml_functions.model_evaluation(model,X_test,y_test)\n",
    "df = ml_functions.model_serving(df,model,class_nsp,X_test)\n",
    "df['proba_classe_2.0'].hist()"
   ]
  },
  {
   "cell_type": "markdown",
   "id": "f0073edf-caed-4fae-be2c-d9427ba8be73",
   "metadata": {},
   "source": [
    "## 3.3 Classe 3 - Anormale"
   ]
  },
  {
   "cell_type": "code",
   "execution_count": 13,
   "id": "3267e470-1427-49ff-a63a-0b4de10a2fb8",
   "metadata": {},
   "outputs": [],
   "source": [
    "class_nsp = 3.0"
   ]
  },
  {
   "cell_type": "code",
   "execution_count": 14,
   "id": "ec0d76ad-ce9f-485d-8d54-4176ebacc053",
   "metadata": {},
   "outputs": [
    {
     "name": "stdout",
     "output_type": "stream",
     "text": [
      "(352, 22)\n",
      "AUC Score:  0.6235017123287672\n"
     ]
    },
    {
     "data": {
      "image/png": "[encoded data removed]",
      "text/plain": [
       "<Figure size 576x684 with 1 Axes>"
      ]
     },
     "metadata": {
      "needs_background": "light"
     },
     "output_type": "display_data"
    },
    {
     "name": "stdout",
     "output_type": "stream",
     "text": [
      "Adversarial validation check: YES CONCENPT DRIFT- Check features importance: Dev and Test set are not statistical similar\n",
      "AUC Score:  0.5213600697471665\n",
      "GridSearchCV results...\n",
      "Mean Train Scores: \n",
      "[0.98577126 0.98475603 0.99491868 0.99695431]\n",
      "\n",
      "Mean CV Scores: \n",
      "[0.95134694 0.95534694 0.95126531 0.95126531]\n",
      "\n",
      "Best Parameters: \n",
      "{'model__depth': 2, 'model__iterations': 200}\n",
      "\n",
      "Test results...\n",
      "Model Test Accuracy: 0.9528301886792453\n",
      "--------------------------------------------------\n",
      "Model Test Confusion Matrix\n",
      "First ten features by importances:\n",
      "['Mean', 'ALTV', 'ASTV', 'DP', 'Mode', 'Variance', 'AC', 'Median', 'MSTV', 'MLTV']\n"
     ]
    },
    {
     "data": {
      "text/plain": [
       "<AxesSubplot:xlabel='Predicted label', ylabel='True label'>"
      ]
     },
     "execution_count": 14,
     "metadata": {},
     "output_type": "execute_result"
    },
    {
     "data": {
      "image/png": "[encoded data removed]",
      "text/plain": [
       "<Figure size 432x288 with 2 Axes>"
      ]
     },
     "metadata": {
      "needs_background": "light"
     },
     "output_type": "display_data"
    }
   ],
   "source": [
    "df_model, df_ml = ml_functions.model_preparation(df_ml,class_nsp)\n",
    "X_train, X_test, y_train, y_test, numerical_cols, categorical_cols, parameters = ml_functions.data_splitting(df_model)\n",
    "model = ml_functions.model_training(X_train, y_train, numerical_cols, categorical_cols, parameters)\n",
    "model = ml_functions.model_evaluation(model,X_test,y_test)\n",
    "df = ml_functions.model_serving(df,model,class_nsp,X_test)\n",
    "df['proba_classe_3.0'].hist()"
   ]
  },
  {
   "cell_type": "markdown",
   "id": "a1f2ecdb-7cb8-47d6-b048-2ce723059159",
   "metadata": {},
   "source": [
    "# 4.0 Normalizing results"
   ]
  },
  {
   "cell_type": "code",
   "execution_count": 15,
   "id": "e4beaa8f-4965-496d-b4e6-d2b5f9b4ae24",
   "metadata": {},
   "outputs": [],
   "source": [
    "cols = ['proba_classe_1.0','proba_classe_2.0', 'proba_classe_3.0']"
   ]
  },
  {
   "cell_type": "code",
   "execution_count": 16,
   "id": "cceb22c6-ca22-44c4-9e75-b7870d1e719b",
   "metadata": {},
   "outputs": [],
   "source": [
    "df[cols] = df[cols].apply(lambda x: x / x.sum(),axis=1)"
   ]
  },
  {
   "cell_type": "markdown",
   "id": "ee447b74-6442-4366-b2b3-4ba5bff78d31",
   "metadata": {},
   "source": [
    "# 5.0 Beta Inference"
   ]
  },
  {
   "cell_type": "code",
   "execution_count": 17,
   "id": "e4801c67-60f4-4a55-bd68-ab1261975226",
   "metadata": {},
   "outputs": [],
   "source": [
    "xax = np.linspace(0,1.0,100)"
   ]
  },
  {
   "cell_type": "code",
   "execution_count": 18,
   "id": "51297ce6-af45-4f1a-b082-f15e25fff093",
   "metadata": {},
   "outputs": [],
   "source": [
    "num_classe = dict()\n",
    "tot = 0\n",
    "for i in df['NSP'].unique():\n",
    "    num = df[df['NSP']==i].shape[0]\n",
    "    tot = tot + num\n",
    "    num_classe[i] = dict()\n",
    "    num_classe[i]['num'] = num"
   ]
  },
  {
   "cell_type": "code",
   "execution_count": 19,
   "id": "9cfb5e27-7f93-4cdc-b57e-77321e21bf54",
   "metadata": {},
   "outputs": [],
   "source": [
    "for i in num_classe:\n",
    "    num_classe[i]['wei'] = num_classe[i]['num'] / tot\n",
    "    num_classe[i]['k'] = num_classe[i]['num'] * num_classe[i]['wei']"
   ]
  },
  {
   "cell_type": "code",
   "execution_count": 20,
   "id": "0c2ca3e2-6035-4404-a2a7-a9a34919bd78",
   "metadata": {},
   "outputs": [],
   "source": [
    "df['proba_classe_1.0_beta'] = df['proba_classe_1.0'].apply(lambda x: beta.pdf(xax,(x * (num_classe['1.0']['k']-2)+1),((1-x) * (num_classe['1.0']['k']-2)+1)))\n",
    "df['proba_classe_2.0_beta'] = df['proba_classe_2.0'].apply(lambda x: beta.pdf(xax,(x * (num_classe['2.0']['k']-2)+1),((1-x) * (num_classe['2.0']['k']-2)+1)))\n",
    "df['proba_classe_3.0_beta'] = df['proba_classe_3.0'].apply(lambda x: beta.pdf(xax,(x * (num_classe['3.0']['k']-2)+1),((1-x) * (num_classe['3.0']['k']-2)+1)))"
   ]
  },
  {
   "cell_type": "markdown",
   "id": "98f818e9-b6b2-4403-852f-07defdc2d453",
   "metadata": {},
   "source": [
    "Visual check"
   ]
  },
  {
   "cell_type": "code",
   "execution_count": 21,
   "id": "a310cd23-47d4-4566-9001-752713ec6194",
   "metadata": {},
   "outputs": [],
   "source": [
    "index = random.randint(0,2126)"
   ]
  },
  {
   "cell_type": "code",
   "execution_count": 22,
   "id": "e8981cea-a329-4f8c-8cb8-a61c635ff1b2",
   "metadata": {},
   "outputs": [
    {
     "data": {
      "text/plain": [
       "<matplotlib.legend.Legend at 0x7f395787fc40>"
      ]
     },
     "execution_count": 22,
     "metadata": {},
     "output_type": "execute_result"
    },
    {
     "data": {
      "image/png": "[encoded data removed]",
      "text/plain": [
       "<Figure size 432x288 with 1 Axes>"
      ]
     },
     "metadata": {
      "needs_background": "light"
     },
     "output_type": "display_data"
    }
   ],
   "source": [
    "plt.plot(df['proba_classe_1.0_beta'][index],label='1.0')\n",
    "plt.plot(df['proba_classe_2.0_beta'][index],label='2.0')\n",
    "plt.plot(df['proba_classe_3.0_beta'][index],label='3.0')\n",
    "plt.legend()"
   ]
  },
  {
   "cell_type": "markdown",
   "id": "d30ecd0d-3071-47f9-a7d4-69df363e06e7",
   "metadata": {},
   "source": [
    "# 6.0 Output"
   ]
  },
  {
   "cell_type": "code",
   "execution_count": 23,
   "id": "820030f7-5726-4943-9af1-f6b0527d798e",
   "metadata": {},
   "outputs": [
    {
     "data": {
      "text/html": [
       "<div>\n",
       "<style scoped>\n",
       "    .dataframe tbody tr th:only-of-type {\n",
       "        vertical-align: middle;\n",
       "    }\n",
       "\n",
       "    .dataframe tbody tr th {\n",
       "        vertical-align: top;\n",
       "    }\n",
       "\n",
       "    .dataframe thead th {\n",
       "        text-align: right;\n",
       "    }\n",
       "</style>\n",
       "<table border=\"1\" class=\"dataframe\">\n",
       "  <thead>\n",
       "    <tr style=\"text-align: right;\">\n",
       "      <th></th>\n",
       "      <th>LBE</th>\n",
       "      <th>LB</th>\n",
       "      <th>AC</th>\n",
       "      <th>FM</th>\n",
       "      <th>UC</th>\n",
       "      <th>ASTV</th>\n",
       "      <th>MSTV</th>\n",
       "      <th>ALTV</th>\n",
       "      <th>MLTV</th>\n",
       "      <th>DL</th>\n",
       "      <th>DS</th>\n",
       "      <th>DP</th>\n",
       "      <th>Width</th>\n",
       "      <th>Min</th>\n",
       "      <th>Max</th>\n",
       "      <th>Nmax</th>\n",
       "      <th>Nzeros</th>\n",
       "      <th>Mode</th>\n",
       "      <th>Mean</th>\n",
       "      <th>Median</th>\n",
       "      <th>Variance</th>\n",
       "      <th>Tendency</th>\n",
       "      <th>NSP</th>\n",
       "      <th>proba_classe_1.0</th>\n",
       "      <th>proba_classe_2.0</th>\n",
       "      <th>proba_classe_3.0</th>\n",
       "      <th>proba_classe_1.0_beta</th>\n",
       "      <th>proba_classe_2.0_beta</th>\n",
       "      <th>proba_classe_3.0_beta</th>\n",
       "    </tr>\n",
       "    <tr>\n",
       "      <th>SegFile</th>\n",
       "      <th></th>\n",
       "      <th></th>\n",
       "      <th></th>\n",
       "      <th></th>\n",
       "      <th></th>\n",
       "      <th></th>\n",
       "      <th></th>\n",
       "      <th></th>\n",
       "      <th></th>\n",
       "      <th></th>\n",
       "      <th></th>\n",
       "      <th></th>\n",
       "      <th></th>\n",
       "      <th></th>\n",
       "      <th></th>\n",
       "      <th></th>\n",
       "      <th></th>\n",
       "      <th></th>\n",
       "      <th></th>\n",
       "      <th></th>\n",
       "      <th></th>\n",
       "      <th></th>\n",
       "      <th></th>\n",
       "      <th></th>\n",
       "      <th></th>\n",
       "      <th></th>\n",
       "      <th></th>\n",
       "      <th></th>\n",
       "      <th></th>\n",
       "    </tr>\n",
       "  </thead>\n",
       "  <tbody>\n",
       "    <tr>\n",
       "      <th>CTG0857.txt</th>\n",
       "      <td>142.0</td>\n",
       "      <td>142.0</td>\n",
       "      <td>0.0</td>\n",
       "      <td>0.0</td>\n",
       "      <td>2.0</td>\n",
       "      <td>43.0</td>\n",
       "      <td>0.8</td>\n",
       "      <td>3.0</td>\n",
       "      <td>9.6</td>\n",
       "      <td>0.0</td>\n",
       "      <td>0.0</td>\n",
       "      <td>0.0</td>\n",
       "      <td>25.0</td>\n",
       "      <td>132.0</td>\n",
       "      <td>157.0</td>\n",
       "      <td>1.0</td>\n",
       "      <td>0.0</td>\n",
       "      <td>145.0</td>\n",
       "      <td>144.0</td>\n",
       "      <td>146.0</td>\n",
       "      <td>1.0</td>\n",
       "      <td>0.0</td>\n",
       "      <td>1.0</td>\n",
       "      <td>0.706866</td>\n",
       "      <td>0.268296</td>\n",
       "      <td>0.024838</td>\n",
       "      <td>[0.0, 0.0, 0.0, 0.0, 0.0, 0.0, 0.0, 0.0, 0.0, ...</td>\n",
       "      <td>[0.0, 4.155721420410893e-11, 4.327492098592659...</td>\n",
       "      <td>[0.0, 7.0832272135096215, 7.755610272999106, 7...</td>\n",
       "    </tr>\n",
       "    <tr>\n",
       "      <th>CTG1177.txt</th>\n",
       "      <td>126.0</td>\n",
       "      <td>126.0</td>\n",
       "      <td>0.0</td>\n",
       "      <td>0.0</td>\n",
       "      <td>2.0</td>\n",
       "      <td>28.0</td>\n",
       "      <td>1.3</td>\n",
       "      <td>0.0</td>\n",
       "      <td>10.8</td>\n",
       "      <td>0.0</td>\n",
       "      <td>0.0</td>\n",
       "      <td>0.0</td>\n",
       "      <td>34.0</td>\n",
       "      <td>107.0</td>\n",
       "      <td>141.0</td>\n",
       "      <td>1.0</td>\n",
       "      <td>0.0</td>\n",
       "      <td>127.0</td>\n",
       "      <td>128.0</td>\n",
       "      <td>128.0</td>\n",
       "      <td>3.0</td>\n",
       "      <td>0.0</td>\n",
       "      <td>1.0</td>\n",
       "      <td>0.867956</td>\n",
       "      <td>0.101483</td>\n",
       "      <td>0.030561</td>\n",
       "      <td>[0.0, 0.0, 0.0, 0.0, 0.0, 0.0, 0.0, 0.0, 0.0, ...</td>\n",
       "      <td>[0.0, 0.026934283579670086, 0.2909896970229449...</td>\n",
       "      <td>[0.0, 6.167046861293726, 7.102962587600739, 7....</td>\n",
       "    </tr>\n",
       "  </tbody>\n",
       "</table>\n",
       "</div>"
      ],
      "text/plain": [
       "               LBE     LB   AC   FM   UC  ASTV  MSTV  ALTV  MLTV   DL   DS  \\\n",
       "SegFile                                                                      \n",
       "CTG0857.txt  142.0  142.0  0.0  0.0  2.0  43.0   0.8   3.0   9.6  0.0  0.0   \n",
       "CTG1177.txt  126.0  126.0  0.0  0.0  2.0  28.0   1.3   0.0  10.8  0.0  0.0   \n",
       "\n",
       "              DP  Width    Min    Max  Nmax  Nzeros   Mode   Mean  Median  \\\n",
       "SegFile                                                                     \n",
       "CTG0857.txt  0.0   25.0  132.0  157.0   1.0     0.0  145.0  144.0   146.0   \n",
       "CTG1177.txt  0.0   34.0  107.0  141.0   1.0     0.0  127.0  128.0   128.0   \n",
       "\n",
       "             Variance Tendency  NSP  proba_classe_1.0  proba_classe_2.0  \\\n",
       "SegFile                                                                   \n",
       "CTG0857.txt       1.0      0.0  1.0          0.706866          0.268296   \n",
       "CTG1177.txt       3.0      0.0  1.0          0.867956          0.101483   \n",
       "\n",
       "             proba_classe_3.0  \\\n",
       "SegFile                         \n",
       "CTG0857.txt          0.024838   \n",
       "CTG1177.txt          0.030561   \n",
       "\n",
       "                                         proba_classe_1.0_beta  \\\n",
       "SegFile                                                          \n",
       "CTG0857.txt  [0.0, 0.0, 0.0, 0.0, 0.0, 0.0, 0.0, 0.0, 0.0, ...   \n",
       "CTG1177.txt  [0.0, 0.0, 0.0, 0.0, 0.0, 0.0, 0.0, 0.0, 0.0, ...   \n",
       "\n",
       "                                         proba_classe_2.0_beta  \\\n",
       "SegFile                                                          \n",
       "CTG0857.txt  [0.0, 4.155721420410893e-11, 4.327492098592659...   \n",
       "CTG1177.txt  [0.0, 0.026934283579670086, 0.2909896970229449...   \n",
       "\n",
       "                                         proba_classe_3.0_beta  \n",
       "SegFile                                                         \n",
       "CTG0857.txt  [0.0, 7.0832272135096215, 7.755610272999106, 7...  \n",
       "CTG1177.txt  [0.0, 6.167046861293726, 7.102962587600739, 7....  "
      ]
     },
     "execution_count": 23,
     "metadata": {},
     "output_type": "execute_result"
    }
   ],
   "source": [
    "df.sample(2)"
   ]
  },
  {
   "cell_type": "code",
   "execution_count": null,
   "id": "7bd3d0fe-19d0-452d-9b94-28ad15fd9243",
   "metadata": {},
   "outputs": [],
   "source": []
  }
 ],
 "metadata": {
  "kernelspec": {
   "display_name": "Python 3",
   "language": "python",
   "name": "python3"
  },
  "language_info": {
   "codemirror_mode": {
    "name": "ipython",
    "version": 3
   },
   "file_extension": ".py",
   "mimetype": "text/x-python",
   "name": "python",
   "nbconvert_exporter": "python",
   "pygments_lexer": "ipython3",
   "version": "3.9.2"
  }
 },
 "nbformat": 4,
 "nbformat_minor": 5
}
