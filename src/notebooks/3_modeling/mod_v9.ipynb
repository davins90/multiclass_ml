{
 "cells": [
  {
   "cell_type": "code",
   "execution_count": 1,
   "id": "3acdb1c3-7b50-4a52-b469-8fe9b88fd96c",
   "metadata": {},
   "outputs": [],
   "source": [
    "# pip install shap"
   ]
  },
  {
   "cell_type": "code",
   "execution_count": 2,
   "id": "44703ddf-64d7-491c-a5f3-5898f6797733",
   "metadata": {},
   "outputs": [],
   "source": [
    "import pandas as pd\n",
    "import modules\n",
    "\n",
    "from modules import ml_functions\n",
    "\n",
    "pd.set_option('display.max_rows',None)\n",
    "pd.set_option('display.max_columns',None)"
   ]
  },
  {
   "cell_type": "markdown",
   "id": "f823b678-bbfe-4ebe-a130-99811e0fc761",
   "metadata": {},
   "source": [
    "New version file.py"
   ]
  },
  {
   "cell_type": "markdown",
   "id": "efcb1c34-430f-4c71-9c45-98cf7c9842f9",
   "metadata": {},
   "source": [
    "# 1.0 Data retrieval"
   ]
  },
  {
   "cell_type": "code",
   "execution_count": 3,
   "id": "c644be58-4675-4a4d-88ed-8debb7921f2c",
   "metadata": {},
   "outputs": [],
   "source": [
    "df = pd.read_pickle('../../data_lake/output/2_dp.pkl')"
   ]
  },
  {
   "cell_type": "code",
   "execution_count": 4,
   "id": "05b5c2b3-e287-4ce6-8a8d-e5cf2825aaae",
   "metadata": {},
   "outputs": [
    {
     "data": {
      "text/html": [
       "<div>\n",
       "<style scoped>\n",
       "    .dataframe tbody tr th:only-of-type {\n",
       "        vertical-align: middle;\n",
       "    }\n",
       "\n",
       "    .dataframe tbody tr th {\n",
       "        vertical-align: top;\n",
       "    }\n",
       "\n",
       "    .dataframe thead th {\n",
       "        text-align: right;\n",
       "    }\n",
       "</style>\n",
       "<table border=\"1\" class=\"dataframe\">\n",
       "  <thead>\n",
       "    <tr style=\"text-align: right;\">\n",
       "      <th></th>\n",
       "      <th>LBE</th>\n",
       "      <th>LB</th>\n",
       "      <th>AC</th>\n",
       "      <th>FM</th>\n",
       "      <th>UC</th>\n",
       "      <th>ASTV</th>\n",
       "      <th>MSTV</th>\n",
       "      <th>ALTV</th>\n",
       "      <th>MLTV</th>\n",
       "      <th>DL</th>\n",
       "      <th>DS</th>\n",
       "      <th>DP</th>\n",
       "      <th>Width</th>\n",
       "      <th>Min</th>\n",
       "      <th>Max</th>\n",
       "      <th>Nmax</th>\n",
       "      <th>Nzeros</th>\n",
       "      <th>Mode</th>\n",
       "      <th>Mean</th>\n",
       "      <th>Median</th>\n",
       "      <th>Variance</th>\n",
       "      <th>Tendency</th>\n",
       "      <th>CLASS</th>\n",
       "      <th>NSP</th>\n",
       "    </tr>\n",
       "    <tr>\n",
       "      <th>SegFile</th>\n",
       "      <th></th>\n",
       "      <th></th>\n",
       "      <th></th>\n",
       "      <th></th>\n",
       "      <th></th>\n",
       "      <th></th>\n",
       "      <th></th>\n",
       "      <th></th>\n",
       "      <th></th>\n",
       "      <th></th>\n",
       "      <th></th>\n",
       "      <th></th>\n",
       "      <th></th>\n",
       "      <th></th>\n",
       "      <th></th>\n",
       "      <th></th>\n",
       "      <th></th>\n",
       "      <th></th>\n",
       "      <th></th>\n",
       "      <th></th>\n",
       "      <th></th>\n",
       "      <th></th>\n",
       "      <th></th>\n",
       "      <th></th>\n",
       "    </tr>\n",
       "  </thead>\n",
       "  <tbody>\n",
       "    <tr>\n",
       "      <th>CTG0110.txt</th>\n",
       "      <td>125.0</td>\n",
       "      <td>125.0</td>\n",
       "      <td>0.0</td>\n",
       "      <td>1.0</td>\n",
       "      <td>0.0</td>\n",
       "      <td>25.0</td>\n",
       "      <td>1.5</td>\n",
       "      <td>0.0</td>\n",
       "      <td>19.3</td>\n",
       "      <td>0.0</td>\n",
       "      <td>0.0</td>\n",
       "      <td>0.0</td>\n",
       "      <td>62.0</td>\n",
       "      <td>80.0</td>\n",
       "      <td>142.0</td>\n",
       "      <td>4.0</td>\n",
       "      <td>1.0</td>\n",
       "      <td>127.0</td>\n",
       "      <td>125.0</td>\n",
       "      <td>127.0</td>\n",
       "      <td>6.0</td>\n",
       "      <td>1.0</td>\n",
       "      <td>3.0</td>\n",
       "      <td>1.0</td>\n",
       "    </tr>\n",
       "  </tbody>\n",
       "</table>\n",
       "</div>"
      ],
      "text/plain": [
       "               LBE     LB   AC   FM   UC  ASTV  MSTV  ALTV  MLTV   DL   DS  \\\n",
       "SegFile                                                                      \n",
       "CTG0110.txt  125.0  125.0  0.0  1.0  0.0  25.0   1.5   0.0  19.3  0.0  0.0   \n",
       "\n",
       "              DP  Width   Min    Max  Nmax  Nzeros   Mode   Mean  Median  \\\n",
       "SegFile                                                                    \n",
       "CTG0110.txt  0.0   62.0  80.0  142.0   4.0     1.0  127.0  125.0   127.0   \n",
       "\n",
       "             Variance Tendency CLASS  NSP  \n",
       "SegFile                                    \n",
       "CTG0110.txt       6.0      1.0   3.0  1.0  "
      ]
     },
     "execution_count": 4,
     "metadata": {},
     "output_type": "execute_result"
    }
   ],
   "source": [
    "df.sample(1)"
   ]
  },
  {
   "cell_type": "markdown",
   "id": "f912521b-f7d1-4fe3-837d-0b1b236ba189",
   "metadata": {},
   "source": [
    "# 2.0 Data preparation"
   ]
  },
  {
   "cell_type": "code",
   "execution_count": 5,
   "id": "95ecad40-3bf9-44b9-b043-8afb10896217",
   "metadata": {},
   "outputs": [],
   "source": [
    "# for i in df:\n",
    "#     if df[i].dtype == 'object':\n",
    "#         df[i] = df[i].astype(str)"
   ]
  },
  {
   "cell_type": "code",
   "execution_count": 6,
   "id": "ce4cec6c-d0ac-4523-b1e7-7210a5c18167",
   "metadata": {},
   "outputs": [],
   "source": [
    "# df = df.drop(columns='CLASS')"
   ]
  },
  {
   "cell_type": "code",
   "execution_count": 7,
   "id": "088e163f-0c28-419a-8ac0-c1f1fa079152",
   "metadata": {},
   "outputs": [],
   "source": [
    "df_ml = df.copy()"
   ]
  },
  {
   "cell_type": "markdown",
   "id": "e06a1ea8-83b8-4cce-9b67-a57476ea873c",
   "metadata": {},
   "source": [
    "# 3.0 Modeling\n",
    "## 3.1 Classe 1"
   ]
  },
  {
   "cell_type": "code",
   "execution_count": 8,
   "id": "1284ef0f-730c-4de9-96ee-583acf4729f4",
   "metadata": {},
   "outputs": [],
   "source": [
    "class_nsp = 1.0"
   ]
  },
  {
   "cell_type": "code",
   "execution_count": 9,
   "id": "7588ead5-5527-42a7-9031-18f8c9510213",
   "metadata": {},
   "outputs": [],
   "source": [
    "df_model, df_ml = ml_functions.model_preparation(df_ml,class_nsp)"
   ]
  },
  {
   "cell_type": "code",
   "execution_count": 10,
   "id": "eaddfbb9-35a2-445e-b829-02a9ccf8a5c8",
   "metadata": {},
   "outputs": [
    {
     "name": "stdout",
     "output_type": "stream",
     "text": [
      "(942, 23)\n",
      "AUC Score:  0.4935122146575891\n",
      "Adversarial validation check: NO CONCEPT DRIFT: Train and Test set are statistical similar\n"
     ]
    }
   ],
   "source": [
    "X_train, X_test, y_train, y_test, numerical_cols, categorical_cols, parameters = ml_functions.data_splitting(df_model)"
   ]
  },
  {
   "cell_type": "code",
   "execution_count": 11,
   "id": "eea134c6-5fd5-49b2-a5ea-2f18f8c1569c",
   "metadata": {},
   "outputs": [
    {
     "name": "stdout",
     "output_type": "stream",
     "text": [
      "GridSearchCV results...\n",
      "Mean Train Scores: \n",
      "[0.99568382 0.99601549 0.99634772 0.99701162]\n",
      "\n",
      "Mean CV Scores: \n",
      "[0.98138631 0.98405298 0.98138631 0.98139514]\n",
      "\n",
      "Best Parameters: \n",
      "{'model__depth': 3, 'model__iterations': 1000}\n",
      "\n"
     ]
    }
   ],
   "source": [
    "model = ml_functions.model_training(X_train, y_train, numerical_cols, categorical_cols, parameters)"
   ]
  },
  {
   "cell_type": "code",
   "execution_count": 12,
   "id": "662013dd-58ae-4903-8d67-d1b257b29ae2",
   "metadata": {},
   "outputs": [
    {
     "name": "stdout",
     "output_type": "stream",
     "text": [
      "Test results...\n",
      "Model Test Accuracy: 0.9894179894179894\n",
      "--------------------------------------------------\n",
      "Model Test Confusion Matrix\n",
      "First ten features by importances:\n",
      "['AC', 'MSTV', 'ASTV', 'ALTV', 'DP', 'Mean', 'UC', 'Mode', 'Variance', 'Max']\n"
     ]
    },
    {
     "data": {
      "image/png": "[encoded data removed]",
      "text/plain": [
       "<Figure size 432x288 with 2 Axes>"
      ]
     },
     "metadata": {
      "needs_background": "light"
     },
     "output_type": "display_data"
    }
   ],
   "source": [
    "model = ml_functions.model_evaluation(model,X_test,y_test)"
   ]
  },
  {
   "cell_type": "code",
   "execution_count": 13,
   "id": "6302c49c-4815-4598-81c3-a0cf411029bc",
   "metadata": {},
   "outputs": [],
   "source": [
    "df = ml_functions.model_serving(df,model,class_nsp,X_test)"
   ]
  },
  {
   "cell_type": "code",
   "execution_count": 14,
   "id": "4f0609ba-3f00-46f1-a18d-1675b24f4dec",
   "metadata": {},
   "outputs": [
    {
     "data": {
      "text/plain": [
       "<AxesSubplot:>"
      ]
     },
     "execution_count": 14,
     "metadata": {},
     "output_type": "execute_result"
    },
    {
     "data": {
      "image/png": "[encoded data removed]",
      "text/plain": [
       "<Figure size 432x288 with 1 Axes>"
      ]
     },
     "metadata": {
      "needs_background": "light"
     },
     "output_type": "display_data"
    }
   ],
   "source": [
    "df['proba_classe_1.0'].hist()"
   ]
  },
  {
   "cell_type": "markdown",
   "id": "171713e4-df4a-4153-aada-a7dca99f8252",
   "metadata": {},
   "source": [
    "## 3.2 Classe 2"
   ]
  },
  {
   "cell_type": "code",
   "execution_count": 15,
   "id": "890c8c25-2fed-4b9d-9717-2c4c32f43d73",
   "metadata": {},
   "outputs": [],
   "source": [
    "class_nsp = 2.0"
   ]
  },
  {
   "cell_type": "code",
   "execution_count": 16,
   "id": "1175043a-c350-4ff7-b152-da634e9a99ac",
   "metadata": {},
   "outputs": [],
   "source": [
    "df_model, df_ml = ml_functions.model_preparation(df_ml,class_nsp)"
   ]
  },
  {
   "cell_type": "code",
   "execution_count": 17,
   "id": "40be93da-df04-489a-9163-3e744796f8cd",
   "metadata": {},
   "outputs": [
    {
     "name": "stdout",
     "output_type": "stream",
     "text": [
      "(590, 23)\n",
      "AUC Score:  0.553923076923077\n",
      "Adversarial validation check: NO CONCEPT DRIFT: Train and Test set are statistical similar\n"
     ]
    }
   ],
   "source": [
    "X_train, X_test, y_train, y_test, numerical_cols, categorical_cols, parameters = ml_functions.data_splitting(df_model)"
   ]
  },
  {
   "cell_type": "code",
   "execution_count": 18,
   "id": "4b9b2532-0604-4dce-8dd7-98ec94199df5",
   "metadata": {},
   "outputs": [
    {
     "name": "stdout",
     "output_type": "stream",
     "text": [
      "GridSearchCV results...\n",
      "Mean Train Scores: \n",
      "[0.98970796 0.99152431 0.99515884 0.99455278]\n",
      "\n",
      "Mean CV Scores: \n",
      "[0.96608875 0.96852777 0.96849838 0.97334705]\n",
      "\n",
      "Best Parameters: \n",
      "{'model__depth': 3, 'model__iterations': 200}\n",
      "\n"
     ]
    }
   ],
   "source": [
    "model = ml_functions.model_training(X_train, y_train, numerical_cols, categorical_cols, parameters)"
   ]
  },
  {
   "cell_type": "code",
   "execution_count": 19,
   "id": "41e62767-d8dc-4f17-81bb-9035688aebb4",
   "metadata": {},
   "outputs": [
    {
     "name": "stdout",
     "output_type": "stream",
     "text": [
      "Test results...\n",
      "Model Test Accuracy: 0.9717514124293786\n",
      "--------------------------------------------------\n",
      "Model Test Confusion Matrix\n",
      "First ten features by importances:\n",
      "['AC', 'ALTV', 'DP', 'ASTV', 'Width', 'Max', 'Median', 'FM', 'LBE', 'LB']\n"
     ]
    },
    {
     "data": {
      "image/png": "[encoded data removed]",
      "text/plain": [
       "<Figure size 432x288 with 2 Axes>"
      ]
     },
     "metadata": {
      "needs_background": "light"
     },
     "output_type": "display_data"
    }
   ],
   "source": [
    "model = ml_functions.model_evaluation(model,X_test,y_test)"
   ]
  },
  {
   "cell_type": "code",
   "execution_count": 20,
   "id": "d5ee14fd-0023-4664-a806-561c7490a855",
   "metadata": {},
   "outputs": [],
   "source": [
    "df = ml_functions.model_serving(df,model,class_nsp,X_test)"
   ]
  },
  {
   "cell_type": "code",
   "execution_count": 21,
   "id": "3ef5c944-ee0b-48ff-acfc-4ae592fb52fa",
   "metadata": {},
   "outputs": [
    {
     "data": {
      "text/plain": [
       "<AxesSubplot:>"
      ]
     },
     "execution_count": 21,
     "metadata": {},
     "output_type": "execute_result"
    },
    {
     "data": {
      "image/png": "[encoded data removed]",
      "text/plain": [
       "<Figure size 432x288 with 1 Axes>"
      ]
     },
     "metadata": {
      "needs_background": "light"
     },
     "output_type": "display_data"
    }
   ],
   "source": [
    "df['proba_classe_2.0'].hist()"
   ]
  },
  {
   "cell_type": "markdown",
   "id": "7806219f-b01c-4dfa-b5a0-b61acc165709",
   "metadata": {},
   "source": [
    "## 3.3 Classe 3"
   ]
  },
  {
   "cell_type": "code",
   "execution_count": 22,
   "id": "84208283-871c-49cd-9650-43f6414ddc08",
   "metadata": {},
   "outputs": [],
   "source": [
    "class_nsp = 3.0"
   ]
  },
  {
   "cell_type": "code",
   "execution_count": 23,
   "id": "fe570fee-7912-4e41-b2e7-5eb82070910f",
   "metadata": {},
   "outputs": [],
   "source": [
    "df_model, df_ml = ml_functions.model_preparation(df_ml,class_nsp)"
   ]
  },
  {
   "cell_type": "code",
   "execution_count": 24,
   "id": "2c519814-9d2e-4a0b-b8f7-cacb9782dc97",
   "metadata": {},
   "outputs": [
    {
     "name": "stdout",
     "output_type": "stream",
     "text": [
      "(352, 23)\n",
      "AUC Score:  0.5189795918367347\n",
      "Adversarial validation check: NO CONCEPT DRIFT: Train and Test set are statistical similar\n"
     ]
    }
   ],
   "source": [
    "X_train, X_test, y_train, y_test, numerical_cols, categorical_cols, parameters = ml_functions.data_splitting(df_model)"
   ]
  },
  {
   "cell_type": "code",
   "execution_count": 25,
   "id": "a241acd6-5d5d-459b-a079-8b30e642b509",
   "metadata": {},
   "outputs": [
    {
     "name": "stdout",
     "output_type": "stream",
     "text": [
      "GridSearchCV results...\n",
      "Mean Train Scores: \n",
      "[1. 1. 1. 1.]\n",
      "\n",
      "Mean CV Scores: \n",
      "[0.99591837 0.99591837 0.99591837 0.99591837]\n",
      "\n",
      "Best Parameters: \n",
      "{'model__depth': 2, 'model__iterations': 100}\n",
      "\n"
     ]
    }
   ],
   "source": [
    "model = ml_functions.model_training(X_train, y_train, numerical_cols, categorical_cols, parameters)"
   ]
  },
  {
   "cell_type": "code",
   "execution_count": 26,
   "id": "12ab183e-73b4-4685-8a8b-e97aa8bd46fa",
   "metadata": {},
   "outputs": [
    {
     "name": "stdout",
     "output_type": "stream",
     "text": [
      "Test results...\n",
      "Model Test Accuracy: 1.0\n",
      "--------------------------------------------------\n",
      "Model Test Confusion Matrix\n",
      "First ten features by importances:\n",
      "['ALTV', 'ASTV', 'DP', 'Mean', 'Median', 'AC', 'MSTV', 'Variance', 'Mode', 'Min']\n"
     ]
    },
    {
     "data": {
      "image/png": "[encoded data removed]",
      "text/plain": [
       "<Figure size 432x288 with 2 Axes>"
      ]
     },
     "metadata": {
      "needs_background": "light"
     },
     "output_type": "display_data"
    }
   ],
   "source": [
    "model = ml_functions.model_evaluation(model,X_test,y_test)"
   ]
  },
  {
   "cell_type": "code",
   "execution_count": 27,
   "id": "62e7db28-2685-480d-9cd1-69d6cc51e9e8",
   "metadata": {},
   "outputs": [],
   "source": [
    "df = ml_functions.model_serving(df,model,class_nsp,X_test)"
   ]
  },
  {
   "cell_type": "code",
   "execution_count": 28,
   "id": "71075f1d-492b-49e4-9e15-ad492bed1296",
   "metadata": {},
   "outputs": [
    {
     "data": {
      "text/plain": [
       "<AxesSubplot:>"
      ]
     },
     "execution_count": 28,
     "metadata": {},
     "output_type": "execute_result"
    },
    {
     "data": {
      "image/png": "[encoded data removed]",
      "text/plain": [
       "<Figure size 432x288 with 1 Axes>"
      ]
     },
     "metadata": {
      "needs_background": "light"
     },
     "output_type": "display_data"
    }
   ],
   "source": [
    "df['proba_classe_3.0'].hist()"
   ]
  },
  {
   "cell_type": "markdown",
   "id": "b71ba449-aedc-4754-80ba-8fdb1d87ed9c",
   "metadata": {},
   "source": [
    "# 4.0 Output"
   ]
  },
  {
   "cell_type": "code",
   "execution_count": 29,
   "id": "29c8e663-15c5-4e86-8760-b63284bc459f",
   "metadata": {},
   "outputs": [],
   "source": [
    "cols = ['proba_classe_1.0','proba_classe_2.0', 'proba_classe_3.0']"
   ]
  },
  {
   "cell_type": "code",
   "execution_count": 30,
   "id": "67df7cb7-b9c8-4048-95ae-d0b285368942",
   "metadata": {},
   "outputs": [],
   "source": [
    "df[cols] = df[cols].apply(lambda x: x / x.sum(),axis=1)"
   ]
  },
  {
   "cell_type": "code",
   "execution_count": 39,
   "id": "d238c0ea-a06e-4bc6-bd55-070f4afc1978",
   "metadata": {},
   "outputs": [
    {
     "data": {
      "text/html": [
       "<div>\n",
       "<style scoped>\n",
       "    .dataframe tbody tr th:only-of-type {\n",
       "        vertical-align: middle;\n",
       "    }\n",
       "\n",
       "    .dataframe tbody tr th {\n",
       "        vertical-align: top;\n",
       "    }\n",
       "\n",
       "    .dataframe thead th {\n",
       "        text-align: right;\n",
       "    }\n",
       "</style>\n",
       "<table border=\"1\" class=\"dataframe\">\n",
       "  <thead>\n",
       "    <tr style=\"text-align: right;\">\n",
       "      <th></th>\n",
       "      <th>LBE</th>\n",
       "      <th>LB</th>\n",
       "      <th>AC</th>\n",
       "      <th>FM</th>\n",
       "      <th>UC</th>\n",
       "      <th>ASTV</th>\n",
       "      <th>MSTV</th>\n",
       "      <th>ALTV</th>\n",
       "      <th>MLTV</th>\n",
       "      <th>DL</th>\n",
       "      <th>DS</th>\n",
       "      <th>DP</th>\n",
       "      <th>Width</th>\n",
       "      <th>Min</th>\n",
       "      <th>Max</th>\n",
       "      <th>Nmax</th>\n",
       "      <th>Nzeros</th>\n",
       "      <th>Mode</th>\n",
       "      <th>Mean</th>\n",
       "      <th>Median</th>\n",
       "      <th>Variance</th>\n",
       "      <th>Tendency</th>\n",
       "      <th>CLASS</th>\n",
       "      <th>NSP</th>\n",
       "      <th>proba_classe_1.0</th>\n",
       "      <th>proba_classe_2.0</th>\n",
       "      <th>proba_classe_3.0</th>\n",
       "    </tr>\n",
       "    <tr>\n",
       "      <th>SegFile</th>\n",
       "      <th></th>\n",
       "      <th></th>\n",
       "      <th></th>\n",
       "      <th></th>\n",
       "      <th></th>\n",
       "      <th></th>\n",
       "      <th></th>\n",
       "      <th></th>\n",
       "      <th></th>\n",
       "      <th></th>\n",
       "      <th></th>\n",
       "      <th></th>\n",
       "      <th></th>\n",
       "      <th></th>\n",
       "      <th></th>\n",
       "      <th></th>\n",
       "      <th></th>\n",
       "      <th></th>\n",
       "      <th></th>\n",
       "      <th></th>\n",
       "      <th></th>\n",
       "      <th></th>\n",
       "      <th></th>\n",
       "      <th></th>\n",
       "      <th></th>\n",
       "      <th></th>\n",
       "      <th></th>\n",
       "    </tr>\n",
       "  </thead>\n",
       "  <tbody>\n",
       "    <tr>\n",
       "      <th>CTG2039.txt</th>\n",
       "      <td>128.0</td>\n",
       "      <td>128.0</td>\n",
       "      <td>0.0</td>\n",
       "      <td>2.0</td>\n",
       "      <td>7.0</td>\n",
       "      <td>65.0</td>\n",
       "      <td>2.6</td>\n",
       "      <td>0.0</td>\n",
       "      <td>0.0</td>\n",
       "      <td>5.0</td>\n",
       "      <td>0.0</td>\n",
       "      <td>2.0</td>\n",
       "      <td>129.0</td>\n",
       "      <td>63.0</td>\n",
       "      <td>192.0</td>\n",
       "      <td>6.0</td>\n",
       "      <td>0.0</td>\n",
       "      <td>103.0</td>\n",
       "      <td>92.0</td>\n",
       "      <td>114.0</td>\n",
       "      <td>28.0</td>\n",
       "      <td>0.0</td>\n",
       "      <td>8.0</td>\n",
       "      <td>3.0</td>\n",
       "      <td>0.012243</td>\n",
       "      <td>0.040742</td>\n",
       "      <td>0.947016</td>\n",
       "    </tr>\n",
       "    <tr>\n",
       "      <th>CTG0448.txt</th>\n",
       "      <td>142.0</td>\n",
       "      <td>142.0</td>\n",
       "      <td>0.0</td>\n",
       "      <td>3.0</td>\n",
       "      <td>0.0</td>\n",
       "      <td>68.0</td>\n",
       "      <td>0.3</td>\n",
       "      <td>38.0</td>\n",
       "      <td>6.7</td>\n",
       "      <td>0.0</td>\n",
       "      <td>0.0</td>\n",
       "      <td>0.0</td>\n",
       "      <td>15.0</td>\n",
       "      <td>136.0</td>\n",
       "      <td>151.0</td>\n",
       "      <td>1.0</td>\n",
       "      <td>0.0</td>\n",
       "      <td>142.0</td>\n",
       "      <td>142.0</td>\n",
       "      <td>143.0</td>\n",
       "      <td>0.0</td>\n",
       "      <td>0.0</td>\n",
       "      <td>10.0</td>\n",
       "      <td>2.0</td>\n",
       "      <td>0.006766</td>\n",
       "      <td>0.959610</td>\n",
       "      <td>0.033624</td>\n",
       "    </tr>\n",
       "    <tr>\n",
       "      <th>CTG1545.txt</th>\n",
       "      <td>144.0</td>\n",
       "      <td>144.0</td>\n",
       "      <td>2.0</td>\n",
       "      <td>0.0</td>\n",
       "      <td>6.0</td>\n",
       "      <td>48.0</td>\n",
       "      <td>0.7</td>\n",
       "      <td>6.0</td>\n",
       "      <td>10.2</td>\n",
       "      <td>0.0</td>\n",
       "      <td>0.0</td>\n",
       "      <td>0.0</td>\n",
       "      <td>47.0</td>\n",
       "      <td>120.0</td>\n",
       "      <td>167.0</td>\n",
       "      <td>3.0</td>\n",
       "      <td>0.0</td>\n",
       "      <td>148.0</td>\n",
       "      <td>149.0</td>\n",
       "      <td>150.0</td>\n",
       "      <td>3.0</td>\n",
       "      <td>0.0</td>\n",
       "      <td>2.0</td>\n",
       "      <td>1.0</td>\n",
       "      <td>0.965710</td>\n",
       "      <td>0.028800</td>\n",
       "      <td>0.005491</td>\n",
       "    </tr>\n",
       "    <tr>\n",
       "      <th>CTG0408.txt</th>\n",
       "      <td>150.0</td>\n",
       "      <td>150.0</td>\n",
       "      <td>0.0</td>\n",
       "      <td>0.0</td>\n",
       "      <td>0.0</td>\n",
       "      <td>76.0</td>\n",
       "      <td>0.3</td>\n",
       "      <td>31.0</td>\n",
       "      <td>5.4</td>\n",
       "      <td>0.0</td>\n",
       "      <td>0.0</td>\n",
       "      <td>0.0</td>\n",
       "      <td>11.0</td>\n",
       "      <td>146.0</td>\n",
       "      <td>157.0</td>\n",
       "      <td>1.0</td>\n",
       "      <td>0.0</td>\n",
       "      <td>154.0</td>\n",
       "      <td>153.0</td>\n",
       "      <td>155.0</td>\n",
       "      <td>0.0</td>\n",
       "      <td>1.0</td>\n",
       "      <td>10.0</td>\n",
       "      <td>2.0</td>\n",
       "      <td>0.003747</td>\n",
       "      <td>0.962448</td>\n",
       "      <td>0.033805</td>\n",
       "    </tr>\n",
       "  </tbody>\n",
       "</table>\n",
       "</div>"
      ],
      "text/plain": [
       "               LBE     LB   AC   FM   UC  ASTV  MSTV  ALTV  MLTV   DL   DS  \\\n",
       "SegFile                                                                      \n",
       "CTG2039.txt  128.0  128.0  0.0  2.0  7.0  65.0   2.6   0.0   0.0  5.0  0.0   \n",
       "CTG0448.txt  142.0  142.0  0.0  3.0  0.0  68.0   0.3  38.0   6.7  0.0  0.0   \n",
       "CTG1545.txt  144.0  144.0  2.0  0.0  6.0  48.0   0.7   6.0  10.2  0.0  0.0   \n",
       "CTG0408.txt  150.0  150.0  0.0  0.0  0.0  76.0   0.3  31.0   5.4  0.0  0.0   \n",
       "\n",
       "              DP  Width    Min    Max  Nmax  Nzeros   Mode   Mean  Median  \\\n",
       "SegFile                                                                     \n",
       "CTG2039.txt  2.0  129.0   63.0  192.0   6.0     0.0  103.0   92.0   114.0   \n",
       "CTG0448.txt  0.0   15.0  136.0  151.0   1.0     0.0  142.0  142.0   143.0   \n",
       "CTG1545.txt  0.0   47.0  120.0  167.0   3.0     0.0  148.0  149.0   150.0   \n",
       "CTG0408.txt  0.0   11.0  146.0  157.0   1.0     0.0  154.0  153.0   155.0   \n",
       "\n",
       "             Variance Tendency CLASS  NSP  proba_classe_1.0  proba_classe_2.0  \\\n",
       "SegFile                                                                         \n",
       "CTG2039.txt      28.0      0.0   8.0  3.0          0.012243          0.040742   \n",
       "CTG0448.txt       0.0      0.0  10.0  2.0          0.006766          0.959610   \n",
       "CTG1545.txt       3.0      0.0   2.0  1.0          0.965710          0.028800   \n",
       "CTG0408.txt       0.0      1.0  10.0  2.0          0.003747          0.962448   \n",
       "\n",
       "             proba_classe_3.0  \n",
       "SegFile                        \n",
       "CTG2039.txt          0.947016  \n",
       "CTG0448.txt          0.033624  \n",
       "CTG1545.txt          0.005491  \n",
       "CTG0408.txt          0.033805  "
      ]
     },
     "execution_count": 39,
     "metadata": {},
     "output_type": "execute_result"
    }
   ],
   "source": [
    "df.sample(4)"
   ]
  },
  {
   "cell_type": "code",
   "execution_count": null,
   "id": "20bd017b-5e27-4325-9e0d-3f75624da964",
   "metadata": {},
   "outputs": [],
   "source": []
  },
  {
   "cell_type": "code",
   "execution_count": null,
   "id": "8573cc34-36ee-4655-8fe0-451872f3f5b3",
   "metadata": {},
   "outputs": [],
   "source": []
  }
 ],
 "metadata": {
  "kernelspec": {
   "display_name": "Python 3",
   "language": "python",
   "name": "python3"
  },
  "language_info": {
   "codemirror_mode": {
    "name": "ipython",
    "version": 3
   },
   "file_extension": ".py",
   "mimetype": "text/x-python",
   "name": "python",
   "nbconvert_exporter": "python",
   "pygments_lexer": "ipython3",
   "version": "3.9.2"
  }
 },
 "nbformat": 4,
 "nbformat_minor": 5
}
