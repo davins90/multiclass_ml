{
 "cells": [
  {
   "cell_type": "code",
   "execution_count": 190,
   "id": "44703ddf-64d7-491c-a5f3-5898f6797733",
   "metadata": {},
   "outputs": [],
   "source": [
    "import pandas as pd\n",
    "import numpy as np\n",
    "import matplotlib.pyplot as plt\n",
    "\n",
    "pd.set_option('display.max_rows',None)\n",
    "pd.set_option('display.max_columns',None)"
   ]
  },
  {
   "cell_type": "markdown",
   "id": "efcb1c34-430f-4c71-9c45-98cf7c9842f9",
   "metadata": {},
   "source": [
    "# 1.0 Data retrieval"
   ]
  },
  {
   "cell_type": "code",
   "execution_count": 191,
   "id": "c644be58-4675-4a4d-88ed-8debb7921f2c",
   "metadata": {},
   "outputs": [],
   "source": [
    "df = pd.read_pickle('../../data_lake/output/2_dp.pkl')"
   ]
  },
  {
   "cell_type": "code",
   "execution_count": 192,
   "id": "05b5c2b3-e287-4ce6-8a8d-e5cf2825aaae",
   "metadata": {},
   "outputs": [
    {
     "data": {
      "text/html": [
       "<div>\n",
       "<style scoped>\n",
       "    .dataframe tbody tr th:only-of-type {\n",
       "        vertical-align: middle;\n",
       "    }\n",
       "\n",
       "    .dataframe tbody tr th {\n",
       "        vertical-align: top;\n",
       "    }\n",
       "\n",
       "    .dataframe thead th {\n",
       "        text-align: right;\n",
       "    }\n",
       "</style>\n",
       "<table border=\"1\" class=\"dataframe\">\n",
       "  <thead>\n",
       "    <tr style=\"text-align: right;\">\n",
       "      <th></th>\n",
       "      <th>LBE</th>\n",
       "      <th>AC</th>\n",
       "      <th>FM</th>\n",
       "      <th>UC</th>\n",
       "      <th>ASTV</th>\n",
       "      <th>MSTV</th>\n",
       "      <th>ALTV</th>\n",
       "      <th>MLTV</th>\n",
       "      <th>DL</th>\n",
       "      <th>DS</th>\n",
       "      <th>DP</th>\n",
       "      <th>Width</th>\n",
       "      <th>Max</th>\n",
       "      <th>Nmax</th>\n",
       "      <th>Nzeros</th>\n",
       "      <th>Mode</th>\n",
       "      <th>Variance</th>\n",
       "      <th>Tendency</th>\n",
       "      <th>CLASS</th>\n",
       "      <th>NSP</th>\n",
       "    </tr>\n",
       "    <tr>\n",
       "      <th>SegFile</th>\n",
       "      <th></th>\n",
       "      <th></th>\n",
       "      <th></th>\n",
       "      <th></th>\n",
       "      <th></th>\n",
       "      <th></th>\n",
       "      <th></th>\n",
       "      <th></th>\n",
       "      <th></th>\n",
       "      <th></th>\n",
       "      <th></th>\n",
       "      <th></th>\n",
       "      <th></th>\n",
       "      <th></th>\n",
       "      <th></th>\n",
       "      <th></th>\n",
       "      <th></th>\n",
       "      <th></th>\n",
       "      <th></th>\n",
       "      <th></th>\n",
       "    </tr>\n",
       "  </thead>\n",
       "  <tbody>\n",
       "    <tr>\n",
       "      <th>CTG0304.txt</th>\n",
       "      <td>145.0</td>\n",
       "      <td>0.0</td>\n",
       "      <td>22.0</td>\n",
       "      <td>0.0</td>\n",
       "      <td>75.0</td>\n",
       "      <td>0.3</td>\n",
       "      <td>39.0</td>\n",
       "      <td>7.8</td>\n",
       "      <td>0.0</td>\n",
       "      <td>0.0</td>\n",
       "      <td>0.0</td>\n",
       "      <td>54.0</td>\n",
       "      <td>185.0</td>\n",
       "      <td>3.0</td>\n",
       "      <td>0.0</td>\n",
       "      <td>145.0</td>\n",
       "      <td>0.0</td>\n",
       "      <td>-1.0</td>\n",
       "      <td>10.0</td>\n",
       "      <td>2.0</td>\n",
       "    </tr>\n",
       "  </tbody>\n",
       "</table>\n",
       "</div>"
      ],
      "text/plain": [
       "               LBE   AC    FM   UC  ASTV  MSTV  ALTV  MLTV   DL   DS   DP  \\\n",
       "SegFile                                                                     \n",
       "CTG0304.txt  145.0  0.0  22.0  0.0  75.0   0.3  39.0   7.8  0.0  0.0  0.0   \n",
       "\n",
       "             Width    Max  Nmax  Nzeros   Mode  Variance Tendency CLASS  NSP  \n",
       "SegFile                                                                       \n",
       "CTG0304.txt   54.0  185.0   3.0     0.0  145.0       0.0     -1.0  10.0  2.0  "
      ]
     },
     "execution_count": 192,
     "metadata": {},
     "output_type": "execute_result"
    }
   ],
   "source": [
    "df.sample(1)"
   ]
  },
  {
   "cell_type": "code",
   "execution_count": 153,
   "id": "9f9531a3-d02f-46a1-a908-13a4cdbc7cbd",
   "metadata": {},
   "outputs": [],
   "source": [
    "df = df.drop(columns='CLASS')"
   ]
  },
  {
   "cell_type": "code",
   "execution_count": 154,
   "id": "95ecad40-3bf9-44b9-b043-8afb10896217",
   "metadata": {},
   "outputs": [],
   "source": [
    "for i in df:\n",
    "    if df[i].dtype == 'object':\n",
    "        df[i] = df[i].astype(str)"
   ]
  },
  {
   "cell_type": "code",
   "execution_count": 155,
   "id": "94a6d8b1-6ba1-490c-ab1b-83129860ce0d",
   "metadata": {},
   "outputs": [],
   "source": [
    "df1 = df"
   ]
  },
  {
   "cell_type": "code",
   "execution_count": 156,
   "id": "b35c055d-4eee-4b8d-9513-8e5ed90a9e00",
   "metadata": {},
   "outputs": [],
   "source": [
    "df1['NSP'] = df['NSP'].mask((df['NSP'] == '1.0') | (df['NSP'] == '2.0'),'0.0')"
   ]
  },
  {
   "cell_type": "code",
   "execution_count": 157,
   "id": "81217415-4124-4631-bc72-e8adfd48bef2",
   "metadata": {},
   "outputs": [
    {
     "data": {
      "text/plain": [
       "0.0    1950\n",
       "3.0     176\n",
       "Name: NSP, dtype: int64"
      ]
     },
     "execution_count": 157,
     "metadata": {},
     "output_type": "execute_result"
    }
   ],
   "source": [
    "df1['NSP'].value_counts()"
   ]
  },
  {
   "cell_type": "code",
   "execution_count": 158,
   "id": "e5b46dcb-9150-483f-9304-1d7fb6bfcca6",
   "metadata": {},
   "outputs": [],
   "source": [
    "df_under = df1[df1['NSP']=='3.0']\n",
    "df_over = df1[df1['NSP']=='0.0']\n",
    "df_over = df_over.sample(frac=df_under.shape[0]/df_over.shape[0],random_state=0)\n",
    "df2 = df_over.append(df_under).sample(frac=1)"
   ]
  },
  {
   "cell_type": "code",
   "execution_count": 159,
   "id": "9d91369a-361d-4e38-acb6-0b8737a36d23",
   "metadata": {},
   "outputs": [
    {
     "data": {
      "text/plain": [
       "3.0    176\n",
       "0.0    176\n",
       "Name: NSP, dtype: int64"
      ]
     },
     "execution_count": 159,
     "metadata": {},
     "output_type": "execute_result"
    }
   ],
   "source": [
    "df2['NSP'].value_counts()"
   ]
  },
  {
   "cell_type": "code",
   "execution_count": 160,
   "id": "220fa9c3-66b8-4b72-a19d-7c22dc1d9496",
   "metadata": {},
   "outputs": [],
   "source": [
    "df2['NSP'] = df2['NSP'].mask(df2['NSP']=='3.0','1.0')"
   ]
  },
  {
   "cell_type": "code",
   "execution_count": 161,
   "id": "3aae4c6d-b88e-4366-b6a8-46951c3ed582",
   "metadata": {},
   "outputs": [],
   "source": [
    "X = df2.drop(columns=['NSP'])\n",
    "y = df2[['NSP']]"
   ]
  },
  {
   "cell_type": "code",
   "execution_count": 162,
   "id": "b66197f2-881e-47ed-a07e-980656643990",
   "metadata": {},
   "outputs": [],
   "source": [
    "# pip install catboost"
   ]
  },
  {
   "cell_type": "code",
   "execution_count": 163,
   "id": "7fe7770b-96fe-451e-8a4e-2a8cf6c13195",
   "metadata": {},
   "outputs": [],
   "source": [
    "from sklearn.model_selection import train_test_split\n",
    "from sklearn.preprocessing import MinMaxScaler\n",
    "from sklearn.ensemble import GradientBoostingClassifier\n",
    "from sklearn.pipeline import Pipeline\n",
    "from sklearn.model_selection import RepeatedStratifiedKFold\n",
    "from sklearn.ensemble import RandomForestClassifier\n",
    "from sklearn.model_selection import GridSearchCV\n",
    "from sklearn import metrics\n",
    "from sklearn.metrics import *\n",
    "from sklearn.decomposition import PCA\n",
    "from sklearn.compose import ColumnTransformer\n",
    "from sklearn.preprocessing import OneHotEncoder\n",
    "from sklearn.experimental import enable_iterative_imputer\n",
    "from sklearn.impute import IterativeImputer\n",
    "from sklearn.impute import SimpleImputer\n",
    "from sklearn.ensemble import ExtraTreesRegressor\n",
    "from catboost import Pool, CatBoostClassifier"
   ]
  },
  {
   "cell_type": "code",
   "execution_count": 164,
   "id": "009b2a91-a5c9-4e27-b70a-87a4beec6383",
   "metadata": {},
   "outputs": [],
   "source": [
    "X_train, X_test, y_train, y_test = train_test_split(X, y , test_size = 0.4, random_state = 1)"
   ]
  },
  {
   "cell_type": "code",
   "execution_count": 165,
   "id": "91e6bcf5-3584-465d-8559-3bd608e1f308",
   "metadata": {},
   "outputs": [],
   "source": [
    "numerical_cols = X_train.select_dtypes(include=['int64', 'float64']).columns\n",
    "categorical_cols = X_train.select_dtypes(include=['object', 'bool']).columns"
   ]
  },
  {
   "cell_type": "code",
   "execution_count": 166,
   "id": "2fe3739b-58c4-4e47-aaf6-60b99f05d3ed",
   "metadata": {},
   "outputs": [],
   "source": [
    "numerical_preprocessor = Pipeline(steps=[(\"imputer\", IterativeImputer(ExtraTreesRegressor(n_estimators=5,random_state=1,verbose=0),random_state=1,verbose=0,add_indicator=True)),\n",
    "                                     (\"scaler\", MinMaxScaler())])\n",
    "categorical_preprocessor = Pipeline(steps=[(\"imputer\", SimpleImputer(strategy='constant', fill_value='missing',verbose=0,add_indicator=True)),\n",
    "                                       (\"label_enc\", OneHotEncoder(handle_unknown='ignore'))])\n",
    "preprocessor = ColumnTransformer(transformers=[(\"numerical_preprocessor\", numerical_preprocessor, numerical_cols),\n",
    "                                           (\"categorical_preprocessor\", categorical_preprocessor, categorical_cols)])"
   ]
  },
  {
   "cell_type": "code",
   "execution_count": 167,
   "id": "bad258c2-3831-4d80-b0c1-9075410f6502",
   "metadata": {},
   "outputs": [],
   "source": [
    "# pipe_model = CatBoostClassifier(iterations=500, \n",
    "#                            loss_function='Logloss', \n",
    "#                            eval_metric='Accuracy',\n",
    "#                            verbose=False,\n",
    "#                            early_stopping_rounds=50,\n",
    "#                            depth=3,\n",
    "#                            random_state=1)"
   ]
  },
  {
   "cell_type": "code",
   "execution_count": 181,
   "id": "30fb421f-a180-4168-854d-096afc04b701",
   "metadata": {},
   "outputs": [],
   "source": [
    "pipe_model = GradientBoostingClassifier(max_depth=2,n_estimators=3, random_state=1)"
   ]
  },
  {
   "cell_type": "code",
   "execution_count": 182,
   "id": "5365c10d-cd1a-421e-a9eb-d43bd8fb6f89",
   "metadata": {},
   "outputs": [],
   "source": [
    "model = Pipeline(steps=[('preprocessor', preprocessor),\n",
    "                        ('model', pipe_model)])"
   ]
  },
  {
   "cell_type": "code",
   "execution_count": 183,
   "id": "d67c90fe-2290-483f-8990-7afa9f59f8b1",
   "metadata": {},
   "outputs": [
    {
     "name": "stderr",
     "output_type": "stream",
     "text": [
      "/opt/conda/lib/python3.9/site-packages/sklearn/utils/validation.py:63: DataConversionWarning: A column-vector y was passed when a 1d array was expected. Please change the shape of y to (n_samples, ), for example using ravel().\n",
      "  return f(*args, **kwargs)\n"
     ]
    },
    {
     "data": {
      "text/plain": [
       "Pipeline(steps=[('preprocessor',\n",
       "                 ColumnTransformer(transformers=[('numerical_preprocessor',\n",
       "                                                  Pipeline(steps=[('imputer',\n",
       "                                                                   IterativeImputer(add_indicator=True,\n",
       "                                                                                    estimator=ExtraTreesRegressor(n_estimators=5,\n",
       "                                                                                                                  random_state=1),\n",
       "                                                                                    random_state=1)),\n",
       "                                                                  ('scaler',\n",
       "                                                                   MinMaxScaler())]),\n",
       "                                                  Index(['LBE', 'LB', 'AC', 'FM', 'UC', 'ASTV', 'MSTV', 'ALTV', 'MLTV', 'DL',\n",
       "       'DS', 'DP', 'Width', 'Min', '...Mean',\n",
       "       'Median', 'Variance'],\n",
       "      dtype='object')),\n",
       "                                                 ('categorical_preprocessor',\n",
       "                                                  Pipeline(steps=[('imputer',\n",
       "                                                                   SimpleImputer(add_indicator=True,\n",
       "                                                                                 fill_value='missing',\n",
       "                                                                                 strategy='constant')),\n",
       "                                                                  ('label_enc',\n",
       "                                                                   OneHotEncoder(handle_unknown='ignore'))]),\n",
       "                                                  Index(['Tendency'], dtype='object'))])),\n",
       "                ('model',\n",
       "                 GradientBoostingClassifier(max_depth=2, n_estimators=3,\n",
       "                                            random_state=1))])"
      ]
     },
     "execution_count": 183,
     "metadata": {},
     "output_type": "execute_result"
    }
   ],
   "source": [
    "model.fit(X_train,y_train)"
   ]
  },
  {
   "cell_type": "code",
   "execution_count": 184,
   "id": "b2731ae4-31ee-4532-86e0-969094066cb4",
   "metadata": {},
   "outputs": [],
   "source": [
    "# parameters = {'model__depth':[2,3],'model__iterations':[500,1000]}"
   ]
  },
  {
   "cell_type": "code",
   "execution_count": 185,
   "id": "f9f75bf7-2b2c-4dcf-9db7-709a567f28da",
   "metadata": {},
   "outputs": [],
   "source": [
    "parameters = {}"
   ]
  },
  {
   "cell_type": "code",
   "execution_count": 186,
   "id": "7e984678-9817-4b92-8f63-c9e3d8f991d5",
   "metadata": {},
   "outputs": [],
   "source": [
    "# k = RepeatedStratifiedKFold(n_splits=3, n_repeats=5, random_state=1)"
   ]
  },
  {
   "cell_type": "code",
   "execution_count": 187,
   "id": "c26519ba-d170-4364-9126-d8cb149191c0",
   "metadata": {},
   "outputs": [
    {
     "name": "stderr",
     "output_type": "stream",
     "text": [
      "/opt/conda/lib/python3.9/site-packages/sklearn/utils/validation.py:63: DataConversionWarning: A column-vector y was passed when a 1d array was expected. Please change the shape of y to (n_samples, ), for example using ravel().\n",
      "  return f(*args, **kwargs)\n",
      "/opt/conda/lib/python3.9/site-packages/sklearn/utils/validation.py:63: DataConversionWarning: A column-vector y was passed when a 1d array was expected. Please change the shape of y to (n_samples, ), for example using ravel().\n",
      "  return f(*args, **kwargs)\n"
     ]
    },
    {
     "name": "stdout",
     "output_type": "stream",
     "text": [
      "GridSearchCV results...\n",
      "Mean Train Scores: \n",
      "[0.86722391]\n",
      "\n",
      "Mean Test Scores: \n",
      "[0.81556003]\n",
      "\n"
     ]
    },
    {
     "name": "stderr",
     "output_type": "stream",
     "text": [
      "/opt/conda/lib/python3.9/site-packages/sklearn/utils/validation.py:63: DataConversionWarning: A column-vector y was passed when a 1d array was expected. Please change the shape of y to (n_samples, ), for example using ravel().\n",
      "  return f(*args, **kwargs)\n",
      "/opt/conda/lib/python3.9/site-packages/sklearn/utils/validation.py:63: DataConversionWarning: A column-vector y was passed when a 1d array was expected. Please change the shape of y to (n_samples, ), for example using ravel().\n",
      "  return f(*args, **kwargs)\n"
     ]
    }
   ],
   "source": [
    "model_grid = GridSearchCV(model,parameters,cv=3,scoring='accuracy',verbose=0,return_train_score=True).fit(X_train,y_train)\n",
    "print('GridSearchCV results...')\n",
    "print(\"Mean Train Scores: \\n{}\\n\".format(model_grid.cv_results_['mean_train_score']))\n",
    "print(\"Mean Test Scores: \\n{}\\n\".format(model_grid.cv_results_['mean_test_score']))"
   ]
  },
  {
   "cell_type": "code",
   "execution_count": 188,
   "id": "94409fff-34cf-4454-a530-802f9c78cfd0",
   "metadata": {},
   "outputs": [
    {
     "name": "stdout",
     "output_type": "stream",
     "text": [
      "Test results...\n"
     ]
    }
   ],
   "source": [
    "print('Test results...')\n",
    "y_test_predict_grid = model_grid.predict(X_test)"
   ]
  },
  {
   "cell_type": "code",
   "execution_count": 189,
   "id": "521fb841-096b-41a3-bb4b-495c76d58f4f",
   "metadata": {},
   "outputs": [
    {
     "name": "stdout",
     "output_type": "stream",
     "text": [
      "Model Test Accuracy: 0.8439716312056738\n",
      "--------------------------------------------------\n",
      "Model Test Confusion Matrix\n"
     ]
    },
    {
     "data": {
      "text/plain": [
       "<sklearn.metrics._plot.confusion_matrix.ConfusionMatrixDisplay at 0x7fab0328c340>"
      ]
     },
     "execution_count": 189,
     "metadata": {},
     "output_type": "execute_result"
    },
    {
     "data": {
      "image/png": "[encoded data removed]",
      "text/plain": [
       "<Figure size 432x288 with 2 Axes>"
      ]
     },
     "metadata": {
      "needs_background": "light"
     },
     "output_type": "display_data"
    }
   ],
   "source": [
    "print(\"Model Test Accuracy:\", metrics.accuracy_score(y_test, y_test_predict_grid))\n",
    "print('--------------------------------------------------')\n",
    "print('Model Test Confusion Matrix')\n",
    "cm = confusion_matrix(y_test,y_test_predict_grid,normalize='pred') \n",
    "cmd = ConfusionMatrixDisplay(cm,display_labels=['No sani','Sì sani'])\n",
    "cmd.plot()"
   ]
  },
  {
   "cell_type": "code",
   "execution_count": 147,
   "id": "437b862f-1f03-435c-8468-6307228bc1bd",
   "metadata": {},
   "outputs": [
    {
     "ename": "AttributeError",
     "evalue": "'GradientBoostingClassifier' object has no attribute 'get_feature_importance'",
     "output_type": "error",
     "traceback": [
      "\u001b[0;31m\u001b[0m",
      "\u001b[0;31mAttributeError\u001b[0mTraceback (most recent call last)",
      "\u001b[0;32m<ipython-input-147-7358d074a573>\u001b[0m in \u001b[0;36m<module>\u001b[0;34m\u001b[0m\n\u001b[0;32m----> 1\u001b[0;31m \u001b[0mfeature_importances\u001b[0m \u001b[0;34m=\u001b[0m \u001b[0mmodel_grid\u001b[0m\u001b[0;34m.\u001b[0m\u001b[0mbest_estimator_\u001b[0m\u001b[0;34m.\u001b[0m\u001b[0mnamed_steps\u001b[0m\u001b[0;34m[\u001b[0m\u001b[0;34m'model'\u001b[0m\u001b[0;34m]\u001b[0m\u001b[0;34m.\u001b[0m\u001b[0mget_feature_importance\u001b[0m\u001b[0;34m(\u001b[0m\u001b[0;34m)\u001b[0m\u001b[0;34m\u001b[0m\u001b[0;34m\u001b[0m\u001b[0m\n\u001b[0m\u001b[1;32m      2\u001b[0m \u001b[0mfeature_names\u001b[0m \u001b[0;34m=\u001b[0m \u001b[0mX_train\u001b[0m\u001b[0;34m.\u001b[0m\u001b[0mcolumns\u001b[0m\u001b[0;34m\u001b[0m\u001b[0;34m\u001b[0m\u001b[0m\n\u001b[1;32m      3\u001b[0m \u001b[0mlista\u001b[0m \u001b[0;34m=\u001b[0m \u001b[0;34m[\u001b[0m\u001b[0;34m]\u001b[0m\u001b[0;34m\u001b[0m\u001b[0;34m\u001b[0m\u001b[0m\n\u001b[1;32m      4\u001b[0m \u001b[0;32mfor\u001b[0m \u001b[0mscore\u001b[0m\u001b[0;34m,\u001b[0m \u001b[0mname\u001b[0m \u001b[0;32min\u001b[0m \u001b[0msorted\u001b[0m\u001b[0;34m(\u001b[0m\u001b[0mzip\u001b[0m\u001b[0;34m(\u001b[0m\u001b[0mfeature_importances\u001b[0m\u001b[0;34m,\u001b[0m \u001b[0mfeature_names\u001b[0m\u001b[0;34m)\u001b[0m\u001b[0;34m,\u001b[0m \u001b[0mreverse\u001b[0m\u001b[0;34m=\u001b[0m\u001b[0;32mTrue\u001b[0m\u001b[0;34m)\u001b[0m\u001b[0;34m:\u001b[0m\u001b[0;34m\u001b[0m\u001b[0;34m\u001b[0m\u001b[0m\n\u001b[1;32m      5\u001b[0m \u001b[0;31m#         print('{}: {}'.format(name, score))\u001b[0m\u001b[0;34m\u001b[0m\u001b[0;34m\u001b[0m\u001b[0;34m\u001b[0m\u001b[0m\n",
      "\u001b[0;31mAttributeError\u001b[0m: 'GradientBoostingClassifier' object has no attribute 'get_feature_importance'"
     ]
    }
   ],
   "source": [
    "feature_importances = model_grid.best_estimator_.named_steps['model'].get_feature_importance()\n",
    "feature_names = X_train.columns\n",
    "lista = []\n",
    "for score, name in sorted(zip(feature_importances, feature_names), reverse=True):\n",
    "#         print('{}: {}'.format(name, score))\n",
    "    lista.append(name)\n",
    "print('Di seguito le prime 10 features per importanza:')\n",
    "print(lista[0:10])"
   ]
  },
  {
   "cell_type": "code",
   "execution_count": 178,
   "id": "660dc557-b487-400c-8b09-d04be4a4493c",
   "metadata": {},
   "outputs": [],
   "source": [
    "df['proba1'] = 0\n",
    "df['proba1'] = model_grid.predict_proba(df[X_test.columns])[:,1]"
   ]
  },
  {
   "cell_type": "code",
   "execution_count": 179,
   "id": "1959ad39-9cb5-440f-ad95-271f4d1de398",
   "metadata": {},
   "outputs": [
    {
     "data": {
      "text/html": [
       "<div>\n",
       "<style scoped>\n",
       "    .dataframe tbody tr th:only-of-type {\n",
       "        vertical-align: middle;\n",
       "    }\n",
       "\n",
       "    .dataframe tbody tr th {\n",
       "        vertical-align: top;\n",
       "    }\n",
       "\n",
       "    .dataframe thead th {\n",
       "        text-align: right;\n",
       "    }\n",
       "</style>\n",
       "<table border=\"1\" class=\"dataframe\">\n",
       "  <thead>\n",
       "    <tr style=\"text-align: right;\">\n",
       "      <th></th>\n",
       "      <th>LBE</th>\n",
       "      <th>LB</th>\n",
       "      <th>AC</th>\n",
       "      <th>FM</th>\n",
       "      <th>UC</th>\n",
       "      <th>ASTV</th>\n",
       "      <th>MSTV</th>\n",
       "      <th>ALTV</th>\n",
       "      <th>MLTV</th>\n",
       "      <th>DL</th>\n",
       "      <th>DS</th>\n",
       "      <th>DP</th>\n",
       "      <th>Width</th>\n",
       "      <th>Min</th>\n",
       "      <th>Max</th>\n",
       "      <th>Nmax</th>\n",
       "      <th>Nzeros</th>\n",
       "      <th>Mode</th>\n",
       "      <th>Mean</th>\n",
       "      <th>Median</th>\n",
       "      <th>Variance</th>\n",
       "      <th>Tendency</th>\n",
       "      <th>NSP</th>\n",
       "      <th>proba1</th>\n",
       "    </tr>\n",
       "    <tr>\n",
       "      <th>SegFile</th>\n",
       "      <th></th>\n",
       "      <th></th>\n",
       "      <th></th>\n",
       "      <th></th>\n",
       "      <th></th>\n",
       "      <th></th>\n",
       "      <th></th>\n",
       "      <th></th>\n",
       "      <th></th>\n",
       "      <th></th>\n",
       "      <th></th>\n",
       "      <th></th>\n",
       "      <th></th>\n",
       "      <th></th>\n",
       "      <th></th>\n",
       "      <th></th>\n",
       "      <th></th>\n",
       "      <th></th>\n",
       "      <th></th>\n",
       "      <th></th>\n",
       "      <th></th>\n",
       "      <th></th>\n",
       "      <th></th>\n",
       "      <th></th>\n",
       "    </tr>\n",
       "  </thead>\n",
       "  <tbody>\n",
       "    <tr>\n",
       "      <th>CTG0583.txt</th>\n",
       "      <td>120.0</td>\n",
       "      <td>120.0</td>\n",
       "      <td>2.0</td>\n",
       "      <td>2.0</td>\n",
       "      <td>2.0</td>\n",
       "      <td>40.0</td>\n",
       "      <td>1.0</td>\n",
       "      <td>0.0</td>\n",
       "      <td>8.7</td>\n",
       "      <td>0.0</td>\n",
       "      <td>0.0</td>\n",
       "      <td>0.0</td>\n",
       "      <td>64.0</td>\n",
       "      <td>112.0</td>\n",
       "      <td>176.0</td>\n",
       "      <td>4.0</td>\n",
       "      <td>0.0</td>\n",
       "      <td>123.0</td>\n",
       "      <td>132.0</td>\n",
       "      <td>128.0</td>\n",
       "      <td>31.0</td>\n",
       "      <td>-1.0</td>\n",
       "      <td>0.0</td>\n",
       "      <td>0.382465</td>\n",
       "    </tr>\n",
       "  </tbody>\n",
       "</table>\n",
       "</div>"
      ],
      "text/plain": [
       "               LBE     LB   AC   FM   UC  ASTV  MSTV  ALTV  MLTV   DL   DS  \\\n",
       "SegFile                                                                      \n",
       "CTG0583.txt  120.0  120.0  2.0  2.0  2.0  40.0   1.0   0.0   8.7  0.0  0.0   \n",
       "\n",
       "              DP  Width    Min    Max  Nmax  Nzeros   Mode   Mean  Median  \\\n",
       "SegFile                                                                     \n",
       "CTG0583.txt  0.0   64.0  112.0  176.0   4.0     0.0  123.0  132.0   128.0   \n",
       "\n",
       "             Variance Tendency  NSP    proba1  \n",
       "SegFile                                        \n",
       "CTG0583.txt      31.0     -1.0  0.0  0.382465  "
      ]
     },
     "execution_count": 179,
     "metadata": {},
     "output_type": "execute_result"
    }
   ],
   "source": [
    "df.sample(1)"
   ]
  },
  {
   "cell_type": "code",
   "execution_count": 180,
   "id": "d17bed9c-48b5-49d1-a4c8-88e80717d7c0",
   "metadata": {},
   "outputs": [
    {
     "data": {
      "text/plain": [
       "<AxesSubplot:>"
      ]
     },
     "execution_count": 180,
     "metadata": {},
     "output_type": "execute_result"
    },
    {
     "data": {
      "image/png": "[encoded data removed]",
      "text/plain": [
       "<Figure size 432x288 with 1 Axes>"
      ]
     },
     "metadata": {
      "needs_background": "light"
     },
     "output_type": "display_data"
    }
   ],
   "source": [
    "df['proba1'].hist()"
   ]
  },
  {
   "cell_type": "code",
   "execution_count": 54,
   "id": "aa028c65-7699-49e0-b83a-3e19263874f9",
   "metadata": {},
   "outputs": [
    {
     "data": {
      "text/plain": [
       "<AxesSubplot:>"
      ]
     },
     "execution_count": 54,
     "metadata": {},
     "output_type": "execute_result"
    },
    {
     "data": {
      "image/png": "[encoded data removed]",
      "text/plain": [
       "<Figure size 432x288 with 1 Axes>"
      ]
     },
     "metadata": {
      "needs_background": "light"
     },
     "output_type": "display_data"
    }
   ],
   "source": [
    "df['proba1'].hist()"
   ]
  },
  {
   "cell_type": "code",
   "execution_count": 28,
   "id": "44460933-7537-4835-bdd9-fda219b60f63",
   "metadata": {},
   "outputs": [
    {
     "data": {
      "text/plain": [
       "<AxesSubplot:>"
      ]
     },
     "execution_count": 28,
     "metadata": {},
     "output_type": "execute_result"
    },
    {
     "data": {
      "image/png": "[encoded data removed]",
      "text/plain": [
       "<Figure size 432x288 with 1 Axes>"
      ]
     },
     "metadata": {
      "needs_background": "light"
     },
     "output_type": "display_data"
    }
   ],
   "source": [
    "df['proba1'].hist()"
   ]
  },
  {
   "cell_type": "code",
   "execution_count": null,
   "id": "14df5335-b10a-448b-9b90-9b94571a10c5",
   "metadata": {},
   "outputs": [],
   "source": []
  },
  {
   "cell_type": "code",
   "execution_count": null,
   "id": "6ca95bfb-7361-4ca9-967d-a578fd3d2d2e",
   "metadata": {},
   "outputs": [],
   "source": []
  },
  {
   "cell_type": "code",
   "execution_count": 115,
   "id": "776e0012-e31a-43ef-a260-fcd6e2ad4d10",
   "metadata": {},
   "outputs": [],
   "source": [
    "steps = list()\n",
    "steps.append(('scaler', MinMaxScaler()))\n",
    "steps.append(('pca', PCA(n_components=2)))\n",
    "steps.append(('model', GradientBoostingClassifier(max_depth=1,n_estimators=3, random_state=1)))\n",
    "# steps.append(('model', RandomForestClassifier(max_depth=2,n_estimators=3, random_state=1)))\n",
    "pipeline_accumulation = Pipeline(steps=steps)"
   ]
  },
  {
   "cell_type": "code",
   "execution_count": 116,
   "id": "0957556c-1056-4180-9c22-1a6ed65439b2",
   "metadata": {},
   "outputs": [],
   "source": [
    "parameters = {}"
   ]
  },
  {
   "cell_type": "code",
   "execution_count": 117,
   "id": "dd0f5e95-6365-4b47-890e-0412ec672721",
   "metadata": {},
   "outputs": [],
   "source": [
    "k = RepeatedStratifiedKFold(n_splits=3, n_repeats=5, random_state=1)\n",
    "model_accumulation = GridSearchCV(pipeline_accumulation,param_grid=parameters,cv=k,scoring='accuracy').fit(X_train, y_train)"
   ]
  },
  {
   "cell_type": "code",
   "execution_count": 118,
   "id": "46843535-21b3-4593-adb6-fb6fe1ba487e",
   "metadata": {},
   "outputs": [
    {
     "name": "stdout",
     "output_type": "stream",
     "text": [
      "Best Estimator: \n",
      "Pipeline(steps=[('scaler', MinMaxScaler()), ('pca', PCA(n_components=2)),\n",
      "                ('model',\n",
      "                 GradientBoostingClassifier(max_depth=1, n_estimators=3,\n",
      "                                            random_state=1))])\n",
      "\n",
      "Best Parameters: \n",
      "{}\n",
      "\n",
      "Best Test Score: \n",
      "1.0\n",
      "\n",
      "Mean Test Scores: \n",
      "[1.]\n",
      "\n"
     ]
    }
   ],
   "source": [
    "print(\"Best Estimator: \\n{}\\n\".format(model_accumulation.best_estimator_))\n",
    "print(\"Best Parameters: \\n{}\\n\".format(model_accumulation.best_params_))\n",
    "print(\"Best Test Score: \\n{}\\n\".format(model_accumulation.best_score_))\n",
    "print(\"Mean Test Scores: \\n{}\\n\".format(model_accumulation.cv_results_['mean_test_score']))"
   ]
  },
  {
   "cell_type": "code",
   "execution_count": 119,
   "id": "d68caae7-8656-46d4-b714-afac5daeb26b",
   "metadata": {},
   "outputs": [
    {
     "name": "stdout",
     "output_type": "stream",
     "text": [
      "Model Test Recall: 1.0\n",
      "--------------------------------------------------\n",
      "Model Test Precision: 1.0\n",
      "--------------------------------------------------\n",
      "Model Test F1: 1.0\n",
      "--------------------------------------------------\n",
      "Model Test Accuracy: 1.0\n",
      "--------------------------------------------------\n",
      "Model Confusion Matrix\n"
     ]
    },
    {
     "data": {
      "image/png": "[encoded data removed]",
      "text/plain": [
       "<Figure size 432x288 with 2 Axes>"
      ]
     },
     "metadata": {
      "needs_background": "light"
     },
     "output_type": "display_data"
    }
   ],
   "source": [
    "y_test_predict_grid = model_accumulation.predict(X_test)\n",
    "print(\"Model Test Recall:\", metrics.recall_score(y_test, y_test_predict_grid))\n",
    "print('--------------------------------------------------')\n",
    "print(\"Model Test Precision:\", metrics.precision_score(y_test, y_test_predict_grid))\n",
    "print('--------------------------------------------------')\n",
    "print(\"Model Test F1:\", metrics.f1_score(y_test, y_test_predict_grid))\n",
    "print('--------------------------------------------------')\n",
    "print(\"Model Test Accuracy:\", metrics.accuracy_score(y_test, y_test_predict_grid))\n",
    "print('--------------------------------------------------')\n",
    "print('Model Confusion Matrix')\n",
    "cm = confusion_matrix(y_test,y_test_predict_grid,normalize=None) \n",
    "cmd = ConfusionMatrixDisplay(cm,display_labels=['No non sano','Sì sano']).plot()"
   ]
  },
  {
   "cell_type": "code",
   "execution_count": 47,
   "id": "a459417a-0af6-42ab-85e1-6fd48d64f952",
   "metadata": {},
   "outputs": [],
   "source": [
    "df['accumulation_intensity'] = 0\n",
    "df['accumulation_intensity'] = model_accumulation.predict_proba(df[df2.drop(columns=['NSP']).columns])[:,1]"
   ]
  },
  {
   "cell_type": "code",
   "execution_count": 41,
   "id": "15891810-5665-46d7-8e8f-3664b8a3f343",
   "metadata": {},
   "outputs": [
    {
     "data": {
      "text/plain": [
       "<AxesSubplot:>"
      ]
     },
     "execution_count": 41,
     "metadata": {},
     "output_type": "execute_result"
    },
    {
     "data": {
      "image/png": "[encoded data removed]",
      "text/plain": [
       "<Figure size 432x288 with 1 Axes>"
      ]
     },
     "metadata": {
      "needs_background": "light"
     },
     "output_type": "display_data"
    }
   ],
   "source": [
    "df['accumulation_intensity'].hist()"
   ]
  },
  {
   "cell_type": "code",
   "execution_count": 137,
   "id": "16d667b2-953a-4a69-8833-b3651bb94182",
   "metadata": {},
   "outputs": [
    {
     "data": {
      "text/html": [
       "<div>\n",
       "<style scoped>\n",
       "    .dataframe tbody tr th:only-of-type {\n",
       "        vertical-align: middle;\n",
       "    }\n",
       "\n",
       "    .dataframe tbody tr th {\n",
       "        vertical-align: top;\n",
       "    }\n",
       "\n",
       "    .dataframe thead th {\n",
       "        text-align: right;\n",
       "    }\n",
       "</style>\n",
       "<table border=\"1\" class=\"dataframe\">\n",
       "  <thead>\n",
       "    <tr style=\"text-align: right;\">\n",
       "      <th></th>\n",
       "      <th>LBE</th>\n",
       "      <th>LB</th>\n",
       "      <th>AC</th>\n",
       "      <th>FM</th>\n",
       "      <th>UC</th>\n",
       "      <th>ASTV</th>\n",
       "      <th>MSTV</th>\n",
       "      <th>ALTV</th>\n",
       "      <th>MLTV</th>\n",
       "      <th>DL</th>\n",
       "      <th>DS</th>\n",
       "      <th>DP</th>\n",
       "      <th>Width</th>\n",
       "      <th>Min</th>\n",
       "      <th>Max</th>\n",
       "      <th>Nmax</th>\n",
       "      <th>Nzeros</th>\n",
       "      <th>Mode</th>\n",
       "      <th>Mean</th>\n",
       "      <th>Median</th>\n",
       "      <th>Variance</th>\n",
       "      <th>Tendency</th>\n",
       "      <th>CLASS</th>\n",
       "      <th>NSP</th>\n",
       "      <th>accumulation_intensity</th>\n",
       "    </tr>\n",
       "    <tr>\n",
       "      <th>SegFile</th>\n",
       "      <th></th>\n",
       "      <th></th>\n",
       "      <th></th>\n",
       "      <th></th>\n",
       "      <th></th>\n",
       "      <th></th>\n",
       "      <th></th>\n",
       "      <th></th>\n",
       "      <th></th>\n",
       "      <th></th>\n",
       "      <th></th>\n",
       "      <th></th>\n",
       "      <th></th>\n",
       "      <th></th>\n",
       "      <th></th>\n",
       "      <th></th>\n",
       "      <th></th>\n",
       "      <th></th>\n",
       "      <th></th>\n",
       "      <th></th>\n",
       "      <th></th>\n",
       "      <th></th>\n",
       "      <th></th>\n",
       "      <th></th>\n",
       "      <th></th>\n",
       "    </tr>\n",
       "  </thead>\n",
       "  <tbody>\n",
       "    <tr>\n",
       "      <th>CTG0203.txt</th>\n",
       "      <td>120.0</td>\n",
       "      <td>120.0</td>\n",
       "      <td>0.0</td>\n",
       "      <td>4.0</td>\n",
       "      <td>0.0</td>\n",
       "      <td>54.0</td>\n",
       "      <td>0.6</td>\n",
       "      <td>12.0</td>\n",
       "      <td>8.6</td>\n",
       "      <td>0.0</td>\n",
       "      <td>0.0</td>\n",
       "      <td>0.0</td>\n",
       "      <td>24.0</td>\n",
       "      <td>109.0</td>\n",
       "      <td>133.0</td>\n",
       "      <td>0.0</td>\n",
       "      <td>1.0</td>\n",
       "      <td>123.0</td>\n",
       "      <td>122.0</td>\n",
       "      <td>124.0</td>\n",
       "      <td>1.0</td>\n",
       "      <td>0.0</td>\n",
       "      <td>1.0</td>\n",
       "      <td>1.0</td>\n",
       "      <td>0.616045</td>\n",
       "    </tr>\n",
       "    <tr>\n",
       "      <th>CTG1616.txt</th>\n",
       "      <td>137.0</td>\n",
       "      <td>137.0</td>\n",
       "      <td>2.0</td>\n",
       "      <td>45.0</td>\n",
       "      <td>1.0</td>\n",
       "      <td>64.0</td>\n",
       "      <td>1.9</td>\n",
       "      <td>0.0</td>\n",
       "      <td>6.9</td>\n",
       "      <td>2.0</td>\n",
       "      <td>0.0</td>\n",
       "      <td>0.0</td>\n",
       "      <td>76.0</td>\n",
       "      <td>96.0</td>\n",
       "      <td>172.0</td>\n",
       "      <td>4.0</td>\n",
       "      <td>0.0</td>\n",
       "      <td>142.0</td>\n",
       "      <td>130.0</td>\n",
       "      <td>143.0</td>\n",
       "      <td>5.0</td>\n",
       "      <td>0.0</td>\n",
       "      <td>1.0</td>\n",
       "      <td>1.0</td>\n",
       "      <td>0.616045</td>\n",
       "    </tr>\n",
       "    <tr>\n",
       "      <th>CTG1176.txt</th>\n",
       "      <td>126.0</td>\n",
       "      <td>126.0</td>\n",
       "      <td>3.0</td>\n",
       "      <td>0.0</td>\n",
       "      <td>5.0</td>\n",
       "      <td>29.0</td>\n",
       "      <td>1.3</td>\n",
       "      <td>0.0</td>\n",
       "      <td>9.2</td>\n",
       "      <td>0.0</td>\n",
       "      <td>0.0</td>\n",
       "      <td>0.0</td>\n",
       "      <td>65.0</td>\n",
       "      <td>103.0</td>\n",
       "      <td>168.0</td>\n",
       "      <td>2.0</td>\n",
       "      <td>0.0</td>\n",
       "      <td>127.0</td>\n",
       "      <td>134.0</td>\n",
       "      <td>133.0</td>\n",
       "      <td>18.0</td>\n",
       "      <td>0.0</td>\n",
       "      <td>2.0</td>\n",
       "      <td>1.0</td>\n",
       "      <td>0.616045</td>\n",
       "    </tr>\n",
       "    <tr>\n",
       "      <th>CTG1222.txt</th>\n",
       "      <td>135.0</td>\n",
       "      <td>135.0</td>\n",
       "      <td>0.0</td>\n",
       "      <td>0.0</td>\n",
       "      <td>5.0</td>\n",
       "      <td>50.0</td>\n",
       "      <td>0.6</td>\n",
       "      <td>0.0</td>\n",
       "      <td>12.2</td>\n",
       "      <td>0.0</td>\n",
       "      <td>0.0</td>\n",
       "      <td>0.0</td>\n",
       "      <td>34.0</td>\n",
       "      <td>118.0</td>\n",
       "      <td>152.0</td>\n",
       "      <td>0.0</td>\n",
       "      <td>0.0</td>\n",
       "      <td>137.0</td>\n",
       "      <td>136.0</td>\n",
       "      <td>138.0</td>\n",
       "      <td>1.0</td>\n",
       "      <td>0.0</td>\n",
       "      <td>1.0</td>\n",
       "      <td>1.0</td>\n",
       "      <td>0.616045</td>\n",
       "    </tr>\n",
       "  </tbody>\n",
       "</table>\n",
       "</div>"
      ],
      "text/plain": [
       "               LBE     LB   AC    FM   UC  ASTV  MSTV  ALTV  MLTV   DL   DS  \\\n",
       "SegFile                                                                       \n",
       "CTG0203.txt  120.0  120.0  0.0   4.0  0.0  54.0   0.6  12.0   8.6  0.0  0.0   \n",
       "CTG1616.txt  137.0  137.0  2.0  45.0  1.0  64.0   1.9   0.0   6.9  2.0  0.0   \n",
       "CTG1176.txt  126.0  126.0  3.0   0.0  5.0  29.0   1.3   0.0   9.2  0.0  0.0   \n",
       "CTG1222.txt  135.0  135.0  0.0   0.0  5.0  50.0   0.6   0.0  12.2  0.0  0.0   \n",
       "\n",
       "              DP  Width    Min    Max  Nmax  Nzeros   Mode   Mean  Median  \\\n",
       "SegFile                                                                     \n",
       "CTG0203.txt  0.0   24.0  109.0  133.0   0.0     1.0  123.0  122.0   124.0   \n",
       "CTG1616.txt  0.0   76.0   96.0  172.0   4.0     0.0  142.0  130.0   143.0   \n",
       "CTG1176.txt  0.0   65.0  103.0  168.0   2.0     0.0  127.0  134.0   133.0   \n",
       "CTG1222.txt  0.0   34.0  118.0  152.0   0.0     0.0  137.0  136.0   138.0   \n",
       "\n",
       "             Variance Tendency CLASS  NSP  accumulation_intensity  \n",
       "SegFile                                                            \n",
       "CTG0203.txt       1.0      0.0   1.0  1.0                0.616045  \n",
       "CTG1616.txt       5.0      0.0   1.0  1.0                0.616045  \n",
       "CTG1176.txt      18.0      0.0   2.0  1.0                0.616045  \n",
       "CTG1222.txt       1.0      0.0   1.0  1.0                0.616045  "
      ]
     },
     "execution_count": 137,
     "metadata": {},
     "output_type": "execute_result"
    }
   ],
   "source": [
    "df.sample(4)"
   ]
  },
  {
   "cell_type": "code",
   "execution_count": null,
   "id": "7101645d-9cc1-4b28-969b-2608d9dde9bf",
   "metadata": {},
   "outputs": [],
   "source": []
  }
 ],
 "metadata": {
  "kernelspec": {
   "display_name": "Python 3",
   "language": "python",
   "name": "python3"
  },
  "language_info": {
   "codemirror_mode": {
    "name": "ipython",
    "version": 3
   },
   "file_extension": ".py",
   "mimetype": "text/x-python",
   "name": "python",
   "nbconvert_exporter": "python",
   "pygments_lexer": "ipython3",
   "version": "3.9.2"
  }
 },
 "nbformat": 4,
 "nbformat_minor": 5
}
