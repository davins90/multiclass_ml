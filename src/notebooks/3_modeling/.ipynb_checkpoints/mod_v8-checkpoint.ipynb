{
 "cells": [
  {
   "cell_type": "code",
   "execution_count": 1,
   "id": "3acdb1c3-7b50-4a52-b469-8fe9b88fd96c",
   "metadata": {},
   "outputs": [],
   "source": [
    "# pip install shap"
   ]
  },
  {
   "cell_type": "code",
   "execution_count": 2,
   "id": "44703ddf-64d7-491c-a5f3-5898f6797733",
   "metadata": {},
   "outputs": [],
   "source": [
    "import pandas as pd\n",
    "import modules\n",
    "\n",
    "from modules import ml_functions\n",
    "\n",
    "pd.set_option('display.max_rows',None)\n",
    "pd.set_option('display.max_columns',None)"
   ]
  },
  {
   "cell_type": "markdown",
   "id": "efcb1c34-430f-4c71-9c45-98cf7c9842f9",
   "metadata": {},
   "source": [
    "# 1.0 Data retrieval"
   ]
  },
  {
   "cell_type": "code",
   "execution_count": 3,
   "id": "c644be58-4675-4a4d-88ed-8debb7921f2c",
   "metadata": {},
   "outputs": [],
   "source": [
    "df = pd.read_pickle('../../data_lake/output/2_dp.pkl')"
   ]
  },
  {
   "cell_type": "code",
   "execution_count": 4,
   "id": "05b5c2b3-e287-4ce6-8a8d-e5cf2825aaae",
   "metadata": {},
   "outputs": [
    {
     "data": {
      "text/html": [
       "<div>\n",
       "<style scoped>\n",
       "    .dataframe tbody tr th:only-of-type {\n",
       "        vertical-align: middle;\n",
       "    }\n",
       "\n",
       "    .dataframe tbody tr th {\n",
       "        vertical-align: top;\n",
       "    }\n",
       "\n",
       "    .dataframe thead th {\n",
       "        text-align: right;\n",
       "    }\n",
       "</style>\n",
       "<table border=\"1\" class=\"dataframe\">\n",
       "  <thead>\n",
       "    <tr style=\"text-align: right;\">\n",
       "      <th></th>\n",
       "      <th>LBE</th>\n",
       "      <th>LB</th>\n",
       "      <th>AC</th>\n",
       "      <th>FM</th>\n",
       "      <th>UC</th>\n",
       "      <th>ASTV</th>\n",
       "      <th>MSTV</th>\n",
       "      <th>ALTV</th>\n",
       "      <th>MLTV</th>\n",
       "      <th>DL</th>\n",
       "      <th>DS</th>\n",
       "      <th>DP</th>\n",
       "      <th>Width</th>\n",
       "      <th>Min</th>\n",
       "      <th>Max</th>\n",
       "      <th>Nmax</th>\n",
       "      <th>Nzeros</th>\n",
       "      <th>Mode</th>\n",
       "      <th>Mean</th>\n",
       "      <th>Median</th>\n",
       "      <th>Variance</th>\n",
       "      <th>Tendency</th>\n",
       "      <th>CLASS</th>\n",
       "      <th>NSP</th>\n",
       "    </tr>\n",
       "    <tr>\n",
       "      <th>SegFile</th>\n",
       "      <th></th>\n",
       "      <th></th>\n",
       "      <th></th>\n",
       "      <th></th>\n",
       "      <th></th>\n",
       "      <th></th>\n",
       "      <th></th>\n",
       "      <th></th>\n",
       "      <th></th>\n",
       "      <th></th>\n",
       "      <th></th>\n",
       "      <th></th>\n",
       "      <th></th>\n",
       "      <th></th>\n",
       "      <th></th>\n",
       "      <th></th>\n",
       "      <th></th>\n",
       "      <th></th>\n",
       "      <th></th>\n",
       "      <th></th>\n",
       "      <th></th>\n",
       "      <th></th>\n",
       "      <th></th>\n",
       "      <th></th>\n",
       "    </tr>\n",
       "  </thead>\n",
       "  <tbody>\n",
       "    <tr>\n",
       "      <th>CTG0874.txt</th>\n",
       "      <td>136.0</td>\n",
       "      <td>136.0</td>\n",
       "      <td>2.0</td>\n",
       "      <td>0.0</td>\n",
       "      <td>3.0</td>\n",
       "      <td>44.0</td>\n",
       "      <td>0.7</td>\n",
       "      <td>18.0</td>\n",
       "      <td>4.1</td>\n",
       "      <td>0.0</td>\n",
       "      <td>0.0</td>\n",
       "      <td>0.0</td>\n",
       "      <td>24.0</td>\n",
       "      <td>133.0</td>\n",
       "      <td>157.0</td>\n",
       "      <td>1.0</td>\n",
       "      <td>0.0</td>\n",
       "      <td>140.0</td>\n",
       "      <td>141.0</td>\n",
       "      <td>142.0</td>\n",
       "      <td>1.0</td>\n",
       "      <td>0.0</td>\n",
       "      <td>2.0</td>\n",
       "      <td>1.0</td>\n",
       "    </tr>\n",
       "  </tbody>\n",
       "</table>\n",
       "</div>"
      ],
      "text/plain": [
       "               LBE     LB   AC   FM   UC  ASTV  MSTV  ALTV  MLTV   DL   DS  \\\n",
       "SegFile                                                                      \n",
       "CTG0874.txt  136.0  136.0  2.0  0.0  3.0  44.0   0.7  18.0   4.1  0.0  0.0   \n",
       "\n",
       "              DP  Width    Min    Max  Nmax  Nzeros   Mode   Mean  Median  \\\n",
       "SegFile                                                                     \n",
       "CTG0874.txt  0.0   24.0  133.0  157.0   1.0     0.0  140.0  141.0   142.0   \n",
       "\n",
       "             Variance Tendency CLASS  NSP  \n",
       "SegFile                                    \n",
       "CTG0874.txt       1.0      0.0   2.0  1.0  "
      ]
     },
     "execution_count": 4,
     "metadata": {},
     "output_type": "execute_result"
    }
   ],
   "source": [
    "df.sample(1)"
   ]
  },
  {
   "cell_type": "markdown",
   "id": "f912521b-f7d1-4fe3-837d-0b1b236ba189",
   "metadata": {},
   "source": [
    "# 2.0 Data preparation"
   ]
  },
  {
   "cell_type": "code",
   "execution_count": 5,
   "id": "95ecad40-3bf9-44b9-b043-8afb10896217",
   "metadata": {},
   "outputs": [],
   "source": [
    "for i in df:\n",
    "    if df[i].dtype == 'object':\n",
    "        df[i] = df[i].astype(str)"
   ]
  },
  {
   "cell_type": "code",
   "execution_count": 6,
   "id": "ce4cec6c-d0ac-4523-b1e7-7210a5c18167",
   "metadata": {},
   "outputs": [],
   "source": [
    "df = df.drop(columns='CLASS')"
   ]
  },
  {
   "cell_type": "code",
   "execution_count": 7,
   "id": "088e163f-0c28-419a-8ac0-c1f1fa079152",
   "metadata": {},
   "outputs": [],
   "source": [
    "df_ml = df.copy()"
   ]
  },
  {
   "cell_type": "markdown",
   "id": "e06a1ea8-83b8-4cce-9b67-a57476ea873c",
   "metadata": {},
   "source": [
    "# 3.0 Modeling\n",
    "## 3.1 Classe 1"
   ]
  },
  {
   "cell_type": "code",
   "execution_count": 8,
   "id": "1284ef0f-730c-4de9-96ee-583acf4729f4",
   "metadata": {},
   "outputs": [],
   "source": [
    "class_nsp = 1.0"
   ]
  },
  {
   "cell_type": "code",
   "execution_count": 9,
   "id": "7588ead5-5527-42a7-9031-18f8c9510213",
   "metadata": {},
   "outputs": [],
   "source": [
    "df_model, df_ml = ml_functions.model_preparation(df_ml,class_nsp)"
   ]
  },
  {
   "cell_type": "code",
   "execution_count": 10,
   "id": "eea134c6-5fd5-49b2-a5ea-2f18f8c1569c",
   "metadata": {},
   "outputs": [
    {
     "name": "stdout",
     "output_type": "stream",
     "text": [
      "(942, 22)\n",
      "AUC Score:  0.6282822440717177\n"
     ]
    },
    {
     "data": {
      "image/png": "[encoded data removed]",
      "text/plain": [
       "<Figure size 576x684 with 1 Axes>"
      ]
     },
     "metadata": {
      "needs_background": "light"
     },
     "output_type": "display_data"
    },
    {
     "name": "stdout",
     "output_type": "stream",
     "text": [
      "Adversarial validation check: YES CONCENPT DRIFT- Check features importance: Dev and Test set are not statistical similar\n",
      "AUC Score:  0.5628968253968254\n",
      "GridSearchCV results...\n",
      "Mean Train Scores: \n",
      "[0.99312539 0.99125038 1.         0.99875039 0.99937578 0.99562461\n",
      " 1.         1.        ]\n",
      "\n",
      "Mean CV Scores: \n",
      "[0.93127012 0.93126074 0.93252326 0.92876855 0.9300123  0.93376231\n",
      " 0.93251387 0.93502013]\n",
      "\n",
      "Best Parameters: \n",
      "{'model__depth': 4, 'model__iterations': 1000, 'model__l2_leaf_reg': 6}\n",
      "\n"
     ]
    }
   ],
   "source": [
    "model, X_test, y_test = ml_functions.model_training(df_model)"
   ]
  },
  {
   "cell_type": "code",
   "execution_count": 11,
   "id": "662013dd-58ae-4903-8d67-d1b257b29ae2",
   "metadata": {},
   "outputs": [
    {
     "name": "stdout",
     "output_type": "stream",
     "text": [
      "Test results...\n",
      "Model Test Accuracy: 0.9647887323943662\n",
      "--------------------------------------------------\n",
      "Model Test Confusion Matrix\n",
      "First ten features by importances:\n",
      "['AC', 'ASTV', 'ALTV', 'MSTV', 'Mean', 'DP', 'UC', 'Mode', 'Median', 'Variance']\n"
     ]
    },
    {
     "data": {
      "image/png": "[encoded data removed]",
      "text/plain": [
       "<Figure size 432x288 with 2 Axes>"
      ]
     },
     "metadata": {
      "needs_background": "light"
     },
     "output_type": "display_data"
    }
   ],
   "source": [
    "model = ml_functions.model_evaluation(model,X_test,y_test)"
   ]
  },
  {
   "cell_type": "code",
   "execution_count": 12,
   "id": "6302c49c-4815-4598-81c3-a0cf411029bc",
   "metadata": {},
   "outputs": [],
   "source": [
    "df = ml_functions.model_serving(df,model,class_nsp,X_test)"
   ]
  },
  {
   "cell_type": "code",
   "execution_count": 13,
   "id": "4f0609ba-3f00-46f1-a18d-1675b24f4dec",
   "metadata": {},
   "outputs": [
    {
     "data": {
      "text/plain": [
       "<AxesSubplot:>"
      ]
     },
     "execution_count": 13,
     "metadata": {},
     "output_type": "execute_result"
    },
    {
     "data": {
      "image/png": "[encoded data removed]",
      "text/plain": [
       "<Figure size 432x288 with 1 Axes>"
      ]
     },
     "metadata": {
      "needs_background": "light"
     },
     "output_type": "display_data"
    }
   ],
   "source": [
    "df['proba_classe_1.0'].hist()"
   ]
  },
  {
   "cell_type": "markdown",
   "id": "171713e4-df4a-4153-aada-a7dca99f8252",
   "metadata": {},
   "source": [
    "## 3.2 Classe 2"
   ]
  },
  {
   "cell_type": "code",
   "execution_count": 14,
   "id": "890c8c25-2fed-4b9d-9717-2c4c32f43d73",
   "metadata": {},
   "outputs": [],
   "source": [
    "class_nsp = 2.0"
   ]
  },
  {
   "cell_type": "code",
   "execution_count": 15,
   "id": "1175043a-c350-4ff7-b152-da634e9a99ac",
   "metadata": {},
   "outputs": [],
   "source": [
    "df_model, df_ml = ml_functions.model_preparation(df_ml,class_nsp)"
   ]
  },
  {
   "cell_type": "code",
   "execution_count": 16,
   "id": "4b9b2532-0604-4dce-8dd7-98ec94199df5",
   "metadata": {},
   "outputs": [
    {
     "name": "stdout",
     "output_type": "stream",
     "text": [
      "(590, 22)\n",
      "AUC Score:  0.5263668430335097\n",
      "Adversarial validation check: NO CONCEPT DRIFT: Train and Test set are statistical similar\n",
      "GridSearchCV results...\n",
      "Mean Train Scores: \n",
      "[0.97058304 0.96492563 0.98416926 0.9751105  0.9943426  0.98642915\n",
      " 0.98642915 0.98190169 1.         0.99774011 1.         1.        ]\n",
      "\n",
      "Mean CV Scores: \n",
      "[0.90272415 0.89818901 0.90499173 0.90272415 0.90272415 0.90045658\n",
      " 0.9049764  0.90267819 0.9072593  0.90499173 0.91179445 0.90951155]\n",
      "\n",
      "Best Parameters: \n",
      "{'model__depth': 3, 'model__iterations': 800, 'model__l2_leaf_reg': 4}\n",
      "\n"
     ]
    }
   ],
   "source": [
    "model, X_test, y_test = ml_functions.model_training(df_model)"
   ]
  },
  {
   "cell_type": "code",
   "execution_count": 17,
   "id": "41e62767-d8dc-4f17-81bb-9035688aebb4",
   "metadata": {},
   "outputs": [
    {
     "name": "stdout",
     "output_type": "stream",
     "text": [
      "Test results...\n",
      "Model Test Accuracy: 0.9256756756756757\n",
      "--------------------------------------------------\n",
      "Model Test Confusion Matrix\n",
      "First ten features by importances:\n",
      "['ASTV', 'ALTV', 'AC', 'MSTV', 'Mean', 'Mode', 'MLTV', 'UC', 'DP', 'Median']\n"
     ]
    },
    {
     "data": {
      "image/png": "[encoded data removed]",
      "text/plain": [
       "<Figure size 432x288 with 2 Axes>"
      ]
     },
     "metadata": {
      "needs_background": "light"
     },
     "output_type": "display_data"
    }
   ],
   "source": [
    "model = ml_functions.model_evaluation(model,X_test,y_test)"
   ]
  },
  {
   "cell_type": "code",
   "execution_count": 18,
   "id": "d5ee14fd-0023-4664-a806-561c7490a855",
   "metadata": {},
   "outputs": [],
   "source": [
    "df = ml_functions.model_serving(df,model,class_nsp,X_test)"
   ]
  },
  {
   "cell_type": "code",
   "execution_count": 19,
   "id": "3ef5c944-ee0b-48ff-acfc-4ae592fb52fa",
   "metadata": {},
   "outputs": [
    {
     "data": {
      "text/plain": [
       "<AxesSubplot:>"
      ]
     },
     "execution_count": 19,
     "metadata": {},
     "output_type": "execute_result"
    },
    {
     "data": {
      "image/png": "[encoded data removed]",
      "text/plain": [
       "<Figure size 432x288 with 1 Axes>"
      ]
     },
     "metadata": {
      "needs_background": "light"
     },
     "output_type": "display_data"
    }
   ],
   "source": [
    "df['proba_classe_2.0'].hist()"
   ]
  },
  {
   "cell_type": "markdown",
   "id": "7806219f-b01c-4dfa-b5a0-b61acc165709",
   "metadata": {},
   "source": [
    "## 3.3 Classe 3"
   ]
  },
  {
   "cell_type": "code",
   "execution_count": 20,
   "id": "84208283-871c-49cd-9650-43f6414ddc08",
   "metadata": {},
   "outputs": [],
   "source": [
    "class_nsp = 3.0"
   ]
  },
  {
   "cell_type": "code",
   "execution_count": 21,
   "id": "fe570fee-7912-4e41-b2e7-5eb82070910f",
   "metadata": {},
   "outputs": [],
   "source": [
    "df_model, df_ml = ml_functions.model_preparation(df_ml,class_nsp)"
   ]
  },
  {
   "cell_type": "code",
   "execution_count": 22,
   "id": "2c519814-9d2e-4a0b-b8f7-cacb9782dc97",
   "metadata": {},
   "outputs": [
    {
     "name": "stdout",
     "output_type": "stream",
     "text": [
      "(352, 22)\n",
      "AUC Score:  0.5195630081300813\n",
      "Adversarial validation check: NO CONCEPT DRIFT: Train and Test set are statistical similar\n",
      "GridSearchCV results...\n",
      "Mean Train Scores: \n",
      "[1. 1. 1. 1. 1. 1. 1. 1. 1. 1. 1. 1.]\n",
      "\n",
      "Mean CV Scores: \n",
      "[0.95075758 0.95454545 0.95454545 0.95075758 0.95833333 0.95833333\n",
      " 0.95833333 0.96590909 0.96212121 0.96590909 0.96212121 0.96590909]\n",
      "\n",
      "Best Parameters: \n",
      "{'model__depth': 3, 'model__iterations': 400, 'model__l2_leaf_reg': 6}\n",
      "\n"
     ]
    }
   ],
   "source": [
    "model, X_test, y_test = ml_functions.model_training(df_model)"
   ]
  },
  {
   "cell_type": "code",
   "execution_count": 23,
   "id": "12ab183e-73b4-4685-8a8b-e97aa8bd46fa",
   "metadata": {},
   "outputs": [
    {
     "name": "stdout",
     "output_type": "stream",
     "text": [
      "Test results...\n",
      "Model Test Accuracy: 0.9659090909090909\n",
      "--------------------------------------------------\n",
      "Model Test Confusion Matrix\n",
      "First ten features by importances:\n",
      "['Mean', 'ALTV', 'ASTV', 'Variance', 'DP', 'Median', 'AC', 'Mode', 'MSTV', 'MLTV']\n"
     ]
    },
    {
     "data": {
      "image/png": "[encoded data removed]",
      "text/plain": [
       "<Figure size 432x288 with 2 Axes>"
      ]
     },
     "metadata": {
      "needs_background": "light"
     },
     "output_type": "display_data"
    }
   ],
   "source": [
    "model = ml_functions.model_evaluation(model,X_test,y_test)"
   ]
  },
  {
   "cell_type": "code",
   "execution_count": 24,
   "id": "62e7db28-2685-480d-9cd1-69d6cc51e9e8",
   "metadata": {},
   "outputs": [],
   "source": [
    "df = ml_functions.model_serving(df,model,class_nsp,X_test)"
   ]
  },
  {
   "cell_type": "code",
   "execution_count": 25,
   "id": "71075f1d-492b-49e4-9e15-ad492bed1296",
   "metadata": {},
   "outputs": [
    {
     "data": {
      "text/plain": [
       "<AxesSubplot:>"
      ]
     },
     "execution_count": 25,
     "metadata": {},
     "output_type": "execute_result"
    },
    {
     "data": {
      "image/png": "[encoded data removed]",
      "text/plain": [
       "<Figure size 432x288 with 1 Axes>"
      ]
     },
     "metadata": {
      "needs_background": "light"
     },
     "output_type": "display_data"
    }
   ],
   "source": [
    "df['proba_classe_3.0'].hist()"
   ]
  },
  {
   "cell_type": "markdown",
   "id": "b71ba449-aedc-4754-80ba-8fdb1d87ed9c",
   "metadata": {},
   "source": [
    "# 4.0 Output"
   ]
  },
  {
   "cell_type": "code",
   "execution_count": 26,
   "id": "29c8e663-15c5-4e86-8760-b63284bc459f",
   "metadata": {},
   "outputs": [],
   "source": [
    "cols = ['proba_classe_1.0','proba_classe_2.0', 'proba_classe_3.0']"
   ]
  },
  {
   "cell_type": "code",
   "execution_count": 27,
   "id": "67df7cb7-b9c8-4048-95ae-d0b285368942",
   "metadata": {},
   "outputs": [],
   "source": [
    "df[cols] = df[cols].apply(lambda x: x / x.sum(),axis=1)"
   ]
  },
  {
   "cell_type": "code",
   "execution_count": 30,
   "id": "d238c0ea-a06e-4bc6-bd55-070f4afc1978",
   "metadata": {},
   "outputs": [
    {
     "data": {
      "text/html": [
       "<div>\n",
       "<style scoped>\n",
       "    .dataframe tbody tr th:only-of-type {\n",
       "        vertical-align: middle;\n",
       "    }\n",
       "\n",
       "    .dataframe tbody tr th {\n",
       "        vertical-align: top;\n",
       "    }\n",
       "\n",
       "    .dataframe thead th {\n",
       "        text-align: right;\n",
       "    }\n",
       "</style>\n",
       "<table border=\"1\" class=\"dataframe\">\n",
       "  <thead>\n",
       "    <tr style=\"text-align: right;\">\n",
       "      <th></th>\n",
       "      <th>LBE</th>\n",
       "      <th>LB</th>\n",
       "      <th>AC</th>\n",
       "      <th>FM</th>\n",
       "      <th>UC</th>\n",
       "      <th>ASTV</th>\n",
       "      <th>MSTV</th>\n",
       "      <th>ALTV</th>\n",
       "      <th>MLTV</th>\n",
       "      <th>DL</th>\n",
       "      <th>DS</th>\n",
       "      <th>DP</th>\n",
       "      <th>Width</th>\n",
       "      <th>Min</th>\n",
       "      <th>Max</th>\n",
       "      <th>Nmax</th>\n",
       "      <th>Nzeros</th>\n",
       "      <th>Mode</th>\n",
       "      <th>Mean</th>\n",
       "      <th>Median</th>\n",
       "      <th>Variance</th>\n",
       "      <th>Tendency</th>\n",
       "      <th>NSP</th>\n",
       "      <th>proba_classe_1.0</th>\n",
       "      <th>proba_classe_2.0</th>\n",
       "      <th>proba_classe_3.0</th>\n",
       "    </tr>\n",
       "    <tr>\n",
       "      <th>SegFile</th>\n",
       "      <th></th>\n",
       "      <th></th>\n",
       "      <th></th>\n",
       "      <th></th>\n",
       "      <th></th>\n",
       "      <th></th>\n",
       "      <th></th>\n",
       "      <th></th>\n",
       "      <th></th>\n",
       "      <th></th>\n",
       "      <th></th>\n",
       "      <th></th>\n",
       "      <th></th>\n",
       "      <th></th>\n",
       "      <th></th>\n",
       "      <th></th>\n",
       "      <th></th>\n",
       "      <th></th>\n",
       "      <th></th>\n",
       "      <th></th>\n",
       "      <th></th>\n",
       "      <th></th>\n",
       "      <th></th>\n",
       "      <th></th>\n",
       "      <th></th>\n",
       "      <th></th>\n",
       "    </tr>\n",
       "  </thead>\n",
       "  <tbody>\n",
       "    <tr>\n",
       "      <th>CTG0271.txt</th>\n",
       "      <td>124.0</td>\n",
       "      <td>124.0</td>\n",
       "      <td>12.0</td>\n",
       "      <td>0.0</td>\n",
       "      <td>8.0</td>\n",
       "      <td>34.0</td>\n",
       "      <td>1.0</td>\n",
       "      <td>0.0</td>\n",
       "      <td>3.1</td>\n",
       "      <td>1.0</td>\n",
       "      <td>0.0</td>\n",
       "      <td>0.0</td>\n",
       "      <td>42.0</td>\n",
       "      <td>106.0</td>\n",
       "      <td>148.0</td>\n",
       "      <td>1.0</td>\n",
       "      <td>0.0</td>\n",
       "      <td>126.0</td>\n",
       "      <td>130.0</td>\n",
       "      <td>130.0</td>\n",
       "      <td>7.0</td>\n",
       "      <td>0.0</td>\n",
       "      <td>1.0</td>\n",
       "      <td>0.995192</td>\n",
       "      <td>0.000684</td>\n",
       "      <td>0.004124</td>\n",
       "    </tr>\n",
       "    <tr>\n",
       "      <th>CTG1814.txt</th>\n",
       "      <td>143.0</td>\n",
       "      <td>143.0</td>\n",
       "      <td>0.0</td>\n",
       "      <td>0.0</td>\n",
       "      <td>7.0</td>\n",
       "      <td>67.0</td>\n",
       "      <td>0.4</td>\n",
       "      <td>4.0</td>\n",
       "      <td>13.3</td>\n",
       "      <td>0.0</td>\n",
       "      <td>0.0</td>\n",
       "      <td>0.0</td>\n",
       "      <td>56.0</td>\n",
       "      <td>106.0</td>\n",
       "      <td>162.0</td>\n",
       "      <td>3.0</td>\n",
       "      <td>1.0</td>\n",
       "      <td>146.0</td>\n",
       "      <td>145.0</td>\n",
       "      <td>147.0</td>\n",
       "      <td>2.0</td>\n",
       "      <td>1.0</td>\n",
       "      <td>1.0</td>\n",
       "      <td>0.464192</td>\n",
       "      <td>0.524363</td>\n",
       "      <td>0.011444</td>\n",
       "    </tr>\n",
       "    <tr>\n",
       "      <th>CTG0696.txt</th>\n",
       "      <td>133.0</td>\n",
       "      <td>133.0</td>\n",
       "      <td>2.0</td>\n",
       "      <td>324.0</td>\n",
       "      <td>4.0</td>\n",
       "      <td>24.0</td>\n",
       "      <td>1.9</td>\n",
       "      <td>0.0</td>\n",
       "      <td>5.7</td>\n",
       "      <td>3.0</td>\n",
       "      <td>0.0</td>\n",
       "      <td>1.0</td>\n",
       "      <td>99.0</td>\n",
       "      <td>59.0</td>\n",
       "      <td>158.0</td>\n",
       "      <td>5.0</td>\n",
       "      <td>0.0</td>\n",
       "      <td>133.0</td>\n",
       "      <td>124.0</td>\n",
       "      <td>130.0</td>\n",
       "      <td>35.0</td>\n",
       "      <td>1.0</td>\n",
       "      <td>1.0</td>\n",
       "      <td>0.594168</td>\n",
       "      <td>0.362063</td>\n",
       "      <td>0.043769</td>\n",
       "    </tr>\n",
       "    <tr>\n",
       "      <th>CTG2030.txt</th>\n",
       "      <td>129.0</td>\n",
       "      <td>129.0</td>\n",
       "      <td>0.0</td>\n",
       "      <td>1.0</td>\n",
       "      <td>6.0</td>\n",
       "      <td>65.0</td>\n",
       "      <td>2.8</td>\n",
       "      <td>0.0</td>\n",
       "      <td>0.0</td>\n",
       "      <td>9.0</td>\n",
       "      <td>0.0</td>\n",
       "      <td>2.0</td>\n",
       "      <td>101.0</td>\n",
       "      <td>50.0</td>\n",
       "      <td>151.0</td>\n",
       "      <td>7.0</td>\n",
       "      <td>2.0</td>\n",
       "      <td>105.0</td>\n",
       "      <td>86.0</td>\n",
       "      <td>112.0</td>\n",
       "      <td>13.0</td>\n",
       "      <td>0.0</td>\n",
       "      <td>3.0</td>\n",
       "      <td>0.007938</td>\n",
       "      <td>0.009084</td>\n",
       "      <td>0.982978</td>\n",
       "    </tr>\n",
       "  </tbody>\n",
       "</table>\n",
       "</div>"
      ],
      "text/plain": [
       "               LBE     LB    AC     FM   UC  ASTV  MSTV  ALTV  MLTV   DL   DS  \\\n",
       "SegFile                                                                         \n",
       "CTG0271.txt  124.0  124.0  12.0    0.0  8.0  34.0   1.0   0.0   3.1  1.0  0.0   \n",
       "CTG1814.txt  143.0  143.0   0.0    0.0  7.0  67.0   0.4   4.0  13.3  0.0  0.0   \n",
       "CTG0696.txt  133.0  133.0   2.0  324.0  4.0  24.0   1.9   0.0   5.7  3.0  0.0   \n",
       "CTG2030.txt  129.0  129.0   0.0    1.0  6.0  65.0   2.8   0.0   0.0  9.0  0.0   \n",
       "\n",
       "              DP  Width    Min    Max  Nmax  Nzeros   Mode   Mean  Median  \\\n",
       "SegFile                                                                     \n",
       "CTG0271.txt  0.0   42.0  106.0  148.0   1.0     0.0  126.0  130.0   130.0   \n",
       "CTG1814.txt  0.0   56.0  106.0  162.0   3.0     1.0  146.0  145.0   147.0   \n",
       "CTG0696.txt  1.0   99.0   59.0  158.0   5.0     0.0  133.0  124.0   130.0   \n",
       "CTG2030.txt  2.0  101.0   50.0  151.0   7.0     2.0  105.0   86.0   112.0   \n",
       "\n",
       "             Variance Tendency  NSP  proba_classe_1.0  proba_classe_2.0  \\\n",
       "SegFile                                                                   \n",
       "CTG0271.txt       7.0      0.0  1.0          0.995192          0.000684   \n",
       "CTG1814.txt       2.0      1.0  1.0          0.464192          0.524363   \n",
       "CTG0696.txt      35.0      1.0  1.0          0.594168          0.362063   \n",
       "CTG2030.txt      13.0      0.0  3.0          0.007938          0.009084   \n",
       "\n",
       "             proba_classe_3.0  \n",
       "SegFile                        \n",
       "CTG0271.txt          0.004124  \n",
       "CTG1814.txt          0.011444  \n",
       "CTG0696.txt          0.043769  \n",
       "CTG2030.txt          0.982978  "
      ]
     },
     "execution_count": 30,
     "metadata": {},
     "output_type": "execute_result"
    }
   ],
   "source": [
    "df.sample(4)"
   ]
  },
  {
   "cell_type": "code",
   "execution_count": null,
   "id": "20bd017b-5e27-4325-9e0d-3f75624da964",
   "metadata": {},
   "outputs": [],
   "source": []
  },
  {
   "cell_type": "code",
   "execution_count": null,
   "id": "8573cc34-36ee-4655-8fe0-451872f3f5b3",
   "metadata": {},
   "outputs": [],
   "source": []
  }
 ],
 "metadata": {
  "kernelspec": {
   "display_name": "Python 3",
   "language": "python",
   "name": "python3"
  },
  "language_info": {
   "codemirror_mode": {
    "name": "ipython",
    "version": 3
   },
   "file_extension": ".py",
   "mimetype": "text/x-python",
   "name": "python",
   "nbconvert_exporter": "python",
   "pygments_lexer": "ipython3",
   "version": "3.9.2"
  }
 },
 "nbformat": 4,
 "nbformat_minor": 5
}
