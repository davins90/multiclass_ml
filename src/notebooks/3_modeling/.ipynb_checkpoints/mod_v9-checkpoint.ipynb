{
 "cells": [
  {
   "cell_type": "code",
   "execution_count": 1,
   "id": "3acdb1c3-7b50-4a52-b469-8fe9b88fd96c",
   "metadata": {},
   "outputs": [],
   "source": [
    "# pip install shap"
   ]
  },
  {
   "cell_type": "code",
   "execution_count": 2,
   "id": "44703ddf-64d7-491c-a5f3-5898f6797733",
   "metadata": {},
   "outputs": [],
   "source": [
    "import pandas as pd\n",
    "import modules\n",
    "\n",
    "from modules import ml_functions\n",
    "\n",
    "pd.set_option('display.max_rows',None)\n",
    "pd.set_option('display.max_columns',None)"
   ]
  },
  {
   "cell_type": "markdown",
   "id": "f823b678-bbfe-4ebe-a130-99811e0fc761",
   "metadata": {},
   "source": [
    "New version file.py"
   ]
  },
  {
   "cell_type": "markdown",
   "id": "efcb1c34-430f-4c71-9c45-98cf7c9842f9",
   "metadata": {},
   "source": [
    "# 1.0 Data retrieval"
   ]
  },
  {
   "cell_type": "code",
   "execution_count": 3,
   "id": "c644be58-4675-4a4d-88ed-8debb7921f2c",
   "metadata": {},
   "outputs": [],
   "source": [
    "df = pd.read_pickle('../../data_lake/output/2_dp.pkl')"
   ]
  },
  {
   "cell_type": "code",
   "execution_count": 4,
   "id": "05b5c2b3-e287-4ce6-8a8d-e5cf2825aaae",
   "metadata": {},
   "outputs": [
    {
     "data": {
      "text/html": [
       "<div>\n",
       "<style scoped>\n",
       "    .dataframe tbody tr th:only-of-type {\n",
       "        vertical-align: middle;\n",
       "    }\n",
       "\n",
       "    .dataframe tbody tr th {\n",
       "        vertical-align: top;\n",
       "    }\n",
       "\n",
       "    .dataframe thead th {\n",
       "        text-align: right;\n",
       "    }\n",
       "</style>\n",
       "<table border=\"1\" class=\"dataframe\">\n",
       "  <thead>\n",
       "    <tr style=\"text-align: right;\">\n",
       "      <th></th>\n",
       "      <th>LBE</th>\n",
       "      <th>LB</th>\n",
       "      <th>AC</th>\n",
       "      <th>FM</th>\n",
       "      <th>UC</th>\n",
       "      <th>ASTV</th>\n",
       "      <th>MSTV</th>\n",
       "      <th>ALTV</th>\n",
       "      <th>MLTV</th>\n",
       "      <th>DL</th>\n",
       "      <th>DS</th>\n",
       "      <th>DP</th>\n",
       "      <th>Width</th>\n",
       "      <th>Min</th>\n",
       "      <th>Max</th>\n",
       "      <th>Nmax</th>\n",
       "      <th>Nzeros</th>\n",
       "      <th>Mode</th>\n",
       "      <th>Mean</th>\n",
       "      <th>Median</th>\n",
       "      <th>Variance</th>\n",
       "      <th>Tendency</th>\n",
       "      <th>CLASS</th>\n",
       "      <th>NSP</th>\n",
       "    </tr>\n",
       "    <tr>\n",
       "      <th>SegFile</th>\n",
       "      <th></th>\n",
       "      <th></th>\n",
       "      <th></th>\n",
       "      <th></th>\n",
       "      <th></th>\n",
       "      <th></th>\n",
       "      <th></th>\n",
       "      <th></th>\n",
       "      <th></th>\n",
       "      <th></th>\n",
       "      <th></th>\n",
       "      <th></th>\n",
       "      <th></th>\n",
       "      <th></th>\n",
       "      <th></th>\n",
       "      <th></th>\n",
       "      <th></th>\n",
       "      <th></th>\n",
       "      <th></th>\n",
       "      <th></th>\n",
       "      <th></th>\n",
       "      <th></th>\n",
       "      <th></th>\n",
       "      <th></th>\n",
       "    </tr>\n",
       "  </thead>\n",
       "  <tbody>\n",
       "    <tr>\n",
       "      <th>CTG0854.txt</th>\n",
       "      <td>138.0</td>\n",
       "      <td>138.0</td>\n",
       "      <td>0.0</td>\n",
       "      <td>0.0</td>\n",
       "      <td>1.0</td>\n",
       "      <td>41.0</td>\n",
       "      <td>0.7</td>\n",
       "      <td>37.0</td>\n",
       "      <td>7.8</td>\n",
       "      <td>0.0</td>\n",
       "      <td>0.0</td>\n",
       "      <td>0.0</td>\n",
       "      <td>25.0</td>\n",
       "      <td>129.0</td>\n",
       "      <td>154.0</td>\n",
       "      <td>2.0</td>\n",
       "      <td>0.0</td>\n",
       "      <td>140.0</td>\n",
       "      <td>140.0</td>\n",
       "      <td>141.0</td>\n",
       "      <td>1.0</td>\n",
       "      <td>0.0</td>\n",
       "      <td>1.0</td>\n",
       "      <td>1.0</td>\n",
       "    </tr>\n",
       "  </tbody>\n",
       "</table>\n",
       "</div>"
      ],
      "text/plain": [
       "               LBE     LB   AC   FM   UC  ASTV  MSTV  ALTV  MLTV   DL   DS  \\\n",
       "SegFile                                                                      \n",
       "CTG0854.txt  138.0  138.0  0.0  0.0  1.0  41.0   0.7  37.0   7.8  0.0  0.0   \n",
       "\n",
       "              DP  Width    Min    Max  Nmax  Nzeros   Mode   Mean  Median  \\\n",
       "SegFile                                                                     \n",
       "CTG0854.txt  0.0   25.0  129.0  154.0   2.0     0.0  140.0  140.0   141.0   \n",
       "\n",
       "             Variance Tendency CLASS  NSP  \n",
       "SegFile                                    \n",
       "CTG0854.txt       1.0      0.0   1.0  1.0  "
      ]
     },
     "execution_count": 4,
     "metadata": {},
     "output_type": "execute_result"
    }
   ],
   "source": [
    "df.sample(1)"
   ]
  },
  {
   "cell_type": "markdown",
   "id": "f912521b-f7d1-4fe3-837d-0b1b236ba189",
   "metadata": {},
   "source": [
    "# 2.0 Data preparation"
   ]
  },
  {
   "cell_type": "code",
   "execution_count": 5,
   "id": "95ecad40-3bf9-44b9-b043-8afb10896217",
   "metadata": {},
   "outputs": [],
   "source": [
    "# for i in df:\n",
    "#     if df[i].dtype == 'object':\n",
    "#         df[i] = df[i].astype(str)"
   ]
  },
  {
   "cell_type": "code",
   "execution_count": 6,
   "id": "ce4cec6c-d0ac-4523-b1e7-7210a5c18167",
   "metadata": {},
   "outputs": [],
   "source": [
    "# df = df.drop(columns='CLASS')"
   ]
  },
  {
   "cell_type": "code",
   "execution_count": 7,
   "id": "088e163f-0c28-419a-8ac0-c1f1fa079152",
   "metadata": {},
   "outputs": [],
   "source": [
    "df_ml = df.copy()"
   ]
  },
  {
   "cell_type": "markdown",
   "id": "e06a1ea8-83b8-4cce-9b67-a57476ea873c",
   "metadata": {},
   "source": [
    "# 3.0 Modeling\n",
    "## 3.1 Classe 1"
   ]
  },
  {
   "cell_type": "code",
   "execution_count": 8,
   "id": "1284ef0f-730c-4de9-96ee-583acf4729f4",
   "metadata": {},
   "outputs": [],
   "source": [
    "class_nsp = 1.0"
   ]
  },
  {
   "cell_type": "code",
   "execution_count": 9,
   "id": "7588ead5-5527-42a7-9031-18f8c9510213",
   "metadata": {},
   "outputs": [],
   "source": [
    "df_model, df_ml = ml_functions.model_preparation(df_ml,class_nsp)"
   ]
  },
  {
   "cell_type": "code",
   "execution_count": 10,
   "id": "eaddfbb9-35a2-445e-b829-02a9ccf8a5c8",
   "metadata": {},
   "outputs": [
    {
     "name": "stdout",
     "output_type": "stream",
     "text": [
      "(942, 23)\n",
      "AUC Score:  0.5235144704433499\n",
      "Adversarial validation check: NO CONCEPT DRIFT: Train and Test set are statistical similar\n"
     ]
    }
   ],
   "source": [
    "X_train, X_test, y_train, y_test, numerical_cols, categorical_cols, parameters = ml_functions.data_splitting(df_model)"
   ]
  },
  {
   "cell_type": "code",
   "execution_count": 11,
   "id": "eea134c6-5fd5-49b2-a5ea-2f18f8c1569c",
   "metadata": {},
   "outputs": [
    {
     "name": "stdout",
     "output_type": "stream",
     "text": [
      "GridSearchCV results...\n",
      "Mean Train Scores: \n",
      "[0.99667994 0.99667994 0.99734385 0.99734385]\n",
      "\n",
      "Mean CV Scores: \n",
      "[0.97872848 0.98007064 0.97740397 0.97873731]\n",
      "\n",
      "Best Parameters: \n",
      "{'model__depth': 3, 'model__iterations': 1000}\n",
      "\n"
     ]
    },
    {
     "ename": "TypeError",
     "evalue": "cannot unpack non-iterable GridSearchCV object",
     "output_type": "error",
     "traceback": [
      "\u001b[0;31m\u001b[0m",
      "\u001b[0;31mTypeError\u001b[0mTraceback (most recent call last)",
      "\u001b[0;32m<ipython-input-11-b6b9b8734cff>\u001b[0m in \u001b[0;36m<module>\u001b[0;34m\u001b[0m\n\u001b[0;32m----> 1\u001b[0;31m \u001b[0mmodel\u001b[0m\u001b[0;34m,\u001b[0m \u001b[0mX_test\u001b[0m\u001b[0;34m,\u001b[0m \u001b[0my_test\u001b[0m \u001b[0;34m=\u001b[0m \u001b[0mml_functions\u001b[0m\u001b[0;34m.\u001b[0m\u001b[0mmodel_training\u001b[0m\u001b[0;34m(\u001b[0m\u001b[0mX_train\u001b[0m\u001b[0;34m,\u001b[0m \u001b[0my_train\u001b[0m\u001b[0;34m,\u001b[0m \u001b[0mnumerical_cols\u001b[0m\u001b[0;34m,\u001b[0m \u001b[0mcategorical_cols\u001b[0m\u001b[0;34m,\u001b[0m \u001b[0mparameters\u001b[0m\u001b[0;34m)\u001b[0m\u001b[0;34m\u001b[0m\u001b[0;34m\u001b[0m\u001b[0m\n\u001b[0m",
      "\u001b[0;31mTypeError\u001b[0m: cannot unpack non-iterable GridSearchCV object"
     ]
    }
   ],
   "source": [
    "model = ml_functions.model_training(X_train, y_train, numerical_cols, categorical_cols, parameters)"
   ]
  },
  {
   "cell_type": "code",
   "execution_count": null,
   "id": "662013dd-58ae-4903-8d67-d1b257b29ae2",
   "metadata": {},
   "outputs": [],
   "source": [
    "model = ml_functions.model_evaluation(model,X_test,y_test)"
   ]
  },
  {
   "cell_type": "code",
   "execution_count": null,
   "id": "6302c49c-4815-4598-81c3-a0cf411029bc",
   "metadata": {},
   "outputs": [],
   "source": [
    "df = ml_functions.model_serving(df,model,class_nsp,X_test)"
   ]
  },
  {
   "cell_type": "code",
   "execution_count": null,
   "id": "4f0609ba-3f00-46f1-a18d-1675b24f4dec",
   "metadata": {},
   "outputs": [],
   "source": [
    "df['proba_classe_1.0'].hist()"
   ]
  },
  {
   "cell_type": "markdown",
   "id": "171713e4-df4a-4153-aada-a7dca99f8252",
   "metadata": {},
   "source": [
    "## 3.2 Classe 2"
   ]
  },
  {
   "cell_type": "code",
   "execution_count": null,
   "id": "890c8c25-2fed-4b9d-9717-2c4c32f43d73",
   "metadata": {},
   "outputs": [],
   "source": [
    "class_nsp = 2.0"
   ]
  },
  {
   "cell_type": "code",
   "execution_count": null,
   "id": "1175043a-c350-4ff7-b152-da634e9a99ac",
   "metadata": {},
   "outputs": [],
   "source": [
    "df_model, df_ml = ml_functions.model_preparation(df_ml,class_nsp)"
   ]
  },
  {
   "cell_type": "code",
   "execution_count": null,
   "id": "4b9b2532-0604-4dce-8dd7-98ec94199df5",
   "metadata": {},
   "outputs": [],
   "source": [
    "model, X_test, y_test = ml_functions.model_training(df_model)"
   ]
  },
  {
   "cell_type": "code",
   "execution_count": null,
   "id": "41e62767-d8dc-4f17-81bb-9035688aebb4",
   "metadata": {},
   "outputs": [],
   "source": [
    "model = ml_functions.model_evaluation(model,X_test,y_test)"
   ]
  },
  {
   "cell_type": "code",
   "execution_count": null,
   "id": "d5ee14fd-0023-4664-a806-561c7490a855",
   "metadata": {},
   "outputs": [],
   "source": [
    "df = ml_functions.model_serving(df,model,class_nsp,X_test)"
   ]
  },
  {
   "cell_type": "code",
   "execution_count": null,
   "id": "3ef5c944-ee0b-48ff-acfc-4ae592fb52fa",
   "metadata": {},
   "outputs": [],
   "source": [
    "df['proba_classe_2.0'].hist()"
   ]
  },
  {
   "cell_type": "markdown",
   "id": "7806219f-b01c-4dfa-b5a0-b61acc165709",
   "metadata": {},
   "source": [
    "## 3.3 Classe 3"
   ]
  },
  {
   "cell_type": "code",
   "execution_count": null,
   "id": "84208283-871c-49cd-9650-43f6414ddc08",
   "metadata": {},
   "outputs": [],
   "source": [
    "class_nsp = 3.0"
   ]
  },
  {
   "cell_type": "code",
   "execution_count": null,
   "id": "fe570fee-7912-4e41-b2e7-5eb82070910f",
   "metadata": {},
   "outputs": [],
   "source": [
    "df_model, df_ml = ml_functions.model_preparation(df_ml,class_nsp)"
   ]
  },
  {
   "cell_type": "code",
   "execution_count": null,
   "id": "2c519814-9d2e-4a0b-b8f7-cacb9782dc97",
   "metadata": {},
   "outputs": [],
   "source": [
    "model, X_test, y_test = ml_functions.model_training(df_model)"
   ]
  },
  {
   "cell_type": "code",
   "execution_count": null,
   "id": "12ab183e-73b4-4685-8a8b-e97aa8bd46fa",
   "metadata": {},
   "outputs": [],
   "source": [
    "model = ml_functions.model_evaluation(model,X_test,y_test)"
   ]
  },
  {
   "cell_type": "code",
   "execution_count": null,
   "id": "62e7db28-2685-480d-9cd1-69d6cc51e9e8",
   "metadata": {},
   "outputs": [],
   "source": [
    "df = ml_functions.model_serving(df,model,class_nsp,X_test)"
   ]
  },
  {
   "cell_type": "code",
   "execution_count": null,
   "id": "71075f1d-492b-49e4-9e15-ad492bed1296",
   "metadata": {},
   "outputs": [],
   "source": [
    "df['proba_classe_3.0'].hist()"
   ]
  },
  {
   "cell_type": "markdown",
   "id": "b71ba449-aedc-4754-80ba-8fdb1d87ed9c",
   "metadata": {},
   "source": [
    "# 4.0 Output"
   ]
  },
  {
   "cell_type": "code",
   "execution_count": null,
   "id": "29c8e663-15c5-4e86-8760-b63284bc459f",
   "metadata": {},
   "outputs": [],
   "source": [
    "cols = ['proba_classe_1.0','proba_classe_2.0', 'proba_classe_3.0']"
   ]
  },
  {
   "cell_type": "code",
   "execution_count": null,
   "id": "67df7cb7-b9c8-4048-95ae-d0b285368942",
   "metadata": {},
   "outputs": [],
   "source": [
    "df[cols] = df[cols].apply(lambda x: x / x.sum(),axis=1)"
   ]
  },
  {
   "cell_type": "code",
   "execution_count": null,
   "id": "d238c0ea-a06e-4bc6-bd55-070f4afc1978",
   "metadata": {},
   "outputs": [],
   "source": [
    "df.sample(4)"
   ]
  },
  {
   "cell_type": "code",
   "execution_count": null,
   "id": "20bd017b-5e27-4325-9e0d-3f75624da964",
   "metadata": {},
   "outputs": [],
   "source": []
  },
  {
   "cell_type": "code",
   "execution_count": null,
   "id": "8573cc34-36ee-4655-8fe0-451872f3f5b3",
   "metadata": {},
   "outputs": [],
   "source": []
  }
 ],
 "metadata": {
  "kernelspec": {
   "display_name": "Python 3",
   "language": "python",
   "name": "python3"
  },
  "language_info": {
   "codemirror_mode": {
    "name": "ipython",
    "version": 3
   },
   "file_extension": ".py",
   "mimetype": "text/x-python",
   "name": "python",
   "nbconvert_exporter": "python",
   "pygments_lexer": "ipython3",
   "version": "3.9.2"
  }
 },
 "nbformat": 4,
 "nbformat_minor": 5
}
