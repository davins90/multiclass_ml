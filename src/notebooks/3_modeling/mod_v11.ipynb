{
 "cells": [
  {
   "cell_type": "code",
   "execution_count": 1,
   "id": "3acdb1c3-7b50-4a52-b469-8fe9b88fd96c",
   "metadata": {},
   "outputs": [],
   "source": [
    "# pip install shap catboost"
   ]
  },
  {
   "cell_type": "code",
   "execution_count": 2,
   "id": "44703ddf-64d7-491c-a5f3-5898f6797733",
   "metadata": {},
   "outputs": [],
   "source": [
    "import pandas as pd\n",
    "import numpy as np\n",
    "import modules\n",
    "import random\n",
    "\n",
    "from scipy.stats import beta\n",
    "from modules import ml_functions\n",
    "import matplotlib.pyplot as plt\n",
    "\n",
    "pd.set_option('display.max_rows',None)\n",
    "pd.set_option('display.max_columns',None)"
   ]
  },
  {
   "cell_type": "markdown",
   "id": "f823b678-bbfe-4ebe-a130-99811e0fc761",
   "metadata": {},
   "source": [
    "New version file.py"
   ]
  },
  {
   "cell_type": "markdown",
   "id": "efcb1c34-430f-4c71-9c45-98cf7c9842f9",
   "metadata": {},
   "source": [
    "# 1.0 Data retrieval"
   ]
  },
  {
   "cell_type": "code",
   "execution_count": 3,
   "id": "c644be58-4675-4a4d-88ed-8debb7921f2c",
   "metadata": {},
   "outputs": [],
   "source": [
    "df = pd.read_pickle('../../data_lake/output/2_dp.pkl')"
   ]
  },
  {
   "cell_type": "code",
   "execution_count": 4,
   "id": "05b5c2b3-e287-4ce6-8a8d-e5cf2825aaae",
   "metadata": {},
   "outputs": [
    {
     "data": {
      "text/html": [
       "<div>\n",
       "<style scoped>\n",
       "    .dataframe tbody tr th:only-of-type {\n",
       "        vertical-align: middle;\n",
       "    }\n",
       "\n",
       "    .dataframe tbody tr th {\n",
       "        vertical-align: top;\n",
       "    }\n",
       "\n",
       "    .dataframe thead th {\n",
       "        text-align: right;\n",
       "    }\n",
       "</style>\n",
       "<table border=\"1\" class=\"dataframe\">\n",
       "  <thead>\n",
       "    <tr style=\"text-align: right;\">\n",
       "      <th></th>\n",
       "      <th>LBE</th>\n",
       "      <th>LB</th>\n",
       "      <th>AC</th>\n",
       "      <th>FM</th>\n",
       "      <th>UC</th>\n",
       "      <th>ASTV</th>\n",
       "      <th>MSTV</th>\n",
       "      <th>ALTV</th>\n",
       "      <th>MLTV</th>\n",
       "      <th>DL</th>\n",
       "      <th>DS</th>\n",
       "      <th>DP</th>\n",
       "      <th>Width</th>\n",
       "      <th>Min</th>\n",
       "      <th>Max</th>\n",
       "      <th>Nmax</th>\n",
       "      <th>Nzeros</th>\n",
       "      <th>Mode</th>\n",
       "      <th>Mean</th>\n",
       "      <th>Median</th>\n",
       "      <th>Variance</th>\n",
       "      <th>Tendency</th>\n",
       "      <th>NSP</th>\n",
       "    </tr>\n",
       "    <tr>\n",
       "      <th>SegFile</th>\n",
       "      <th></th>\n",
       "      <th></th>\n",
       "      <th></th>\n",
       "      <th></th>\n",
       "      <th></th>\n",
       "      <th></th>\n",
       "      <th></th>\n",
       "      <th></th>\n",
       "      <th></th>\n",
       "      <th></th>\n",
       "      <th></th>\n",
       "      <th></th>\n",
       "      <th></th>\n",
       "      <th></th>\n",
       "      <th></th>\n",
       "      <th></th>\n",
       "      <th></th>\n",
       "      <th></th>\n",
       "      <th></th>\n",
       "      <th></th>\n",
       "      <th></th>\n",
       "      <th></th>\n",
       "      <th></th>\n",
       "    </tr>\n",
       "  </thead>\n",
       "  <tbody>\n",
       "    <tr>\n",
       "      <th>CTG0809.txt</th>\n",
       "      <td>146.0</td>\n",
       "      <td>146.0</td>\n",
       "      <td>3.0</td>\n",
       "      <td>0.0</td>\n",
       "      <td>6.0</td>\n",
       "      <td>42.0</td>\n",
       "      <td>1.0</td>\n",
       "      <td>35.0</td>\n",
       "      <td>7.5</td>\n",
       "      <td>5.0</td>\n",
       "      <td>0.0</td>\n",
       "      <td>0.0</td>\n",
       "      <td>88.0</td>\n",
       "      <td>84.0</td>\n",
       "      <td>172.0</td>\n",
       "      <td>2.0</td>\n",
       "      <td>1.0</td>\n",
       "      <td>157.0</td>\n",
       "      <td>151.0</td>\n",
       "      <td>156.0</td>\n",
       "      <td>17.0</td>\n",
       "      <td>1.0</td>\n",
       "      <td>1.0</td>\n",
       "    </tr>\n",
       "  </tbody>\n",
       "</table>\n",
       "</div>"
      ],
      "text/plain": [
       "               LBE     LB   AC   FM   UC  ASTV  MSTV  ALTV  MLTV   DL   DS  \\\n",
       "SegFile                                                                      \n",
       "CTG0809.txt  146.0  146.0  3.0  0.0  6.0  42.0   1.0  35.0   7.5  5.0  0.0   \n",
       "\n",
       "              DP  Width   Min    Max  Nmax  Nzeros   Mode   Mean  Median  \\\n",
       "SegFile                                                                    \n",
       "CTG0809.txt  0.0   88.0  84.0  172.0   2.0     1.0  157.0  151.0   156.0   \n",
       "\n",
       "             Variance Tendency  NSP  \n",
       "SegFile                              \n",
       "CTG0809.txt      17.0      1.0  1.0  "
      ]
     },
     "execution_count": 4,
     "metadata": {},
     "output_type": "execute_result"
    }
   ],
   "source": [
    "df.sample(1)"
   ]
  },
  {
   "cell_type": "markdown",
   "id": "f912521b-f7d1-4fe3-837d-0b1b236ba189",
   "metadata": {},
   "source": [
    "# 2.0 Data preparation"
   ]
  },
  {
   "cell_type": "code",
   "execution_count": 5,
   "id": "088e163f-0c28-419a-8ac0-c1f1fa079152",
   "metadata": {},
   "outputs": [],
   "source": [
    "df_ml = df.copy()"
   ]
  },
  {
   "cell_type": "markdown",
   "id": "e06a1ea8-83b8-4cce-9b67-a57476ea873c",
   "metadata": {},
   "source": [
    "# 3.0 Modeling\n",
    "## 3.1 Classe 1"
   ]
  },
  {
   "cell_type": "code",
   "execution_count": 6,
   "id": "1284ef0f-730c-4de9-96ee-583acf4729f4",
   "metadata": {},
   "outputs": [],
   "source": [
    "class_nsp = 1.0"
   ]
  },
  {
   "cell_type": "code",
   "execution_count": 7,
   "id": "7588ead5-5527-42a7-9031-18f8c9510213",
   "metadata": {},
   "outputs": [],
   "source": [
    "df_model, df_ml = ml_functions.model_preparation(df_ml,class_nsp)"
   ]
  },
  {
   "cell_type": "code",
   "execution_count": 8,
   "id": "eaddfbb9-35a2-445e-b829-02a9ccf8a5c8",
   "metadata": {},
   "outputs": [
    {
     "name": "stdout",
     "output_type": "stream",
     "text": [
      "(942, 22)\n",
      "AUC Score:  0.5674409291149379\n",
      "Adversarial validation check: NO CONCEPT DRIFT: Train and Test set are statistical similar\n"
     ]
    }
   ],
   "source": [
    "X_train, X_test, y_train, y_test, numerical_cols, categorical_cols, parameters = ml_functions.data_splitting(df_model)"
   ]
  },
  {
   "cell_type": "code",
   "execution_count": 9,
   "id": "eea134c6-5fd5-49b2-a5ea-2f18f8c1569c",
   "metadata": {},
   "outputs": [
    {
     "name": "stdout",
     "output_type": "stream",
     "text": [
      "GridSearchCV results...\n",
      "Mean Train Scores: \n",
      "[0.97377013 0.97476626 0.9830686  0.98406473]\n",
      "\n",
      "Mean CV Scores: \n",
      "[0.92961589 0.93492274 0.93227373 0.93228256]\n",
      "\n",
      "Best Parameters: \n",
      "{'model__depth': 3, 'model__iterations': 1000}\n",
      "\n"
     ]
    }
   ],
   "source": [
    "model = ml_functions.model_training(X_train, y_train, numerical_cols, categorical_cols, parameters)"
   ]
  },
  {
   "cell_type": "code",
   "execution_count": 10,
   "id": "662013dd-58ae-4903-8d67-d1b257b29ae2",
   "metadata": {},
   "outputs": [
    {
     "name": "stdout",
     "output_type": "stream",
     "text": [
      "Test results...\n",
      "Model Test Accuracy: 0.9365079365079365\n",
      "--------------------------------------------------\n",
      "Model Test Confusion Matrix\n",
      "First ten features by importances:\n",
      "['AC', 'ASTV', 'MSTV', 'ALTV', 'Mode', 'Mean', 'DP', 'UC', 'Variance', 'Median']\n"
     ]
    },
    {
     "data": {
      "image/png": "[encoded data removed]",
      "text/plain": [
       "<Figure size 432x288 with 2 Axes>"
      ]
     },
     "metadata": {
      "needs_background": "light"
     },
     "output_type": "display_data"
    }
   ],
   "source": [
    "model = ml_functions.model_evaluation(model,X_test,y_test)"
   ]
  },
  {
   "cell_type": "code",
   "execution_count": 11,
   "id": "6302c49c-4815-4598-81c3-a0cf411029bc",
   "metadata": {},
   "outputs": [],
   "source": [
    "df = ml_functions.model_serving(df,model,class_nsp,X_test)"
   ]
  },
  {
   "cell_type": "code",
   "execution_count": 12,
   "id": "4f0609ba-3f00-46f1-a18d-1675b24f4dec",
   "metadata": {},
   "outputs": [
    {
     "data": {
      "text/plain": [
       "<AxesSubplot:>"
      ]
     },
     "execution_count": 12,
     "metadata": {},
     "output_type": "execute_result"
    },
    {
     "data": {
      "image/png": "[encoded data removed]",
      "text/plain": [
       "<Figure size 432x288 with 1 Axes>"
      ]
     },
     "metadata": {
      "needs_background": "light"
     },
     "output_type": "display_data"
    }
   ],
   "source": [
    "df['proba_classe_1.0'].hist()"
   ]
  },
  {
   "cell_type": "markdown",
   "id": "171713e4-df4a-4153-aada-a7dca99f8252",
   "metadata": {},
   "source": [
    "## 3.2 Classe 2"
   ]
  },
  {
   "cell_type": "code",
   "execution_count": 13,
   "id": "890c8c25-2fed-4b9d-9717-2c4c32f43d73",
   "metadata": {},
   "outputs": [],
   "source": [
    "class_nsp = 2.0"
   ]
  },
  {
   "cell_type": "code",
   "execution_count": 14,
   "id": "1175043a-c350-4ff7-b152-da634e9a99ac",
   "metadata": {},
   "outputs": [],
   "source": [
    "df_model, df_ml = ml_functions.model_preparation(df_ml,class_nsp)"
   ]
  },
  {
   "cell_type": "code",
   "execution_count": 15,
   "id": "40be93da-df04-489a-9163-3e744796f8cd",
   "metadata": {},
   "outputs": [
    {
     "name": "stdout",
     "output_type": "stream",
     "text": [
      "(590, 22)\n",
      "AUC Score:  0.5670000000000001\n",
      "Adversarial validation check: NO CONCEPT DRIFT: Train and Test set are statistical similar\n"
     ]
    }
   ],
   "source": [
    "X_train, X_test, y_train, y_test, numerical_cols, categorical_cols, parameters = ml_functions.data_splitting(df_model)"
   ]
  },
  {
   "cell_type": "code",
   "execution_count": 16,
   "id": "4b9b2532-0604-4dce-8dd7-98ec94199df5",
   "metadata": {},
   "outputs": [
    {
     "name": "stdout",
     "output_type": "stream",
     "text": [
      "GridSearchCV results...\n",
      "Mean Train Scores: \n",
      "[0.91527053 0.91889041 0.94189691 0.94249565]\n",
      "\n",
      "Mean CV Scores: \n",
      "[0.8645313  0.86215104 0.88145754 0.87910667]\n",
      "\n",
      "Best Parameters: \n",
      "{'model__depth': 3, 'model__iterations': 100}\n",
      "\n"
     ]
    }
   ],
   "source": [
    "model = ml_functions.model_training(X_train, y_train, numerical_cols, categorical_cols, parameters)"
   ]
  },
  {
   "cell_type": "code",
   "execution_count": 17,
   "id": "41e62767-d8dc-4f17-81bb-9035688aebb4",
   "metadata": {},
   "outputs": [
    {
     "name": "stdout",
     "output_type": "stream",
     "text": [
      "Test results...\n",
      "Model Test Accuracy: 0.9378531073446328\n",
      "--------------------------------------------------\n",
      "Model Test Confusion Matrix\n",
      "First ten features by importances:\n",
      "['AC', 'MSTV', 'ASTV', 'ALTV', 'Mode', 'MLTV', 'DP', 'Mean', 'Nmax', 'LBE']\n"
     ]
    },
    {
     "data": {
      "image/png": "[encoded data removed]",
      "text/plain": [
       "<Figure size 432x288 with 2 Axes>"
      ]
     },
     "metadata": {
      "needs_background": "light"
     },
     "output_type": "display_data"
    }
   ],
   "source": [
    "model = ml_functions.model_evaluation(model,X_test,y_test)"
   ]
  },
  {
   "cell_type": "code",
   "execution_count": 18,
   "id": "d5ee14fd-0023-4664-a806-561c7490a855",
   "metadata": {},
   "outputs": [],
   "source": [
    "df = ml_functions.model_serving(df,model,class_nsp,X_test)"
   ]
  },
  {
   "cell_type": "code",
   "execution_count": 19,
   "id": "3ef5c944-ee0b-48ff-acfc-4ae592fb52fa",
   "metadata": {},
   "outputs": [
    {
     "data": {
      "text/plain": [
       "<AxesSubplot:>"
      ]
     },
     "execution_count": 19,
     "metadata": {},
     "output_type": "execute_result"
    },
    {
     "data": {
      "image/png": "[encoded data removed]",
      "text/plain": [
       "<Figure size 432x288 with 1 Axes>"
      ]
     },
     "metadata": {
      "needs_background": "light"
     },
     "output_type": "display_data"
    }
   ],
   "source": [
    "df['proba_classe_2.0'].hist()"
   ]
  },
  {
   "cell_type": "markdown",
   "id": "7806219f-b01c-4dfa-b5a0-b61acc165709",
   "metadata": {},
   "source": [
    "## 3.3 Classe 3"
   ]
  },
  {
   "cell_type": "code",
   "execution_count": 20,
   "id": "84208283-871c-49cd-9650-43f6414ddc08",
   "metadata": {},
   "outputs": [],
   "source": [
    "class_nsp = 3.0"
   ]
  },
  {
   "cell_type": "code",
   "execution_count": 21,
   "id": "fe570fee-7912-4e41-b2e7-5eb82070910f",
   "metadata": {},
   "outputs": [],
   "source": [
    "df_model, df_ml = ml_functions.model_preparation(df_ml,class_nsp)"
   ]
  },
  {
   "cell_type": "code",
   "execution_count": 22,
   "id": "2c519814-9d2e-4a0b-b8f7-cacb9782dc97",
   "metadata": {},
   "outputs": [
    {
     "name": "stdout",
     "output_type": "stream",
     "text": [
      "(352, 22)\n",
      "AUC Score:  0.568218954248366\n",
      "Adversarial validation check: NO CONCEPT DRIFT: Train and Test set are statistical similar\n"
     ]
    }
   ],
   "source": [
    "X_train, X_test, y_train, y_test, numerical_cols, categorical_cols, parameters = ml_functions.data_splitting(df_model)"
   ]
  },
  {
   "cell_type": "code",
   "execution_count": 23,
   "id": "a241acd6-5d5d-459b-a079-8b30e642b509",
   "metadata": {},
   "outputs": [
    {
     "name": "stdout",
     "output_type": "stream",
     "text": [
      "GridSearchCV results...\n",
      "Mean Train Scores: \n",
      "[0.98983736 0.98882213 0.99491868 0.99695431]\n",
      "\n",
      "Mean CV Scores: \n",
      "[0.94710204 0.94710204 0.94710204 0.95118367]\n",
      "\n",
      "Best Parameters: \n",
      "{'model__depth': 3, 'model__iterations': 200}\n",
      "\n"
     ]
    }
   ],
   "source": [
    "model = ml_functions.model_training(X_train, y_train, numerical_cols, categorical_cols, parameters)"
   ]
  },
  {
   "cell_type": "code",
   "execution_count": 24,
   "id": "12ab183e-73b4-4685-8a8b-e97aa8bd46fa",
   "metadata": {},
   "outputs": [
    {
     "name": "stdout",
     "output_type": "stream",
     "text": [
      "Test results...\n",
      "Model Test Accuracy: 0.9528301886792453\n",
      "--------------------------------------------------\n",
      "Model Test Confusion Matrix\n",
      "First ten features by importances:\n",
      "['Mean', 'ASTV', 'ALTV', 'DP', 'Median', 'Mode', 'MSTV', 'Variance', 'AC', 'MLTV']\n"
     ]
    },
    {
     "data": {
      "image/png": "[encoded data removed]",
      "text/plain": [
       "<Figure size 432x288 with 2 Axes>"
      ]
     },
     "metadata": {
      "needs_background": "light"
     },
     "output_type": "display_data"
    }
   ],
   "source": [
    "model = ml_functions.model_evaluation(model,X_test,y_test)"
   ]
  },
  {
   "cell_type": "code",
   "execution_count": 25,
   "id": "62e7db28-2685-480d-9cd1-69d6cc51e9e8",
   "metadata": {},
   "outputs": [],
   "source": [
    "df = ml_functions.model_serving(df,model,class_nsp,X_test)"
   ]
  },
  {
   "cell_type": "code",
   "execution_count": 26,
   "id": "71075f1d-492b-49e4-9e15-ad492bed1296",
   "metadata": {},
   "outputs": [
    {
     "data": {
      "text/plain": [
       "<AxesSubplot:>"
      ]
     },
     "execution_count": 26,
     "metadata": {},
     "output_type": "execute_result"
    },
    {
     "data": {
      "image/png": "[encoded data removed]",
      "text/plain": [
       "<Figure size 432x288 with 1 Axes>"
      ]
     },
     "metadata": {
      "needs_background": "light"
     },
     "output_type": "display_data"
    }
   ],
   "source": [
    "df['proba_classe_3.0'].hist()"
   ]
  },
  {
   "cell_type": "markdown",
   "id": "b71ba449-aedc-4754-80ba-8fdb1d87ed9c",
   "metadata": {},
   "source": [
    "# 4.0 Normalizing results & Beta correction"
   ]
  },
  {
   "cell_type": "code",
   "execution_count": 27,
   "id": "29c8e663-15c5-4e86-8760-b63284bc459f",
   "metadata": {},
   "outputs": [],
   "source": [
    "cols = ['proba_classe_1.0','proba_classe_2.0', 'proba_classe_3.0']"
   ]
  },
  {
   "cell_type": "code",
   "execution_count": 28,
   "id": "67df7cb7-b9c8-4048-95ae-d0b285368942",
   "metadata": {},
   "outputs": [],
   "source": [
    "df[cols] = df[cols].apply(lambda x: x / x.sum(),axis=1)"
   ]
  },
  {
   "cell_type": "code",
   "execution_count": 29,
   "id": "d238c0ea-a06e-4bc6-bd55-070f4afc1978",
   "metadata": {},
   "outputs": [
    {
     "data": {
      "text/html": [
       "<div>\n",
       "<style scoped>\n",
       "    .dataframe tbody tr th:only-of-type {\n",
       "        vertical-align: middle;\n",
       "    }\n",
       "\n",
       "    .dataframe tbody tr th {\n",
       "        vertical-align: top;\n",
       "    }\n",
       "\n",
       "    .dataframe thead th {\n",
       "        text-align: right;\n",
       "    }\n",
       "</style>\n",
       "<table border=\"1\" class=\"dataframe\">\n",
       "  <thead>\n",
       "    <tr style=\"text-align: right;\">\n",
       "      <th></th>\n",
       "      <th>LBE</th>\n",
       "      <th>LB</th>\n",
       "      <th>AC</th>\n",
       "      <th>FM</th>\n",
       "      <th>UC</th>\n",
       "      <th>ASTV</th>\n",
       "      <th>MSTV</th>\n",
       "      <th>ALTV</th>\n",
       "      <th>MLTV</th>\n",
       "      <th>DL</th>\n",
       "      <th>DS</th>\n",
       "      <th>DP</th>\n",
       "      <th>Width</th>\n",
       "      <th>Min</th>\n",
       "      <th>Max</th>\n",
       "      <th>Nmax</th>\n",
       "      <th>Nzeros</th>\n",
       "      <th>Mode</th>\n",
       "      <th>Mean</th>\n",
       "      <th>Median</th>\n",
       "      <th>Variance</th>\n",
       "      <th>Tendency</th>\n",
       "      <th>NSP</th>\n",
       "      <th>proba_classe_1.0</th>\n",
       "      <th>proba_classe_2.0</th>\n",
       "      <th>proba_classe_3.0</th>\n",
       "    </tr>\n",
       "    <tr>\n",
       "      <th>SegFile</th>\n",
       "      <th></th>\n",
       "      <th></th>\n",
       "      <th></th>\n",
       "      <th></th>\n",
       "      <th></th>\n",
       "      <th></th>\n",
       "      <th></th>\n",
       "      <th></th>\n",
       "      <th></th>\n",
       "      <th></th>\n",
       "      <th></th>\n",
       "      <th></th>\n",
       "      <th></th>\n",
       "      <th></th>\n",
       "      <th></th>\n",
       "      <th></th>\n",
       "      <th></th>\n",
       "      <th></th>\n",
       "      <th></th>\n",
       "      <th></th>\n",
       "      <th></th>\n",
       "      <th></th>\n",
       "      <th></th>\n",
       "      <th></th>\n",
       "      <th></th>\n",
       "      <th></th>\n",
       "    </tr>\n",
       "  </thead>\n",
       "  <tbody>\n",
       "    <tr>\n",
       "      <th>CTG1755.txt</th>\n",
       "      <td>134.0</td>\n",
       "      <td>134.0</td>\n",
       "      <td>4.0</td>\n",
       "      <td>1.0</td>\n",
       "      <td>1.0</td>\n",
       "      <td>61.0</td>\n",
       "      <td>1.8</td>\n",
       "      <td>0.0</td>\n",
       "      <td>0.0</td>\n",
       "      <td>3.0</td>\n",
       "      <td>0.0</td>\n",
       "      <td>3.0</td>\n",
       "      <td>118.0</td>\n",
       "      <td>66.0</td>\n",
       "      <td>184.0</td>\n",
       "      <td>6.0</td>\n",
       "      <td>0.0</td>\n",
       "      <td>88.0</td>\n",
       "      <td>112.0</td>\n",
       "      <td>111.0</td>\n",
       "      <td>182.0</td>\n",
       "      <td>-1.0</td>\n",
       "      <td>3.0</td>\n",
       "      <td>0.031101</td>\n",
       "      <td>0.047439</td>\n",
       "      <td>0.921460</td>\n",
       "    </tr>\n",
       "    <tr>\n",
       "      <th>CTG0339.txt</th>\n",
       "      <td>137.0</td>\n",
       "      <td>137.0</td>\n",
       "      <td>0.0</td>\n",
       "      <td>14.0</td>\n",
       "      <td>0.0</td>\n",
       "      <td>65.0</td>\n",
       "      <td>0.4</td>\n",
       "      <td>11.0</td>\n",
       "      <td>8.1</td>\n",
       "      <td>0.0</td>\n",
       "      <td>0.0</td>\n",
       "      <td>0.0</td>\n",
       "      <td>20.0</td>\n",
       "      <td>133.0</td>\n",
       "      <td>153.0</td>\n",
       "      <td>1.0</td>\n",
       "      <td>0.0</td>\n",
       "      <td>145.0</td>\n",
       "      <td>144.0</td>\n",
       "      <td>146.0</td>\n",
       "      <td>1.0</td>\n",
       "      <td>0.0</td>\n",
       "      <td>2.0</td>\n",
       "      <td>0.033978</td>\n",
       "      <td>0.856435</td>\n",
       "      <td>0.109587</td>\n",
       "    </tr>\n",
       "    <tr>\n",
       "      <th>CTG0812.txt</th>\n",
       "      <td>146.0</td>\n",
       "      <td>146.0</td>\n",
       "      <td>3.0</td>\n",
       "      <td>0.0</td>\n",
       "      <td>4.0</td>\n",
       "      <td>37.0</td>\n",
       "      <td>1.3</td>\n",
       "      <td>31.0</td>\n",
       "      <td>7.2</td>\n",
       "      <td>3.0</td>\n",
       "      <td>0.0</td>\n",
       "      <td>0.0</td>\n",
       "      <td>79.0</td>\n",
       "      <td>93.0</td>\n",
       "      <td>172.0</td>\n",
       "      <td>2.0</td>\n",
       "      <td>2.0</td>\n",
       "      <td>162.0</td>\n",
       "      <td>152.0</td>\n",
       "      <td>156.0</td>\n",
       "      <td>23.0</td>\n",
       "      <td>1.0</td>\n",
       "      <td>1.0</td>\n",
       "      <td>0.866481</td>\n",
       "      <td>0.120678</td>\n",
       "      <td>0.012841</td>\n",
       "    </tr>\n",
       "    <tr>\n",
       "      <th>CTG0259.txt</th>\n",
       "      <td>127.0</td>\n",
       "      <td>127.0</td>\n",
       "      <td>6.0</td>\n",
       "      <td>0.0</td>\n",
       "      <td>4.0</td>\n",
       "      <td>13.0</td>\n",
       "      <td>3.8</td>\n",
       "      <td>0.0</td>\n",
       "      <td>1.3</td>\n",
       "      <td>2.0</td>\n",
       "      <td>0.0</td>\n",
       "      <td>0.0</td>\n",
       "      <td>138.0</td>\n",
       "      <td>53.0</td>\n",
       "      <td>191.0</td>\n",
       "      <td>12.0</td>\n",
       "      <td>1.0</td>\n",
       "      <td>133.0</td>\n",
       "      <td>126.0</td>\n",
       "      <td>131.0</td>\n",
       "      <td>41.0</td>\n",
       "      <td>0.0</td>\n",
       "      <td>1.0</td>\n",
       "      <td>0.958776</td>\n",
       "      <td>0.022182</td>\n",
       "      <td>0.019042</td>\n",
       "    </tr>\n",
       "  </tbody>\n",
       "</table>\n",
       "</div>"
      ],
      "text/plain": [
       "               LBE     LB   AC    FM   UC  ASTV  MSTV  ALTV  MLTV   DL   DS  \\\n",
       "SegFile                                                                       \n",
       "CTG1755.txt  134.0  134.0  4.0   1.0  1.0  61.0   1.8   0.0   0.0  3.0  0.0   \n",
       "CTG0339.txt  137.0  137.0  0.0  14.0  0.0  65.0   0.4  11.0   8.1  0.0  0.0   \n",
       "CTG0812.txt  146.0  146.0  3.0   0.0  4.0  37.0   1.3  31.0   7.2  3.0  0.0   \n",
       "CTG0259.txt  127.0  127.0  6.0   0.0  4.0  13.0   3.8   0.0   1.3  2.0  0.0   \n",
       "\n",
       "              DP  Width    Min    Max  Nmax  Nzeros   Mode   Mean  Median  \\\n",
       "SegFile                                                                     \n",
       "CTG1755.txt  3.0  118.0   66.0  184.0   6.0     0.0   88.0  112.0   111.0   \n",
       "CTG0339.txt  0.0   20.0  133.0  153.0   1.0     0.0  145.0  144.0   146.0   \n",
       "CTG0812.txt  0.0   79.0   93.0  172.0   2.0     2.0  162.0  152.0   156.0   \n",
       "CTG0259.txt  0.0  138.0   53.0  191.0  12.0     1.0  133.0  126.0   131.0   \n",
       "\n",
       "             Variance Tendency  NSP  proba_classe_1.0  proba_classe_2.0  \\\n",
       "SegFile                                                                   \n",
       "CTG1755.txt     182.0     -1.0  3.0          0.031101          0.047439   \n",
       "CTG0339.txt       1.0      0.0  2.0          0.033978          0.856435   \n",
       "CTG0812.txt      23.0      1.0  1.0          0.866481          0.120678   \n",
       "CTG0259.txt      41.0      0.0  1.0          0.958776          0.022182   \n",
       "\n",
       "             proba_classe_3.0  \n",
       "SegFile                        \n",
       "CTG1755.txt          0.921460  \n",
       "CTG0339.txt          0.109587  \n",
       "CTG0812.txt          0.012841  \n",
       "CTG0259.txt          0.019042  "
      ]
     },
     "execution_count": 29,
     "metadata": {},
     "output_type": "execute_result"
    }
   ],
   "source": [
    "df.sample(4)"
   ]
  },
  {
   "cell_type": "markdown",
   "id": "ec57c910-a9df-41ae-a8be-3b76405843aa",
   "metadata": {},
   "source": [
    "Beta correction"
   ]
  },
  {
   "cell_type": "code",
   "execution_count": 30,
   "id": "4f063c1a-4934-4237-af2e-022683ec6803",
   "metadata": {},
   "outputs": [],
   "source": [
    "xax = np.linspace(0,1.0,100)"
   ]
  },
  {
   "cell_type": "code",
   "execution_count": 31,
   "id": "c106ac53-015c-434f-9e6d-d93f09e1c490",
   "metadata": {},
   "outputs": [],
   "source": [
    "num_classe = dict()\n",
    "tot = 0\n",
    "for i in df['NSP'].unique():\n",
    "    num = df[df['NSP']==i].shape[0]\n",
    "    tot = tot + num\n",
    "    num_classe[i] = dict()\n",
    "    num_classe[i]['num'] = num"
   ]
  },
  {
   "cell_type": "code",
   "execution_count": 32,
   "id": "1d16502b-9642-4dcc-9cfe-c7ad16b9d1ad",
   "metadata": {},
   "outputs": [],
   "source": [
    "for i in num_classe:\n",
    "    num_classe[i]['wei'] = num_classe[i]['num'] / tot\n",
    "    num_classe[i]['k'] = num_classe[i]['num'] * num_classe[i]['wei']"
   ]
  },
  {
   "cell_type": "code",
   "execution_count": 33,
   "id": "df8f09c9-6d6a-4058-a862-80018aa69b34",
   "metadata": {},
   "outputs": [],
   "source": [
    "df['proba_classe_1.0_beta'] = df['proba_classe_1.0'].apply(lambda x: beta.pdf(xax,(x * (num_classe['1.0']['k']-2)+1),((1-x) * (num_classe['1.0']['k']-2)+1)))\n",
    "df['proba_classe_2.0_beta'] = df['proba_classe_2.0'].apply(lambda x: beta.pdf(xax,(x * (num_classe['2.0']['k']-2)+1),((1-x) * (num_classe['2.0']['k']-2)+1)))\n",
    "df['proba_classe_3.0_beta'] = df['proba_classe_3.0'].apply(lambda x: beta.pdf(xax,(x * (num_classe['3.0']['k']-2)+1),((1-x) * (num_classe['3.0']['k']-2)+1)))"
   ]
  },
  {
   "cell_type": "code",
   "execution_count": 34,
   "id": "4ac92c72-84eb-4799-a1b7-c16a432720e3",
   "metadata": {},
   "outputs": [],
   "source": [
    "index = random.randint(0,2126)"
   ]
  },
  {
   "cell_type": "code",
   "execution_count": 35,
   "id": "cfbef602-36f3-4214-bde3-f21accfabe6c",
   "metadata": {},
   "outputs": [
    {
     "data": {
      "text/plain": [
       "1704"
      ]
     },
     "execution_count": 35,
     "metadata": {},
     "output_type": "execute_result"
    }
   ],
   "source": [
    "index"
   ]
  },
  {
   "cell_type": "code",
   "execution_count": 36,
   "id": "40431e9d-6a4c-41b2-bd83-4c12ca4b954f",
   "metadata": {},
   "outputs": [
    {
     "data": {
      "text/plain": [
       "<matplotlib.legend.Legend at 0x7f6fddeb8910>"
      ]
     },
     "execution_count": 36,
     "metadata": {},
     "output_type": "execute_result"
    },
    {
     "data": {
      "image/png": "[encoded data removed]",
      "text/plain": [
       "<Figure size 432x288 with 1 Axes>"
      ]
     },
     "metadata": {
      "needs_background": "light"
     },
     "output_type": "display_data"
    }
   ],
   "source": [
    "plt.plot(df['proba_classe_1.0_beta'][index],label='1.0')\n",
    "plt.plot(df['proba_classe_2.0_beta'][index],label='2.0')\n",
    "plt.plot(df['proba_classe_3.0_beta'][index],label='3.0')\n",
    "plt.legend()"
   ]
  },
  {
   "cell_type": "markdown",
   "id": "86dc3aa8-fa88-4c5e-afb5-623f1f71e51c",
   "metadata": {},
   "source": [
    "# 5.0 Output"
   ]
  },
  {
   "cell_type": "code",
   "execution_count": 38,
   "id": "20bd017b-5e27-4325-9e0d-3f75624da964",
   "metadata": {},
   "outputs": [],
   "source": [
    "df.to_pickle('../../data_lake/output/3_mod.pkl')"
   ]
  },
  {
   "cell_type": "code",
   "execution_count": null,
   "id": "8573cc34-36ee-4655-8fe0-451872f3f5b3",
   "metadata": {},
   "outputs": [],
   "source": []
  }
 ],
 "metadata": {
  "kernelspec": {
   "display_name": "Python 3",
   "language": "python",
   "name": "python3"
  },
  "language_info": {
   "codemirror_mode": {
    "name": "ipython",
    "version": 3
   },
   "file_extension": ".py",
   "mimetype": "text/x-python",
   "name": "python",
   "nbconvert_exporter": "python",
   "pygments_lexer": "ipython3",
   "version": "3.9.2"
  }
 },
 "nbformat": 4,
 "nbformat_minor": 5
}
