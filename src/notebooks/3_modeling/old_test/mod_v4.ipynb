{
 "cells": [
  {
   "cell_type": "code",
   "execution_count": 32,
   "id": "44703ddf-64d7-491c-a5f3-5898f6797733",
   "metadata": {},
   "outputs": [],
   "source": [
    "import pandas as pd\n",
    "import numpy as np\n",
    "import matplotlib.pyplot as plt\n",
    "\n",
    "from sklearn.model_selection import train_test_split\n",
    "from sklearn.preprocessing import MinMaxScaler\n",
    "from sklearn.pipeline import Pipeline\n",
    "from sklearn.model_selection import GridSearchCV\n",
    "from sklearn import metrics\n",
    "from sklearn.metrics import *\n",
    "from sklearn.compose import ColumnTransformer\n",
    "from sklearn.preprocessing import OneHotEncoder\n",
    "from sklearn.experimental import enable_iterative_imputer\n",
    "from sklearn.impute import IterativeImputer\n",
    "from sklearn.impute import SimpleImputer\n",
    "from sklearn.ensemble import ExtraTreesRegressor\n",
    "from catboost import Pool, CatBoostClassifier\n",
    "\n",
    "pd.set_option('display.max_rows',None)\n",
    "pd.set_option('display.max_columns',None)"
   ]
  },
  {
   "cell_type": "markdown",
   "id": "efcb1c34-430f-4c71-9c45-98cf7c9842f9",
   "metadata": {},
   "source": [
    "# 1.0 Data retrieval"
   ]
  },
  {
   "cell_type": "code",
   "execution_count": 2,
   "id": "c644be58-4675-4a4d-88ed-8debb7921f2c",
   "metadata": {},
   "outputs": [],
   "source": [
    "df = pd.read_pickle('../../data_lake/output/2_dp.pkl')"
   ]
  },
  {
   "cell_type": "code",
   "execution_count": 3,
   "id": "05b5c2b3-e287-4ce6-8a8d-e5cf2825aaae",
   "metadata": {},
   "outputs": [
    {
     "data": {
      "text/html": [
       "<div>\n",
       "<style scoped>\n",
       "    .dataframe tbody tr th:only-of-type {\n",
       "        vertical-align: middle;\n",
       "    }\n",
       "\n",
       "    .dataframe tbody tr th {\n",
       "        vertical-align: top;\n",
       "    }\n",
       "\n",
       "    .dataframe thead th {\n",
       "        text-align: right;\n",
       "    }\n",
       "</style>\n",
       "<table border=\"1\" class=\"dataframe\">\n",
       "  <thead>\n",
       "    <tr style=\"text-align: right;\">\n",
       "      <th></th>\n",
       "      <th>LBE</th>\n",
       "      <th>LB</th>\n",
       "      <th>AC</th>\n",
       "      <th>FM</th>\n",
       "      <th>UC</th>\n",
       "      <th>ASTV</th>\n",
       "      <th>MSTV</th>\n",
       "      <th>ALTV</th>\n",
       "      <th>MLTV</th>\n",
       "      <th>DL</th>\n",
       "      <th>DS</th>\n",
       "      <th>DP</th>\n",
       "      <th>Width</th>\n",
       "      <th>Min</th>\n",
       "      <th>Max</th>\n",
       "      <th>Nmax</th>\n",
       "      <th>Nzeros</th>\n",
       "      <th>Mode</th>\n",
       "      <th>Mean</th>\n",
       "      <th>Median</th>\n",
       "      <th>Variance</th>\n",
       "      <th>Tendency</th>\n",
       "      <th>CLASS</th>\n",
       "      <th>NSP</th>\n",
       "    </tr>\n",
       "    <tr>\n",
       "      <th>SegFile</th>\n",
       "      <th></th>\n",
       "      <th></th>\n",
       "      <th></th>\n",
       "      <th></th>\n",
       "      <th></th>\n",
       "      <th></th>\n",
       "      <th></th>\n",
       "      <th></th>\n",
       "      <th></th>\n",
       "      <th></th>\n",
       "      <th></th>\n",
       "      <th></th>\n",
       "      <th></th>\n",
       "      <th></th>\n",
       "      <th></th>\n",
       "      <th></th>\n",
       "      <th></th>\n",
       "      <th></th>\n",
       "      <th></th>\n",
       "      <th></th>\n",
       "      <th></th>\n",
       "      <th></th>\n",
       "      <th></th>\n",
       "      <th></th>\n",
       "    </tr>\n",
       "  </thead>\n",
       "  <tbody>\n",
       "    <tr>\n",
       "      <th>CTG0420.txt</th>\n",
       "      <td>137.0</td>\n",
       "      <td>137.0</td>\n",
       "      <td>1.0</td>\n",
       "      <td>0.0</td>\n",
       "      <td>1.0</td>\n",
       "      <td>63.0</td>\n",
       "      <td>0.5</td>\n",
       "      <td>9.0</td>\n",
       "      <td>7.8</td>\n",
       "      <td>0.0</td>\n",
       "      <td>0.0</td>\n",
       "      <td>0.0</td>\n",
       "      <td>75.0</td>\n",
       "      <td>125.0</td>\n",
       "      <td>200.0</td>\n",
       "      <td>4.0</td>\n",
       "      <td>0.0</td>\n",
       "      <td>146.0</td>\n",
       "      <td>144.0</td>\n",
       "      <td>146.0</td>\n",
       "      <td>2.0</td>\n",
       "      <td>-1.0</td>\n",
       "      <td>10.0</td>\n",
       "      <td>2.0</td>\n",
       "    </tr>\n",
       "  </tbody>\n",
       "</table>\n",
       "</div>"
      ],
      "text/plain": [
       "               LBE     LB   AC   FM   UC  ASTV  MSTV  ALTV  MLTV   DL   DS  \\\n",
       "SegFile                                                                      \n",
       "CTG0420.txt  137.0  137.0  1.0  0.0  1.0  63.0   0.5   9.0   7.8  0.0  0.0   \n",
       "\n",
       "              DP  Width    Min    Max  Nmax  Nzeros   Mode   Mean  Median  \\\n",
       "SegFile                                                                     \n",
       "CTG0420.txt  0.0   75.0  125.0  200.0   4.0     0.0  146.0  144.0   146.0   \n",
       "\n",
       "             Variance Tendency CLASS  NSP  \n",
       "SegFile                                    \n",
       "CTG0420.txt       2.0     -1.0  10.0  2.0  "
      ]
     },
     "execution_count": 3,
     "metadata": {},
     "output_type": "execute_result"
    }
   ],
   "source": [
    "df.sample(1)"
   ]
  },
  {
   "cell_type": "markdown",
   "id": "f912521b-f7d1-4fe3-837d-0b1b236ba189",
   "metadata": {},
   "source": [
    "# 2.0 Data preparation"
   ]
  },
  {
   "cell_type": "code",
   "execution_count": 4,
   "id": "95ecad40-3bf9-44b9-b043-8afb10896217",
   "metadata": {},
   "outputs": [],
   "source": [
    "for i in df:\n",
    "    if df[i].dtype == 'object':\n",
    "        df[i] = df[i].astype(str)"
   ]
  },
  {
   "cell_type": "markdown",
   "id": "e06a1ea8-83b8-4cce-9b67-a57476ea873c",
   "metadata": {},
   "source": [
    "# 3.0 Modeling\n",
    "## 3.1 Classe 1"
   ]
  },
  {
   "cell_type": "code",
   "execution_count": 5,
   "id": "94a6d8b1-6ba1-490c-ab1b-83129860ce0d",
   "metadata": {},
   "outputs": [],
   "source": [
    "df1 = df"
   ]
  },
  {
   "cell_type": "code",
   "execution_count": 6,
   "id": "b35c055d-4eee-4b8d-9513-8e5ed90a9e00",
   "metadata": {},
   "outputs": [],
   "source": [
    "df1['NSP'] = df['NSP'].mask((df['NSP'] == '2.0') | (df['NSP'] == '3.0'),'0.0')"
   ]
  },
  {
   "cell_type": "code",
   "execution_count": 7,
   "id": "81217415-4124-4631-bc72-e8adfd48bef2",
   "metadata": {},
   "outputs": [
    {
     "data": {
      "text/plain": [
       "1.0    1655\n",
       "0.0     471\n",
       "Name: NSP, dtype: int64"
      ]
     },
     "execution_count": 7,
     "metadata": {},
     "output_type": "execute_result"
    }
   ],
   "source": [
    "df1['NSP'].value_counts()"
   ]
  },
  {
   "cell_type": "code",
   "execution_count": 10,
   "id": "e5b46dcb-9150-483f-9304-1d7fb6bfcca6",
   "metadata": {},
   "outputs": [],
   "source": [
    "df_under = df1[df1['NSP']=='0.0']\n",
    "df_over = df1[df1['NSP']=='1.0']\n",
    "df_over = df_over.sample(frac=df_under.shape[0]/df_over.shape[0],random_state=0)\n",
    "df2 = df_over.append(df_under).sample(frac=1)"
   ]
  },
  {
   "cell_type": "code",
   "execution_count": 11,
   "id": "9d91369a-361d-4e38-acb6-0b8737a36d23",
   "metadata": {},
   "outputs": [
    {
     "data": {
      "text/plain": [
       "0.0    471\n",
       "1.0    471\n",
       "Name: NSP, dtype: int64"
      ]
     },
     "execution_count": 11,
     "metadata": {},
     "output_type": "execute_result"
    }
   ],
   "source": [
    "df2['NSP'].value_counts()"
   ]
  },
  {
   "cell_type": "code",
   "execution_count": 12,
   "id": "220fa9c3-66b8-4b72-a19d-7c22dc1d9496",
   "metadata": {},
   "outputs": [],
   "source": [
    "# df2['NSP'] = df2['NSP'].mask(df2['NSP']=='3.0','1.0')"
   ]
  },
  {
   "cell_type": "code",
   "execution_count": 13,
   "id": "3aae4c6d-b88e-4366-b6a8-46951c3ed582",
   "metadata": {},
   "outputs": [],
   "source": [
    "X = df2.drop(columns=['NSP'])\n",
    "y = df2[['NSP']]"
   ]
  },
  {
   "cell_type": "code",
   "execution_count": 14,
   "id": "b66197f2-881e-47ed-a07e-980656643990",
   "metadata": {},
   "outputs": [],
   "source": [
    "# pip install catboost"
   ]
  },
  {
   "cell_type": "code",
   "execution_count": 16,
   "id": "009b2a91-a5c9-4e27-b70a-87a4beec6383",
   "metadata": {},
   "outputs": [],
   "source": [
    "X_train, X_test, y_train, y_test = train_test_split(X, y , test_size = 0.4, random_state = 1)"
   ]
  },
  {
   "cell_type": "code",
   "execution_count": 17,
   "id": "91e6bcf5-3584-465d-8559-3bd608e1f308",
   "metadata": {},
   "outputs": [],
   "source": [
    "numerical_cols = X_train.select_dtypes(include=['int64', 'float64']).columns\n",
    "categorical_cols = X_train.select_dtypes(include=['object', 'bool']).columns"
   ]
  },
  {
   "cell_type": "code",
   "execution_count": 18,
   "id": "2fe3739b-58c4-4e47-aaf6-60b99f05d3ed",
   "metadata": {},
   "outputs": [],
   "source": [
    "numerical_preprocessor = Pipeline(steps=[(\"imputer\", IterativeImputer(ExtraTreesRegressor(n_estimators=5,random_state=1,verbose=0),random_state=1,verbose=0,add_indicator=True)),\n",
    "                                     (\"scaler\", MinMaxScaler())])\n",
    "categorical_preprocessor = Pipeline(steps=[(\"imputer\", SimpleImputer(strategy='constant', fill_value='missing',verbose=0,add_indicator=True)),\n",
    "                                       (\"label_enc\", OneHotEncoder(handle_unknown='ignore'))])\n",
    "preprocessor = ColumnTransformer(transformers=[\n",
    "                                           (\"categorical_preprocessor\", categorical_preprocessor, categorical_cols)])\n",
    "preprocessor = ColumnTransformer(transformers=[(\"numerical_preprocessor\", numerical_preprocessor, numerical_cols),\n",
    "                                           (\"categorical_preprocessor\", categorical_preprocessor, categorical_cols)])"
   ]
  },
  {
   "cell_type": "code",
   "execution_count": 19,
   "id": "bad258c2-3831-4d80-b0c1-9075410f6502",
   "metadata": {},
   "outputs": [],
   "source": [
    "pipe_model = CatBoostClassifier(iterations=500, \n",
    "                           loss_function='Logloss', \n",
    "                           eval_metric='Accuracy',\n",
    "                           verbose=False,\n",
    "                           early_stopping_rounds=50,\n",
    "                           depth=3,\n",
    "                           random_state=1)"
   ]
  },
  {
   "cell_type": "code",
   "execution_count": 20,
   "id": "5365c10d-cd1a-421e-a9eb-d43bd8fb6f89",
   "metadata": {},
   "outputs": [],
   "source": [
    "model = Pipeline(steps=[('preprocessor', preprocessor),\n",
    "                        ('model', pipe_model)])"
   ]
  },
  {
   "cell_type": "code",
   "execution_count": 21,
   "id": "d67c90fe-2290-483f-8990-7afa9f59f8b1",
   "metadata": {},
   "outputs": [
    {
     "data": {
      "text/plain": [
       "Pipeline(steps=[('preprocessor',\n",
       "                 ColumnTransformer(transformers=[('numerical_preprocessor',\n",
       "                                                  Pipeline(steps=[('imputer',\n",
       "                                                                   IterativeImputer(add_indicator=True,\n",
       "                                                                                    estimator=ExtraTreesRegressor(n_estimators=5,\n",
       "                                                                                                                  random_state=1),\n",
       "                                                                                    random_state=1)),\n",
       "                                                                  ('scaler',\n",
       "                                                                   MinMaxScaler())]),\n",
       "                                                  Index(['LBE', 'LB', 'AC', 'FM', 'UC', 'ASTV', 'MSTV', 'ALTV', 'MLTV', 'DL',\n",
       "       'DS', 'DP', 'Width', 'Min', '...de', 'Mean',\n",
       "       'Median', 'Variance'],\n",
       "      dtype='object')),\n",
       "                                                 ('categorical_preprocessor',\n",
       "                                                  Pipeline(steps=[('imputer',\n",
       "                                                                   SimpleImputer(add_indicator=True,\n",
       "                                                                                 fill_value='missing',\n",
       "                                                                                 strategy='constant')),\n",
       "                                                                  ('label_enc',\n",
       "                                                                   OneHotEncoder(handle_unknown='ignore'))]),\n",
       "                                                  Index(['Tendency', 'CLASS'], dtype='object'))])),\n",
       "                ('model',\n",
       "                 <catboost.core.CatBoostClassifier object at 0x7f1ad2518af0>)])"
      ]
     },
     "execution_count": 21,
     "metadata": {},
     "output_type": "execute_result"
    }
   ],
   "source": [
    "model.fit(X_train,y_train)"
   ]
  },
  {
   "cell_type": "code",
   "execution_count": 22,
   "id": "b2731ae4-31ee-4532-86e0-969094066cb4",
   "metadata": {},
   "outputs": [],
   "source": [
    "parameters = {'model__depth':[2,3],'model__iterations':[500,1000]}"
   ]
  },
  {
   "cell_type": "code",
   "execution_count": 24,
   "id": "c26519ba-d170-4364-9126-d8cb149191c0",
   "metadata": {},
   "outputs": [
    {
     "name": "stdout",
     "output_type": "stream",
     "text": [
      "GridSearchCV results...\n",
      "Mean Train Scores: \n",
      "[0.99203774 0.99203774 0.99646331 0.99646331]\n",
      "\n",
      "Mean Test Scores: \n",
      "[0.98056212 0.97878907 0.98056212 0.98233517]\n",
      "\n"
     ]
    }
   ],
   "source": [
    "model_grid = GridSearchCV(model,parameters,cv=3,scoring='accuracy',verbose=0,return_train_score=True).fit(X_train,y_train)\n",
    "print('GridSearchCV results...')\n",
    "print(\"Mean Train Scores: \\n{}\\n\".format(model_grid.cv_results_['mean_train_score']))\n",
    "print(\"Mean Test Scores: \\n{}\\n\".format(model_grid.cv_results_['mean_test_score']))"
   ]
  },
  {
   "cell_type": "code",
   "execution_count": 25,
   "id": "94409fff-34cf-4454-a530-802f9c78cfd0",
   "metadata": {},
   "outputs": [
    {
     "name": "stdout",
     "output_type": "stream",
     "text": [
      "Test results...\n"
     ]
    }
   ],
   "source": [
    "print('Test results...')\n",
    "y_test_predict_grid = model_grid.predict(X_test)"
   ]
  },
  {
   "cell_type": "code",
   "execution_count": 26,
   "id": "521fb841-096b-41a3-bb4b-495c76d58f4f",
   "metadata": {},
   "outputs": [
    {
     "name": "stdout",
     "output_type": "stream",
     "text": [
      "Model Test Accuracy: 0.9814323607427056\n",
      "--------------------------------------------------\n",
      "Model Test Confusion Matrix\n"
     ]
    },
    {
     "data": {
      "text/plain": [
       "<sklearn.metrics._plot.confusion_matrix.ConfusionMatrixDisplay at 0x7f1ad08896d0>"
      ]
     },
     "execution_count": 26,
     "metadata": {},
     "output_type": "execute_result"
    },
    {
     "data": {
      "image/png": "[encoded data removed]",
      "text/plain": [
       "<Figure size 432x288 with 2 Axes>"
      ]
     },
     "metadata": {
      "needs_background": "light"
     },
     "output_type": "display_data"
    }
   ],
   "source": [
    "print(\"Model Test Accuracy:\", metrics.accuracy_score(y_test, y_test_predict_grid))\n",
    "print('--------------------------------------------------')\n",
    "print('Model Test Confusion Matrix')\n",
    "cm = confusion_matrix(y_test,y_test_predict_grid,normalize='pred') \n",
    "cmd = ConfusionMatrixDisplay(cm,display_labels=['No sani','Sì sani'])\n",
    "cmd.plot()"
   ]
  },
  {
   "cell_type": "code",
   "execution_count": 38,
   "id": "437b862f-1f03-435c-8468-6307228bc1bd",
   "metadata": {},
   "outputs": [
    {
     "name": "stdout",
     "output_type": "stream",
     "text": [
      "Di seguito le prime 10 features per importanza:\n",
      "['AC', 'MSTV', 'ALTV', 'ASTV', 'DP', 'Mean', 'Mode', 'UC', 'Median', 'DL']\n"
     ]
    }
   ],
   "source": [
    "feature_importances = model_grid.best_estimator_.named_steps['model'].get_feature_importance()\n",
    "feature_names = X_train.columns\n",
    "lista = []\n",
    "for score, name in sorted(zip(feature_importances, feature_names), reverse=True):\n",
    "#         print('{}: {}'.format(name, score))\n",
    "        lista.append(name)\n",
    "print('Di seguito le prime 10 features per importanza:')\n",
    "print(lista[0:10])"
   ]
  },
  {
   "cell_type": "code",
   "execution_count": 28,
   "id": "660dc557-b487-400c-8b09-d04be4a4493c",
   "metadata": {},
   "outputs": [],
   "source": [
    "df['proba_classe_1'] = 0\n",
    "df['proba_classe_1'] = model_grid.predict_proba(df[X_test.columns])[:,1]"
   ]
  },
  {
   "cell_type": "code",
   "execution_count": 29,
   "id": "1959ad39-9cb5-440f-ad95-271f4d1de398",
   "metadata": {},
   "outputs": [
    {
     "data": {
      "text/html": [
       "<div>\n",
       "<style scoped>\n",
       "    .dataframe tbody tr th:only-of-type {\n",
       "        vertical-align: middle;\n",
       "    }\n",
       "\n",
       "    .dataframe tbody tr th {\n",
       "        vertical-align: top;\n",
       "    }\n",
       "\n",
       "    .dataframe thead th {\n",
       "        text-align: right;\n",
       "    }\n",
       "</style>\n",
       "<table border=\"1\" class=\"dataframe\">\n",
       "  <thead>\n",
       "    <tr style=\"text-align: right;\">\n",
       "      <th></th>\n",
       "      <th>LBE</th>\n",
       "      <th>LB</th>\n",
       "      <th>AC</th>\n",
       "      <th>FM</th>\n",
       "      <th>UC</th>\n",
       "      <th>ASTV</th>\n",
       "      <th>MSTV</th>\n",
       "      <th>ALTV</th>\n",
       "      <th>MLTV</th>\n",
       "      <th>DL</th>\n",
       "      <th>DS</th>\n",
       "      <th>DP</th>\n",
       "      <th>Width</th>\n",
       "      <th>Min</th>\n",
       "      <th>Max</th>\n",
       "      <th>Nmax</th>\n",
       "      <th>Nzeros</th>\n",
       "      <th>Mode</th>\n",
       "      <th>Mean</th>\n",
       "      <th>Median</th>\n",
       "      <th>Variance</th>\n",
       "      <th>Tendency</th>\n",
       "      <th>CLASS</th>\n",
       "      <th>NSP</th>\n",
       "      <th>proba_classe_1</th>\n",
       "    </tr>\n",
       "    <tr>\n",
       "      <th>SegFile</th>\n",
       "      <th></th>\n",
       "      <th></th>\n",
       "      <th></th>\n",
       "      <th></th>\n",
       "      <th></th>\n",
       "      <th></th>\n",
       "      <th></th>\n",
       "      <th></th>\n",
       "      <th></th>\n",
       "      <th></th>\n",
       "      <th></th>\n",
       "      <th></th>\n",
       "      <th></th>\n",
       "      <th></th>\n",
       "      <th></th>\n",
       "      <th></th>\n",
       "      <th></th>\n",
       "      <th></th>\n",
       "      <th></th>\n",
       "      <th></th>\n",
       "      <th></th>\n",
       "      <th></th>\n",
       "      <th></th>\n",
       "      <th></th>\n",
       "      <th></th>\n",
       "    </tr>\n",
       "  </thead>\n",
       "  <tbody>\n",
       "    <tr>\n",
       "      <th>CTG1719.txt</th>\n",
       "      <td>131.0</td>\n",
       "      <td>131.0</td>\n",
       "      <td>10.0</td>\n",
       "      <td>1.0</td>\n",
       "      <td>4.0</td>\n",
       "      <td>55.0</td>\n",
       "      <td>2.0</td>\n",
       "      <td>0.0</td>\n",
       "      <td>2.7</td>\n",
       "      <td>1.0</td>\n",
       "      <td>0.0</td>\n",
       "      <td>0.0</td>\n",
       "      <td>85.0</td>\n",
       "      <td>84.0</td>\n",
       "      <td>169.0</td>\n",
       "      <td>6.0</td>\n",
       "      <td>0.0</td>\n",
       "      <td>132.0</td>\n",
       "      <td>140.0</td>\n",
       "      <td>145.0</td>\n",
       "      <td>26.0</td>\n",
       "      <td>1.0</td>\n",
       "      <td>2.0</td>\n",
       "      <td>1.0</td>\n",
       "      <td>0.992508</td>\n",
       "    </tr>\n",
       "  </tbody>\n",
       "</table>\n",
       "</div>"
      ],
      "text/plain": [
       "               LBE     LB    AC   FM   UC  ASTV  MSTV  ALTV  MLTV   DL   DS  \\\n",
       "SegFile                                                                       \n",
       "CTG1719.txt  131.0  131.0  10.0  1.0  4.0  55.0   2.0   0.0   2.7  1.0  0.0   \n",
       "\n",
       "              DP  Width   Min    Max  Nmax  Nzeros   Mode   Mean  Median  \\\n",
       "SegFile                                                                    \n",
       "CTG1719.txt  0.0   85.0  84.0  169.0   6.0     0.0  132.0  140.0   145.0   \n",
       "\n",
       "             Variance Tendency CLASS  NSP  proba_classe_1  \n",
       "SegFile                                                    \n",
       "CTG1719.txt      26.0      1.0   2.0  1.0        0.992508  "
      ]
     },
     "execution_count": 29,
     "metadata": {},
     "output_type": "execute_result"
    }
   ],
   "source": [
    "df.sample(1)"
   ]
  },
  {
   "cell_type": "code",
   "execution_count": 31,
   "id": "d17bed9c-48b5-49d1-a4c8-88e80717d7c0",
   "metadata": {},
   "outputs": [
    {
     "data": {
      "text/plain": [
       "<AxesSubplot:>"
      ]
     },
     "execution_count": 31,
     "metadata": {},
     "output_type": "execute_result"
    },
    {
     "data": {
      "image/png": "[encoded data removed]",
      "text/plain": [
       "<Figure size 432x288 with 1 Axes>"
      ]
     },
     "metadata": {
      "needs_background": "light"
     },
     "output_type": "display_data"
    }
   ],
   "source": [
    "df['proba_classe_1'].hist()"
   ]
  },
  {
   "cell_type": "markdown",
   "id": "24ed690c-1ac5-45f2-b119-946517c7219a",
   "metadata": {},
   "source": [
    "Faccio funzioni"
   ]
  },
  {
   "cell_type": "code",
   "execution_count": 33,
   "id": "0c5388fa-1f7f-4198-b08c-819c7f4cb4e0",
   "metadata": {},
   "outputs": [],
   "source": [
    "def model_preparation(df,classe_nsp):\n",
    "    \"\"\"\n",
    "    \n",
    "    \"\"\"\n",
    "    df1 = df\n",
    "    if classe_nsp == '1.0':\n",
    "        df1['NSP'] = df['NSP'].mask((df['NSP'] == '2.0') | (df['NSP'] == '3.0'),'0.0')\n",
    "    elif classe_nsp == '2.0':\n",
    "        df1['NSP'] = df['NSP'].mask((df['NSP'] == '1.0') | (df['NSP'] == '3.0'),'0.0')\n",
    "    else:\n",
    "        df1['NSP'] = df['NSP'].mask((df['NSP'] == '2.0') | (df['NSP'] == '1.0'),'0.0')\n",
    "    \n",
    "    ## Bilanciamento classi\n",
    "    df_under = df1[df1['NSP']==df1['NSP'].value_counts().index[1]]\n",
    "    df_over = df1[df1['NSP']==df1['NSP'].value_counts().index[0]]\n",
    "    df_over = df_over.sample(frac=df_under.shape[0]/df_over.shape[0],random_state=0)\n",
    "    df2 = df_over.append(df_under).sample(frac=1)\n",
    "    \n",
    "    ## Definizione label\n",
    "    if classe_nsp == '2.0':\n",
    "        df2['NSP'] = df2['NSP'].mask(df2['NSP']=='2.0','1.0')\n",
    "    elif classe_nsp == '3.0':\n",
    "        df2['NSP'] = df2['NSP'].mask(df2['NSP']=='3.0','1.0')\n",
    "    else:\n",
    "        pass\n",
    "    \n",
    "    return df2"
   ]
  },
  {
   "cell_type": "code",
   "execution_count": 40,
   "id": "eadd398d-3670-401a-9c5c-6a74561389c2",
   "metadata": {},
   "outputs": [],
   "source": [
    "def model_training(df):\n",
    "    \"\"\"\n",
    "    \n",
    "    \"\"\"\n",
    "    X = df.drop(columns=['NSP'])\n",
    "    y = df[['NSP']]\n",
    "    pritn(X.shape)\n",
    "    \n",
    "    ##\n",
    "    if X.shape[0] > 800:\n",
    "        X_train, X_test, y_train, y_test = train_test_split(X, y , test_size = 0.35, random_state = 1)\n",
    "        parameters = {'model__depth':[3,4],'model__iterations':[500,1000]}\n",
    "    else:\n",
    "        X_train, X_test, y_train, y_test = train_test_split(X, y , test_size = 0.45, random_state = 1)\n",
    "        parameters = {'model__depth':[2,3],'model__iterations':[400,600]}\n",
    "    \n",
    "    ##\n",
    "    numerical_cols = X_train.select_dtypes(include=['int64', 'float64']).columns\n",
    "    categorical_cols = X_train.select_dtypes(include=['object', 'bool']).columns\n",
    "    \n",
    "    ##\n",
    "    numerical_preprocessor = Pipeline(steps=[(\"imputer\", IterativeImputer(ExtraTreesRegressor(n_estimators=5,random_state=1,verbose=0),random_state=1,verbose=0,add_indicator=True)),\n",
    "                                     (\"scaler\", MinMaxScaler())])\n",
    "    categorical_preprocessor = Pipeline(steps=[(\"imputer\", SimpleImputer(strategy='constant', fill_value='missing',verbose=0,add_indicator=True)),\n",
    "                                           (\"label_enc\", OneHotEncoder(handle_unknown='ignore'))])\n",
    "    preprocessor = ColumnTransformer(transformers=[(\"numerical_preprocessor\", numerical_preprocessor, numerical_cols),\n",
    "                                               (\"categorical_preprocessor\", categorical_preprocessor, categorical_cols)])\n",
    "    pipe_model = CatBoostClassifier(iterations=500, loss_function='Logloss', eval_metric='Accuracy',verbose=False,early_stopping_rounds=50,depth=3,random_state=1)\n",
    "    \n",
    "    ##\n",
    "    model = Pipeline(steps=[('preprocessor', preprocessor),\n",
    "                        ('model', pipe_model)])\n",
    "    ##\n",
    "    model.fit(X_train,y_train)\n",
    "    model_grid = GridSearchCV(model,parameters,cv=3,scoring='accuracy',verbose=0,return_train_score=True).fit(X_train,y_train)\n",
    "    print('GridSearchCV results...')\n",
    "    print(\"Mean Train Scores: \\n{}\\n\".format(model_grid.cv_results_['mean_train_score']))\n",
    "    print(\"Mean Test CV Scores: \\n{}\\n\".format(model_grid.cv_results_['mean_test_score']))\n",
    "    \n",
    "    return model_grid, X_test, y_test"
   ]
  },
  {
   "cell_type": "code",
   "execution_count": 39,
   "id": "104e7a6c-fa05-4ab1-ae22-5ca61fdfaaa3",
   "metadata": {},
   "outputs": [],
   "source": [
    "def model_evaluation(model,X_test,y_test):\n",
    "    \"\"\"\n",
    "    \n",
    "    \"\"\"\n",
    "    print('Test results...')\n",
    "    y_test_predict_grid = model.predict(X_test)    \n",
    "    print(\"Model Test Accuracy:\", metrics.accuracy_score(y_test, y_test_predict_grid))\n",
    "    print('--------------------------------------------------')\n",
    "    print('Model Test Confusion Matrix')\n",
    "    cm = confusion_matrix(y_test,y_test_predict_grid,normalize='pred') \n",
    "    cmd = ConfusionMatrixDisplay(cm,display_labels=['No sani','Sì sani'])\n",
    "    cmd.plot()\n",
    "    \n",
    "    ##\n",
    "    feature_importances = model_grid.best_estimator_.named_steps['model'].get_feature_importance()\n",
    "    feature_names = X_test.columns\n",
    "    lista = []\n",
    "    for score, name in sorted(zip(feature_importances, feature_names), reverse=True):\n",
    "    #         print('{}: {}'.format(name, score))\n",
    "            lista.append(name)\n",
    "    print('Di seguito le prime 10 features per importanza:')\n",
    "    print(lista[0:10])\n",
    "    \n",
    "    return model"
   ]
  },
  {
   "cell_type": "code",
   "execution_count": 41,
   "id": "77c31f71-1ec9-42de-9a76-8d87b4dc85da",
   "metadata": {},
   "outputs": [],
   "source": [
    "def model_serving(df,model,classe_nsp,X_test):\n",
    "    \"\"\"\n",
    "    \n",
    "    \"\"\"\n",
    "    classe_nsp = str(classe_nsp)\n",
    "    df['proba_classe_'+classe_nsp] = 0\n",
    "    df['proba_classe_'+classe_nsp] = model.predict_proba(df[X_test.columns])[:,1]\n",
    "    \n",
    "    return df"
   ]
  },
  {
   "cell_type": "code",
   "execution_count": null,
   "id": "7588ead5-5527-42a7-9031-18f8c9510213",
   "metadata": {},
   "outputs": [],
   "source": []
  }
 ],
 "metadata": {
  "kernelspec": {
   "display_name": "Python 3",
   "language": "python",
   "name": "python3"
  },
  "language_info": {
   "codemirror_mode": {
    "name": "ipython",
    "version": 3
   },
   "file_extension": ".py",
   "mimetype": "text/x-python",
   "name": "python",
   "nbconvert_exporter": "python",
   "pygments_lexer": "ipython3",
   "version": "3.9.2"
  }
 },
 "nbformat": 4,
 "nbformat_minor": 5
}
